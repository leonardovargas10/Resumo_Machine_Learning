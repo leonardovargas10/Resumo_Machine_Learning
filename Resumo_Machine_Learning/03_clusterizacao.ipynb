{
 "cells": [
  {
   "cell_type": "markdown",
   "metadata": {},
   "source": [
    "<h1 style='color: blue; font-size: 34px; font-weight: bold;'> Projeto Proposto \n",
    "</h1>\n",
    "\n",
    "<p style='font-size: 18px; line-height: 2; margin: 0px 0px; text-align: justify; text-indent: 0px;'>    \n",
    "<i> Este projeto baseia-se no Estudo das Técnicas de Machine Learning - Clusterizacao e Redução de Dimensionalidade. </i>       \n",
    "</p>  "
   ]
  },
  {
   "cell_type": "markdown",
   "metadata": {},
   "source": [
    "# <font color='red' style='font-size: 40px;'>Library and Data </font>"
   ]
  },
  {
   "cell_type": "code",
   "execution_count": 1,
   "metadata": {},
   "outputs": [],
   "source": [
    "import pandas as pd \n",
    "import numpy as np\n",
    "import scipy as sp \n",
    "import matplotlib.pyplot as plt\n",
    "import seaborn as sns \n",
    "import statsmodels.api as sm\n",
    "import statsmodels.formula.api as smf\n",
    "import time\n",
    "import datetime\n",
    "import plotly.express as px \n",
    "import plotly.graph_objects as go\n",
    "import warnings\n",
    "\n",
    "\n",
    "\n",
    "%matplotlib inline\n",
    "sns.set()\n",
    "plt.rcParams['font.family'] = 'Arial'\n",
    "plt.rcParams['font.size'] = '14'\n",
    "plt.rcParams['figure.figsize'] = [10, 5]\n",
    "pd.set_option('display.max_rows', 100)\n",
    "pd.set_option('display.max_columns', 100)\n",
    "pd.set_option('display.float_format', lambda x: '%.2f' % x) # Tira os números do formato de Notação Científica\n",
    "np.set_printoptions(suppress=True) # Tira os números do formato de Notação Científica em Numpy Arrays\n",
    "warnings.filterwarnings('ignore') # Remove Warnings\n",
    "warnings.simplefilter(action='ignore', category=FutureWarning) # Retira Future Warnings"
   ]
  },
  {
   "cell_type": "markdown",
   "metadata": {},
   "source": [
    "# <font color='red' style='font-size: 40px;'>1.0 O que é Clusterização? </font>"
   ]
  },
  {
   "attachments": {},
   "cell_type": "markdown",
   "metadata": {},
   "source": [
    "## 1.1) O que é Clusterização? \n",
    "\n",
    "<img src = 'img400.png' width = 70%>\n",
    "<img src = 'img401.png' width = 70%>\n",
    "<img src = './img590.png' width = '70%'>\n",
    "<img src = './img591.png' width = '70%'>\n",
    "<img src = './img592.png' width = '70%'>\n",
    "<img src = './img593.png' width = '70%'>\n",
    "<img src = './img594.png' width = '70%'>\n",
    "<img src = './img595.png' width = '70%'>\n",
    "<img src=\"./img599.png\" width=\"700\">"
   ]
  },
  {
   "attachments": {},
   "cell_type": "markdown",
   "metadata": {},
   "source": [
    "## 1.2) Métricas e Qualidade de Agrupamentos - Como Analisar o Desempenho de um Modelo de Clusterização?\n",
    "\n",
    "> CONSULTAR:\n",
    "\n",
    "https://medium.com/@gilneyjnr/qualidade-de-agrupamentos-ci%C3%AAncia-de-dados-4b1176bef5e5\n",
    "\n",
    "http://each.uspnet.usp.br/sarajane/wp-content/uploads/2015/11/avaliacao_clustering.pdf\n",
    "\n",
    "https://www.dca.fee.unicamp.br/~lboccato/topico_8_clusterizacao.pdf\n",
    "\n",
    "https://towardsdatascience.com/are-you-still-using-the-elbow-method-5d271b3063bd\n",
    "\n",
    "https://github.com/smazzanti/are_you_still_using_elbow_method/blob/main/are-you-still-using-elbow-method.ipynb\n",
    "\n",
    "### Medidas de Dissimilaridade\n",
    "\n",
    "<img src=\"./img596.png\" width=\"700\">\n",
    "<img src=\"./img597.png\" width=\"700\">\n",
    "\n",
    "### Medidas de Similaridade\n",
    "\n",
    "<img src=\"./img598.png\" width=\"700\">\n",
    "\n",
    "\n",
    "### Regra do Cotovelo para Clusterização\n",
    "* 1. A Regra do Cotovelo é o método que o PC utiliza para realizar a Clusterização.\n",
    "\n",
    "* 2. O PC colocará Centróides de maneira Aleatória e, para cada Registro, calculará a distância do mesmo para cada Centróide.\n",
    "\n",
    "* 3. Tal processo será realizado diversas e diversas vezes, até que o PC entenda quais são os Registros mais próximos e Clusterize-os da melhor maneira possível.\n",
    "\n",
    "* 4. Além disso, o intuito é ter o menor número de Clusters possível. É através da Inércia que analisamos isso\n",
    "\n",
    "* 5. A inércia funciona bem em clusters redondos, mas é uma métrica ruim se nossos Clusters são de formato irregular, ou seja, uma variância muito grande.\n",
    "\n",
    "* 6. Por não ser uma métrica normalizada, se temos muitas dimensões (ou variáveis), teremos problemas visto que as distâncias ficam infladas.\n",
    "\n",
    "* 7. Para isso, calcularemos uma Distância de um Ponto a uma Reta.\n",
    "\n",
    "* 8. Este processo é executado para todos os números de Clusters. No fim, pegaremos o Ponto que mais se distancia da Reta, retornando assim o número ideal de Clusters.\n",
    "\n",
    "<img src=\"./img47.png\" width=\"700\">\n",
    "\n",
    "<img src=\"./img49.png\" width=\"700\">\n",
    "\n",
    "<img src=\"./img48.png\" width=\"700\">\n",
    "\n",
    "<img src=\"./img50.png\" width=\"700\">\n",
    "\n"
   ]
  },
  {
   "cell_type": "markdown",
   "metadata": {},
   "source": [
    "# <font color='red' style='font-size: 40px;'>2.0 Importando os Dados  </font>"
   ]
  },
  {
   "cell_type": "markdown",
   "metadata": {},
   "source": [
    "> ATRIBUTOS \n",
    "\n",
    "* CustomerID: Identificação do cliente \n",
    "\n",
    "* Genre: Gênero \n",
    "\n",
    "* Age: Idade \n",
    "\n",
    "* Annual Income (k$): Rendimento Anual \n",
    "\n",
    "* Spending Score (1 a 100): Pontuação de Gastos "
   ]
  },
  {
   "cell_type": "code",
   "execution_count": 2,
   "metadata": {},
   "outputs": [
    {
     "name": "stdout",
     "output_type": "stream",
     "text": [
      "(200, 5)\n",
      "CustomerID                 int64\n",
      "Genre                     object\n",
      "Age                        int64\n",
      "Annual Income (k$)         int64\n",
      "Spending Score (1-100)     int64\n",
      "dtype: object\n"
     ]
    },
    {
     "data": {
      "text/html": [
       "<div>\n",
       "<style scoped>\n",
       "    .dataframe tbody tr th:only-of-type {\n",
       "        vertical-align: middle;\n",
       "    }\n",
       "\n",
       "    .dataframe tbody tr th {\n",
       "        vertical-align: top;\n",
       "    }\n",
       "\n",
       "    .dataframe thead th {\n",
       "        text-align: right;\n",
       "    }\n",
       "</style>\n",
       "<table border=\"1\" class=\"dataframe\">\n",
       "  <thead>\n",
       "    <tr style=\"text-align: right;\">\n",
       "      <th></th>\n",
       "      <th>CustomerID</th>\n",
       "      <th>Genre</th>\n",
       "      <th>Age</th>\n",
       "      <th>Annual Income (k$)</th>\n",
       "      <th>Spending Score (1-100)</th>\n",
       "    </tr>\n",
       "  </thead>\n",
       "  <tbody>\n",
       "    <tr>\n",
       "      <th>0</th>\n",
       "      <td>1</td>\n",
       "      <td>Male</td>\n",
       "      <td>19</td>\n",
       "      <td>15</td>\n",
       "      <td>39</td>\n",
       "    </tr>\n",
       "    <tr>\n",
       "      <th>1</th>\n",
       "      <td>2</td>\n",
       "      <td>Male</td>\n",
       "      <td>21</td>\n",
       "      <td>15</td>\n",
       "      <td>81</td>\n",
       "    </tr>\n",
       "    <tr>\n",
       "      <th>2</th>\n",
       "      <td>3</td>\n",
       "      <td>Female</td>\n",
       "      <td>20</td>\n",
       "      <td>16</td>\n",
       "      <td>6</td>\n",
       "    </tr>\n",
       "    <tr>\n",
       "      <th>3</th>\n",
       "      <td>4</td>\n",
       "      <td>Female</td>\n",
       "      <td>23</td>\n",
       "      <td>16</td>\n",
       "      <td>77</td>\n",
       "    </tr>\n",
       "    <tr>\n",
       "      <th>4</th>\n",
       "      <td>5</td>\n",
       "      <td>Female</td>\n",
       "      <td>31</td>\n",
       "      <td>17</td>\n",
       "      <td>40</td>\n",
       "    </tr>\n",
       "  </tbody>\n",
       "</table>\n",
       "</div>"
      ],
      "text/plain": [
       "   CustomerID   Genre  Age  Annual Income (k$)  Spending Score (1-100)\n",
       "0           1    Male   19                  15                      39\n",
       "1           2    Male   21                  15                      81\n",
       "2           3  Female   20                  16                       6\n",
       "3           4  Female   23                  16                      77\n",
       "4           5  Female   31                  17                      40"
      ]
     },
     "execution_count": 2,
     "metadata": {},
     "output_type": "execute_result"
    }
   ],
   "source": [
    "df = pd.read_csv('Mall_Customers.csv')\n",
    "print(df.shape)\n",
    "print(df.dtypes)\n",
    "df.head()"
   ]
  },
  {
   "cell_type": "code",
   "execution_count": 3,
   "metadata": {},
   "outputs": [],
   "source": [
    "df.rename(\n",
    "    {\n",
    "        'CustomerID':'identificacao',\n",
    "        'Genre':'genero',\n",
    "        'Age':'idade',\n",
    "        'Annual Income (k$)':'rendimento', \n",
    "        'Spending Score (1-100)':'pontuacao'\n",
    "    }, \n",
    "    axis = 1, \n",
    "    inplace = True)"
   ]
  },
  {
   "cell_type": "markdown",
   "metadata": {},
   "source": [
    "# <font color='red' style='font-size: 40px;'>3.0 Análise Exploratória  </font>"
   ]
  },
  {
   "cell_type": "markdown",
   "metadata": {},
   "source": [
    "* Conferindo valores nulos  "
   ]
  },
  {
   "cell_type": "code",
   "execution_count": 4,
   "metadata": {},
   "outputs": [
    {
     "data": {
      "text/plain": [
       "identificacao    0\n",
       "genero           0\n",
       "idade            0\n",
       "rendimento       0\n",
       "pontuacao        0\n",
       "dtype: int64"
      ]
     },
     "execution_count": 4,
     "metadata": {},
     "output_type": "execute_result"
    }
   ],
   "source": [
    "df.isnull().sum()"
   ]
  },
  {
   "cell_type": "markdown",
   "metadata": {},
   "source": [
    "* Estatística Descritiva "
   ]
  },
  {
   "cell_type": "code",
   "execution_count": 5,
   "metadata": {},
   "outputs": [
    {
     "data": {
      "text/html": [
       "<div>\n",
       "<style scoped>\n",
       "    .dataframe tbody tr th:only-of-type {\n",
       "        vertical-align: middle;\n",
       "    }\n",
       "\n",
       "    .dataframe tbody tr th {\n",
       "        vertical-align: top;\n",
       "    }\n",
       "\n",
       "    .dataframe thead th {\n",
       "        text-align: right;\n",
       "    }\n",
       "</style>\n",
       "<table border=\"1\" class=\"dataframe\">\n",
       "  <thead>\n",
       "    <tr style=\"text-align: right;\">\n",
       "      <th></th>\n",
       "      <th>identificacao</th>\n",
       "      <th>idade</th>\n",
       "      <th>rendimento</th>\n",
       "      <th>pontuacao</th>\n",
       "    </tr>\n",
       "  </thead>\n",
       "  <tbody>\n",
       "    <tr>\n",
       "      <th>count</th>\n",
       "      <td>200.00</td>\n",
       "      <td>200.00</td>\n",
       "      <td>200.00</td>\n",
       "      <td>200.00</td>\n",
       "    </tr>\n",
       "    <tr>\n",
       "      <th>mean</th>\n",
       "      <td>100.50</td>\n",
       "      <td>38.85</td>\n",
       "      <td>60.56</td>\n",
       "      <td>50.20</td>\n",
       "    </tr>\n",
       "    <tr>\n",
       "      <th>std</th>\n",
       "      <td>57.88</td>\n",
       "      <td>13.97</td>\n",
       "      <td>26.26</td>\n",
       "      <td>25.82</td>\n",
       "    </tr>\n",
       "    <tr>\n",
       "      <th>min</th>\n",
       "      <td>1.00</td>\n",
       "      <td>18.00</td>\n",
       "      <td>15.00</td>\n",
       "      <td>1.00</td>\n",
       "    </tr>\n",
       "    <tr>\n",
       "      <th>25%</th>\n",
       "      <td>50.75</td>\n",
       "      <td>28.75</td>\n",
       "      <td>41.50</td>\n",
       "      <td>34.75</td>\n",
       "    </tr>\n",
       "    <tr>\n",
       "      <th>50%</th>\n",
       "      <td>100.50</td>\n",
       "      <td>36.00</td>\n",
       "      <td>61.50</td>\n",
       "      <td>50.00</td>\n",
       "    </tr>\n",
       "    <tr>\n",
       "      <th>75%</th>\n",
       "      <td>150.25</td>\n",
       "      <td>49.00</td>\n",
       "      <td>78.00</td>\n",
       "      <td>73.00</td>\n",
       "    </tr>\n",
       "    <tr>\n",
       "      <th>max</th>\n",
       "      <td>200.00</td>\n",
       "      <td>70.00</td>\n",
       "      <td>137.00</td>\n",
       "      <td>99.00</td>\n",
       "    </tr>\n",
       "  </tbody>\n",
       "</table>\n",
       "</div>"
      ],
      "text/plain": [
       "       identificacao  idade  rendimento  pontuacao\n",
       "count         200.00 200.00      200.00     200.00\n",
       "mean          100.50  38.85       60.56      50.20\n",
       "std            57.88  13.97       26.26      25.82\n",
       "min             1.00  18.00       15.00       1.00\n",
       "25%            50.75  28.75       41.50      34.75\n",
       "50%           100.50  36.00       61.50      50.00\n",
       "75%           150.25  49.00       78.00      73.00\n",
       "max           200.00  70.00      137.00      99.00"
      ]
     },
     "execution_count": 5,
     "metadata": {},
     "output_type": "execute_result"
    }
   ],
   "source": [
    "df.describe()"
   ]
  },
  {
   "cell_type": "markdown",
   "metadata": {},
   "source": [
    "* Análise de Variáveis Quantitativas "
   ]
  },
  {
   "cell_type": "code",
   "execution_count": 6,
   "metadata": {},
   "outputs": [
    {
     "data": {
      "image/png": "[encoded data removed]",
      "text/plain": [
       "<Figure size 1000x500 with 1 Axes>"
      ]
     },
     "metadata": {},
     "output_type": "display_data"
    },
    {
     "name": "stderr",
     "output_type": "stream",
     "text": [
      "No artists with labels found to put in legend.  Note that artists whose label start with an underscore are ignored when legend() is called with no argument.\n"
     ]
    },
    {
     "data": {
      "image/png": "[encoded data removed]",
      "text/plain": [
       "<Figure size 1000x500 with 1 Axes>"
      ]
     },
     "metadata": {},
     "output_type": "display_data"
    },
    {
     "data": {
      "image/png": "[encoded data removed]",
      "text/plain": [
       "<Figure size 1000x500 with 1 Axes>"
      ]
     },
     "metadata": {},
     "output_type": "display_data"
    },
    {
     "name": "stderr",
     "output_type": "stream",
     "text": [
      "No artists with labels found to put in legend.  Note that artists whose label start with an underscore are ignored when legend() is called with no argument.\n"
     ]
    },
    {
     "data": {
      "image/png": "[encoded data removed]",
      "text/plain": [
       "<Figure size 1000x500 with 1 Axes>"
      ]
     },
     "metadata": {},
     "output_type": "display_data"
    },
    {
     "data": {
      "image/png": "[encoded data removed]",
      "text/plain": [
       "<Figure size 1000x500 with 1 Axes>"
      ]
     },
     "metadata": {},
     "output_type": "display_data"
    },
    {
     "name": "stderr",
     "output_type": "stream",
     "text": [
      "No artists with labels found to put in legend.  Note that artists whose label start with an underscore are ignored when legend() is called with no argument.\n"
     ]
    },
    {
     "data": {
      "image/png": "[encoded data removed]",
      "text/plain": [
       "<Figure size 1000x500 with 1 Axes>"
      ]
     },
     "metadata": {},
     "output_type": "display_data"
    }
   ],
   "source": [
    "def plota_histograma(data, feature):\n",
    "\n",
    "    mediana = data[feature].median()\n",
    "    media = round(data[feature].mean(), 2)\n",
    "\n",
    "    plt.figure(figsize = (10,5))\n",
    "    sns.histplot(data = data, x = feature, color = '#1FB3E5', bins = 60)\n",
    "    plt.title(f'Distribuição {feature}', fontsize = 16)\n",
    "    plt.xlabel('Intervalo de Valores', fontsize = 14)\n",
    "    plt.ylabel('Frequência', fontsize = 14)\n",
    "    plt.axvline(x = mediana, ymax = 0.75 ,color = '#231F20', linestyle = '-', label = f'mediana = {mediana}')\n",
    "    plt.axvline(x = media, ymax = 0.75,color = '#231F20', linestyle = '--', label = f'media = {media}')\n",
    "    plt.box(False)\n",
    "    plt.legend(loc = 'best')\n",
    "    plt.show()\n",
    "\n",
    "def plota_boxplot(data, feature):\n",
    "    plt.figure(figsize = (10,5))\n",
    "    sns.boxplot(data = data, x = feature, orient = 'h', color = '#1FB3E5')\n",
    "    plt.title(f'Boxplot {feature}', fontsize = 16)\n",
    "    plt.xlabel('Intervalo de Valores', fontsize = 14)\n",
    "    plt.box(False)\n",
    "    plt.legend(loc = 'best')\n",
    "    plt.show()\n",
    "\n",
    "\n",
    "features_quant = list(df.columns[2:])\n",
    "for feature in features_quant:\n",
    "    plota_histograma(df, feature)\n",
    "    plota_boxplot(df, feature)\n",
    "    "
   ]
  },
  {
   "cell_type": "markdown",
   "metadata": {},
   "source": [
    "* Análise de Variáveis Qualitativas  "
   ]
  },
  {
   "cell_type": "code",
   "execution_count": 7,
   "metadata": {},
   "outputs": [
    {
     "data": {
      "image/png": "[encoded data removed]",
      "text/plain": [
       "<Figure size 1000x500 with 1 Axes>"
      ]
     },
     "metadata": {},
     "output_type": "display_data"
    }
   ],
   "source": [
    "def plota_countplot(data, feature):\n",
    "    plt.figure(figsize = (10,5))\n",
    "    sns.countplot(data = data, x = feature)\n",
    "    plt.title(f'Frequência {feature}', fontsize = 16)\n",
    "    plt.xlabel('{feature}', fontsize = 14)\n",
    "    plt.ylabel('Frequência', fontsize = 14)\n",
    "    plt.box(False)\n",
    "    plt.show()\n",
    "\n",
    "plota_countplot(df, 'genero')\n"
   ]
  },
  {
   "cell_type": "markdown",
   "metadata": {},
   "source": [
    "# <font color='red' style='font-size: 40px;'>4.0 Pré-Processamento </font>\n"
   ]
  },
  {
   "cell_type": "markdown",
   "metadata": {},
   "source": [
    "* Excluindo Identificação de Cliente "
   ]
  },
  {
   "cell_type": "code",
   "execution_count": 8,
   "metadata": {},
   "outputs": [
    {
     "data": {
      "text/html": [
       "<div>\n",
       "<style scoped>\n",
       "    .dataframe tbody tr th:only-of-type {\n",
       "        vertical-align: middle;\n",
       "    }\n",
       "\n",
       "    .dataframe tbody tr th {\n",
       "        vertical-align: top;\n",
       "    }\n",
       "\n",
       "    .dataframe thead th {\n",
       "        text-align: right;\n",
       "    }\n",
       "</style>\n",
       "<table border=\"1\" class=\"dataframe\">\n",
       "  <thead>\n",
       "    <tr style=\"text-align: right;\">\n",
       "      <th></th>\n",
       "      <th>genero</th>\n",
       "      <th>idade</th>\n",
       "      <th>rendimento</th>\n",
       "      <th>pontuacao</th>\n",
       "    </tr>\n",
       "  </thead>\n",
       "  <tbody>\n",
       "    <tr>\n",
       "      <th>0</th>\n",
       "      <td>Male</td>\n",
       "      <td>19</td>\n",
       "      <td>15</td>\n",
       "      <td>39</td>\n",
       "    </tr>\n",
       "    <tr>\n",
       "      <th>1</th>\n",
       "      <td>Male</td>\n",
       "      <td>21</td>\n",
       "      <td>15</td>\n",
       "      <td>81</td>\n",
       "    </tr>\n",
       "    <tr>\n",
       "      <th>2</th>\n",
       "      <td>Female</td>\n",
       "      <td>20</td>\n",
       "      <td>16</td>\n",
       "      <td>6</td>\n",
       "    </tr>\n",
       "    <tr>\n",
       "      <th>3</th>\n",
       "      <td>Female</td>\n",
       "      <td>23</td>\n",
       "      <td>16</td>\n",
       "      <td>77</td>\n",
       "    </tr>\n",
       "    <tr>\n",
       "      <th>4</th>\n",
       "      <td>Female</td>\n",
       "      <td>31</td>\n",
       "      <td>17</td>\n",
       "      <td>40</td>\n",
       "    </tr>\n",
       "  </tbody>\n",
       "</table>\n",
       "</div>"
      ],
      "text/plain": [
       "   genero  idade  rendimento  pontuacao\n",
       "0    Male     19          15         39\n",
       "1    Male     21          15         81\n",
       "2  Female     20          16          6\n",
       "3  Female     23          16         77\n",
       "4  Female     31          17         40"
      ]
     },
     "execution_count": 8,
     "metadata": {},
     "output_type": "execute_result"
    }
   ],
   "source": [
    "df2 = df.drop('identificacao', axis = 1)\n",
    "df2.head()"
   ]
  },
  {
   "cell_type": "markdown",
   "metadata": {},
   "source": [
    "* Label Encoding "
   ]
  },
  {
   "cell_type": "code",
   "execution_count": 9,
   "metadata": {},
   "outputs": [
    {
     "data": {
      "text/html": [
       "<div>\n",
       "<style scoped>\n",
       "    .dataframe tbody tr th:only-of-type {\n",
       "        vertical-align: middle;\n",
       "    }\n",
       "\n",
       "    .dataframe tbody tr th {\n",
       "        vertical-align: top;\n",
       "    }\n",
       "\n",
       "    .dataframe thead th {\n",
       "        text-align: right;\n",
       "    }\n",
       "</style>\n",
       "<table border=\"1\" class=\"dataframe\">\n",
       "  <thead>\n",
       "    <tr style=\"text-align: right;\">\n",
       "      <th></th>\n",
       "      <th>genero</th>\n",
       "      <th>idade</th>\n",
       "      <th>rendimento</th>\n",
       "      <th>pontuacao</th>\n",
       "    </tr>\n",
       "  </thead>\n",
       "  <tbody>\n",
       "    <tr>\n",
       "      <th>0</th>\n",
       "      <td>1</td>\n",
       "      <td>19</td>\n",
       "      <td>15</td>\n",
       "      <td>39</td>\n",
       "    </tr>\n",
       "    <tr>\n",
       "      <th>1</th>\n",
       "      <td>1</td>\n",
       "      <td>21</td>\n",
       "      <td>15</td>\n",
       "      <td>81</td>\n",
       "    </tr>\n",
       "    <tr>\n",
       "      <th>2</th>\n",
       "      <td>0</td>\n",
       "      <td>20</td>\n",
       "      <td>16</td>\n",
       "      <td>6</td>\n",
       "    </tr>\n",
       "    <tr>\n",
       "      <th>3</th>\n",
       "      <td>0</td>\n",
       "      <td>23</td>\n",
       "      <td>16</td>\n",
       "      <td>77</td>\n",
       "    </tr>\n",
       "    <tr>\n",
       "      <th>4</th>\n",
       "      <td>0</td>\n",
       "      <td>31</td>\n",
       "      <td>17</td>\n",
       "      <td>40</td>\n",
       "    </tr>\n",
       "  </tbody>\n",
       "</table>\n",
       "</div>"
      ],
      "text/plain": [
       "   genero  idade  rendimento  pontuacao\n",
       "0       1     19          15         39\n",
       "1       1     21          15         81\n",
       "2       0     20          16          6\n",
       "3       0     23          16         77\n",
       "4       0     31          17         40"
      ]
     },
     "execution_count": 9,
     "metadata": {},
     "output_type": "execute_result"
    }
   ],
   "source": [
    "from sklearn.preprocessing import LabelEncoder\n",
    "\n",
    "def label_encoding(data, feature):\n",
    "    return LabelEncoder().fit_transform(data[feature])\n",
    "\n",
    "df2['genero'] = label_encoding(df, 'genero')\n",
    "df2.head()"
   ]
  },
  {
   "cell_type": "markdown",
   "metadata": {},
   "source": [
    "* Escalonamento "
   ]
  },
  {
   "cell_type": "code",
   "execution_count": 10,
   "metadata": {},
   "outputs": [
    {
     "data": {
      "text/html": [
       "<div>\n",
       "<style scoped>\n",
       "    .dataframe tbody tr th:only-of-type {\n",
       "        vertical-align: middle;\n",
       "    }\n",
       "\n",
       "    .dataframe tbody tr th {\n",
       "        vertical-align: top;\n",
       "    }\n",
       "\n",
       "    .dataframe thead th {\n",
       "        text-align: right;\n",
       "    }\n",
       "</style>\n",
       "<table border=\"1\" class=\"dataframe\">\n",
       "  <thead>\n",
       "    <tr style=\"text-align: right;\">\n",
       "      <th></th>\n",
       "      <th>genero</th>\n",
       "      <th>idade</th>\n",
       "      <th>rendimento</th>\n",
       "      <th>pontuacao</th>\n",
       "    </tr>\n",
       "  </thead>\n",
       "  <tbody>\n",
       "    <tr>\n",
       "      <th>0</th>\n",
       "      <td>1.13</td>\n",
       "      <td>-1.42</td>\n",
       "      <td>-1.74</td>\n",
       "      <td>-0.43</td>\n",
       "    </tr>\n",
       "    <tr>\n",
       "      <th>1</th>\n",
       "      <td>1.13</td>\n",
       "      <td>-1.28</td>\n",
       "      <td>-1.74</td>\n",
       "      <td>1.20</td>\n",
       "    </tr>\n",
       "    <tr>\n",
       "      <th>2</th>\n",
       "      <td>-0.89</td>\n",
       "      <td>-1.35</td>\n",
       "      <td>-1.70</td>\n",
       "      <td>-1.72</td>\n",
       "    </tr>\n",
       "    <tr>\n",
       "      <th>3</th>\n",
       "      <td>-0.89</td>\n",
       "      <td>-1.14</td>\n",
       "      <td>-1.70</td>\n",
       "      <td>1.04</td>\n",
       "    </tr>\n",
       "    <tr>\n",
       "      <th>4</th>\n",
       "      <td>-0.89</td>\n",
       "      <td>-0.56</td>\n",
       "      <td>-1.66</td>\n",
       "      <td>-0.40</td>\n",
       "    </tr>\n",
       "    <tr>\n",
       "      <th>...</th>\n",
       "      <td>...</td>\n",
       "      <td>...</td>\n",
       "      <td>...</td>\n",
       "      <td>...</td>\n",
       "    </tr>\n",
       "    <tr>\n",
       "      <th>195</th>\n",
       "      <td>-0.89</td>\n",
       "      <td>-0.28</td>\n",
       "      <td>2.27</td>\n",
       "      <td>1.12</td>\n",
       "    </tr>\n",
       "    <tr>\n",
       "      <th>196</th>\n",
       "      <td>-0.89</td>\n",
       "      <td>0.44</td>\n",
       "      <td>2.50</td>\n",
       "      <td>-0.86</td>\n",
       "    </tr>\n",
       "    <tr>\n",
       "      <th>197</th>\n",
       "      <td>1.13</td>\n",
       "      <td>-0.49</td>\n",
       "      <td>2.50</td>\n",
       "      <td>0.92</td>\n",
       "    </tr>\n",
       "    <tr>\n",
       "      <th>198</th>\n",
       "      <td>1.13</td>\n",
       "      <td>-0.49</td>\n",
       "      <td>2.92</td>\n",
       "      <td>-1.25</td>\n",
       "    </tr>\n",
       "    <tr>\n",
       "      <th>199</th>\n",
       "      <td>1.13</td>\n",
       "      <td>-0.64</td>\n",
       "      <td>2.92</td>\n",
       "      <td>1.27</td>\n",
       "    </tr>\n",
       "  </tbody>\n",
       "</table>\n",
       "<p>200 rows × 4 columns</p>\n",
       "</div>"
      ],
      "text/plain": [
       "     genero  idade  rendimento  pontuacao\n",
       "0      1.13  -1.42       -1.74      -0.43\n",
       "1      1.13  -1.28       -1.74       1.20\n",
       "2     -0.89  -1.35       -1.70      -1.72\n",
       "3     -0.89  -1.14       -1.70       1.04\n",
       "4     -0.89  -0.56       -1.66      -0.40\n",
       "..      ...    ...         ...        ...\n",
       "195   -0.89  -0.28        2.27       1.12\n",
       "196   -0.89   0.44        2.50      -0.86\n",
       "197    1.13  -0.49        2.50       0.92\n",
       "198    1.13  -0.49        2.92      -1.25\n",
       "199    1.13  -0.64        2.92       1.27\n",
       "\n",
       "[200 rows x 4 columns]"
      ]
     },
     "execution_count": 10,
     "metadata": {},
     "output_type": "execute_result"
    }
   ],
   "source": [
    "from sklearn.preprocessing import StandardScaler\n",
    "\n",
    "def padronizacao(data, feature, padroniza):\n",
    "\n",
    "    scaler = StandardScaler()\n",
    "    padronizado = scaler.fit_transform(data[feature])\n",
    "    if padroniza == False:\n",
    "        inverte_padronizacao = scaler.inverse_transform(data[feature])\n",
    "        return inverte_padronizacao\n",
    "    else:\n",
    "        return padronizado\n",
    "\n",
    "\n",
    "df2_esc = padronizacao(df2, list(df2.columns), True)\n",
    "df2_esc = pd.DataFrame(data = df2_esc, columns = df2.columns)\n",
    "df2_esc"
   ]
  },
  {
   "cell_type": "markdown",
   "metadata": {},
   "source": [
    "# <font color='red' style='font-size: 40px;'>5.0 Modelos de Clusterização e Redução de Dimensionalidade  </font>\n",
    "\n",
    "> CONSULTAR:\n",
    "\n",
    "https://medium.com/@isnardgurgel/an%C3%A1lises-com-algoritmos-de-clustering-40d52f36f67c\n",
    "\n",
    "https://www.youtube.com/watch?v=GBSTT5NBE4g&t=1s&ab_channel=RafinhadosDados\n"
   ]
  },
  {
   "attachments": {},
   "cell_type": "markdown",
   "metadata": {},
   "source": [
    "## 5.1) K-Means \n",
    "\n",
    "> CONSULTAR:\n",
    "\n",
    "https://medium.com/cwi-software/entendendo-clusters-e-k-means-56b79352b452\n",
    "\n",
    "https://medium.com/@isnardgurgel/an%C3%A1lises-com-algoritmos-de-clustering-40d52f36f67c\n",
    "\n",
    "https://www.youtube.com/watch?v=KN44-5oXZ7w&ab_channel=Meajuda%2CJH%21\n",
    "\n",
    "https://www.youtube.com/watch?v=o6txmOn2IUk&list=PLFE-LjWAAP9R4G0WOXWuha4P5cCvw7hGB&index=2&ab_channel=DataICMC\n",
    "\n",
    "https://www.youtube.com/watch?v=2hsMErlQtcI&list=PL-t7zzWJWPtzhZtI-bWWHFtCfxtjmBdIW&index=22&ab_channel=UniversoDiscreto\n",
    "\n",
    "https://www.youtube.com/watch?v=p2twwtegYkU&list=PL-t7zzWJWPtzhZtI-bWWHFtCfxtjmBdIW&index=23&ab_channel=UniversoDiscreto\n",
    "\n",
    "- Resumo KMeans: \n",
    "\n",
    "    - O KMeans é um Algoritmo Não-Supervisionado de Clusterização.\n",
    "    - Ele tem bom desempenho em Clusters com formato esférico e bem separados.\n",
    "    - Ele tem desempenho ruim quando os Clusters tem tamanhos variados, densidades diferentes ou formas não esféricas.\n",
    "    - Seu intuito é Agrupar os Dados e rotulá-los.\n",
    "    - Inicialmente, posiciona-se os Centróides aleatoriamente. \n",
    "    - Em seguida, o Algoritmo calcula a distância entre o Centróide mais próximo e cada registro a fim de rotulá-lo.\n",
    "    - Com os rótulos prontos, a média entre os registros em cada cluster é calculada e o Centróide é movido para lá.\n",
    "    - O processo se inicia novamente, até um momento que os Centróides parem de se mover.\n",
    "    - O Algoritmo tem o baseia-se em uma característica chamada 'Inércia', a qual é a soma do quadrado da diferença entre cada ponto e o Centróide para cada um dos Clusters, de forma a termos Cluster muito Agrupados e com a Menor Inércia possível.\n",
    "    - Para calcular o número de 'K' ideal, utiliza-se o Elbow Method (Regra do Cotovelo), o qual é um método gráfico que tenta achar o ponto de inflexão em uma relação entre o Número de Clusters e o Valor de Inércia. No ponto que parece um \"cotovelo\", lá estará o número ideal de Clusters para o K-Means.\n",
    "    - Como métrica, tem-se o Coeficiente de Shilhouette, o qual análisa a Distância Intra-Cluster (distância média entre um dado e todos os outros dados no mesmo Cluster) e a Distância Entre-Clusters (distância média entre um dado e todos os outros dados do Cluster mais próximo). Quanto mais próximo de 1, mais próximos os dados de um mesmo Cluster estão e mais distantes dos Clusters vizinhos. \n",
    "    - Por ser um Algoritmo baseado em Distâncias, escalas das variáveis podem afetá-lo, portanto, é recomendado o Escalonamento dos dados.\n",
    "\n",
    "### 1) Conceitos Fundamentais \n",
    "\n",
    "> 1. Primeiramente, inicializa-se os Centroides aleatoriamente (centros de um Cluster).\n",
    "\n",
    "> 2. Depois, para cada registro na base de dados, calcula a distância para cada Centroide e associa ao que estiver mais perto.\n",
    "\n",
    "> 3. Na próxima iteração, cada Centroide será movido para a posição média dos pontos de cada Cluster(repetir as etapas 2, 3).\n",
    "\n",
    "> 4. Haverá iteração até chegarmos na Convergência, ou seja, não houver mais mudanças de registros entre os Cluster, ou seja, até os registros em azul ficarem apenas no Cluster Azul, os registros verdes ficarem apenas no Cluster Verde e os registros vermelhos ficarem apenas no Cluster Vermelho.\n",
    "\n",
    "> 5. Por conta disso, ele é um Algoritmo caro computacionalmente, além de ser afetado por Outliers por sempre basear-se em Distâncias.\n",
    "\n",
    "<img src = './img127.png' width = '70%'>\n",
    "<img src = './img402.png' width = '70%'>\n",
    "<img src = './img403.png' width = '70%'>\n",
    "<img src = './img404.png' width = '70%'>\n",
    "\n",
    "### 2) Fundamentos \n",
    "\n",
    "<img src = './img405.png' width = '70%'>\n",
    "<img src = './img406.png' width = '70%'>\n",
    "<img src = './img407.png' width = '70%'>\n",
    "<img src = './img408.png' width = '70%'>\n",
    "<img src = './img409.png' width = '70%'>\n",
    "<img src = './img410.png' width = '70%'>\n",
    "<img src = './img432.png' width = '70%'>\n",
    "<img src = './img433.png' width = '70%'>\n",
    "<img src = './img434.png' width = '70%'>\n",
    "<img src = './img435.png' width = '70%'>\n"
   ]
  },
  {
   "cell_type": "markdown",
   "metadata": {},
   "source": [
    "### 3) Implementação em Python do Algoritmo K-Means "
   ]
  },
  {
   "cell_type": "code",
   "execution_count": 11,
   "metadata": {},
   "outputs": [
    {
     "data": {
      "text/html": [
       "<div>\n",
       "<style scoped>\n",
       "    .dataframe tbody tr th:only-of-type {\n",
       "        vertical-align: middle;\n",
       "    }\n",
       "\n",
       "    .dataframe tbody tr th {\n",
       "        vertical-align: top;\n",
       "    }\n",
       "\n",
       "    .dataframe thead th {\n",
       "        text-align: right;\n",
       "    }\n",
       "</style>\n",
       "<table border=\"1\" class=\"dataframe\">\n",
       "  <thead>\n",
       "    <tr style=\"text-align: right;\">\n",
       "      <th></th>\n",
       "      <th>genero</th>\n",
       "      <th>idade</th>\n",
       "      <th>rendimento</th>\n",
       "      <th>pontuacao</th>\n",
       "    </tr>\n",
       "  </thead>\n",
       "  <tbody>\n",
       "    <tr>\n",
       "      <th>0</th>\n",
       "      <td>1</td>\n",
       "      <td>19</td>\n",
       "      <td>15</td>\n",
       "      <td>39</td>\n",
       "    </tr>\n",
       "    <tr>\n",
       "      <th>1</th>\n",
       "      <td>1</td>\n",
       "      <td>21</td>\n",
       "      <td>15</td>\n",
       "      <td>81</td>\n",
       "    </tr>\n",
       "    <tr>\n",
       "      <th>2</th>\n",
       "      <td>0</td>\n",
       "      <td>20</td>\n",
       "      <td>16</td>\n",
       "      <td>6</td>\n",
       "    </tr>\n",
       "    <tr>\n",
       "      <th>3</th>\n",
       "      <td>0</td>\n",
       "      <td>23</td>\n",
       "      <td>16</td>\n",
       "      <td>77</td>\n",
       "    </tr>\n",
       "    <tr>\n",
       "      <th>4</th>\n",
       "      <td>0</td>\n",
       "      <td>31</td>\n",
       "      <td>17</td>\n",
       "      <td>40</td>\n",
       "    </tr>\n",
       "  </tbody>\n",
       "</table>\n",
       "</div>"
      ],
      "text/plain": [
       "   genero  idade  rendimento  pontuacao\n",
       "0       1     19          15         39\n",
       "1       1     21          15         81\n",
       "2       0     20          16          6\n",
       "3       0     23          16         77\n",
       "4       0     31          17         40"
      ]
     },
     "execution_count": 11,
     "metadata": {},
     "output_type": "execute_result"
    }
   ],
   "source": [
    "df2.head()"
   ]
  },
  {
   "cell_type": "markdown",
   "metadata": {},
   "source": [
    "* Funções Importantes \n",
    "\n"
   ]
  },
  {
   "cell_type": "code",
   "execution_count": 12,
   "metadata": {},
   "outputs": [],
   "source": [
    "# Elbow Method\n",
    "from sklearn.cluster import KMeans\n",
    "\n",
    "def elbow_method(data, features):\n",
    "    wcss = []\n",
    "    for n_clusters in np.arange(1, 11):\n",
    "        kmeans = KMeans(n_clusters = n_clusters, init = 'k-means++', random_state = 42, max_iter = 300)\n",
    "        kmeans.fit(data[features].values)\n",
    "        # Inertia: Método para gerar o WCSS\n",
    "        wcss.append(kmeans.inertia_)\n",
    "\n",
    "    plt.figure(figsize=(10, 5))\n",
    "    sns.lineplot(np.arange(1, 11), wcss, marker = 'o', color = 'orange')\n",
    "    plt.title('The Elbow Method')\n",
    "    plt.xlabel('Número de Clusters')\n",
    "    plt.ylabel('WCSS')\n",
    "    plt.box(False)\n",
    "    plt.show()\n",
    "\n",
    "# KMeans\n",
    "from sklearn.cluster import KMeans\n",
    "\n",
    "def kmeans(data, features ,n_clusters):\n",
    "    kmeans = KMeans(n_clusters = n_clusters, init = 'k-means++', random_state = 42, max_iter = 300)\n",
    "    kmeans = kmeans.fit(data[features].values)\n",
    "\n",
    "    centroides = kmeans.cluster_centers_ # Coordenadas do Centroide de Cada Clusters (4 linhas), para cada Variável (2 Variáveis)\n",
    "    clusters = kmeans.labels_ # Clusters para cada um dos registros \n",
    "\n",
    "    return centroides, clusters\n",
    "\n",
    "# Plota Clusters e Controides \n",
    "import plotly.express as px \n",
    "import plotly.graph_objects as go\n",
    "\n",
    "def plota_clusters(data, features ,model):\n",
    "\n",
    "    centroides = pd.DataFrame(model[0])\n",
    "\n",
    "    graf1 = px.scatter(x = data[features[0]], y = data[features[1]], color = model[1])\n",
    "    graf2 = px.scatter(x = centroides[0].values, y = centroides[1].values, size = [15, 15, 15, 15])\n",
    "    graf3 = go.Figure(data = graf1.data + graf2.data)\n",
    "    graf3.update_layout(width = 800, height = 500, title_text = 'Agrupamento K-Means')\n",
    "    graf3.update_xaxes(title = f'{features[0]}')\n",
    "    graf3.update_yaxes(title = f'{features[1]}')\n",
    "    graf3.show()\n"
   ]
  },
  {
   "cell_type": "markdown",
   "metadata": {},
   "source": [
    "* KMeans com Dois Atributos "
   ]
  },
  {
   "cell_type": "code",
   "execution_count": 13,
   "metadata": {},
   "outputs": [
    {
     "name": "stdout",
     "output_type": "stream",
     "text": [
      "Método de Elbow\n"
     ]
    },
    {
     "data": {
      "image/png": "[encoded data removed]",
      "text/plain": [
       "<Figure size 1000x500 with 1 Axes>"
      ]
     },
     "metadata": {},
     "output_type": "display_data"
    },
    {
     "name": "stdout",
     "output_type": "stream",
     "text": [
      "\n",
      "Resultados KMeans\n"
     ]
    },
    {
     "data": {
      "text/plain": [
       "(array([[26.30434783, 20.91304348],\n",
       "        [86.53846154, 82.12820513],\n",
       "        [87.        , 18.63157895],\n",
       "        [48.26      , 56.48      ]]),\n",
       " array([0, 3, 0, 3, 0, 3, 0, 3, 0, 3, 0, 3, 0, 3, 0, 3, 0, 3, 0, 3, 0, 3,\n",
       "        0, 3, 0, 3, 0, 3, 0, 3, 0, 3, 0, 3, 0, 3, 0, 3, 0, 3, 0, 3, 0, 3,\n",
       "        0, 3, 3, 3, 3, 3, 3, 3, 3, 3, 3, 3, 3, 3, 3, 3, 3, 3, 3, 3, 3, 3,\n",
       "        3, 3, 3, 3, 3, 3, 3, 3, 3, 3, 3, 3, 3, 3, 3, 3, 3, 3, 3, 3, 3, 3,\n",
       "        3, 3, 3, 3, 3, 3, 3, 3, 3, 3, 3, 3, 3, 3, 3, 3, 3, 3, 3, 3, 3, 3,\n",
       "        3, 3, 3, 3, 3, 3, 3, 3, 3, 3, 3, 3, 3, 1, 2, 1, 2, 1, 2, 1, 2, 1,\n",
       "        2, 1, 2, 1, 2, 1, 2, 1, 2, 1, 2, 1, 2, 1, 2, 1, 2, 1, 2, 1, 2, 1,\n",
       "        2, 1, 2, 1, 2, 1, 2, 1, 2, 1, 2, 1, 2, 1, 2, 1, 2, 1, 2, 1, 2, 1,\n",
       "        2, 1, 2, 1, 2, 1, 2, 1, 2, 1, 2, 1, 2, 1, 2, 1, 2, 1, 2, 1, 2, 1,\n",
       "        2, 1]))"
      ]
     },
     "metadata": {},
     "output_type": "display_data"
    },
    {
     "name": "stdout",
     "output_type": "stream",
     "text": [
      "\n",
      "Gráfico da Clusterização\n"
     ]
    },
    {
     "data": {
      "application/vnd.plotly.v1+json": {
       "config": {
        "plotlyServerURL": "https://plot.ly"
       },
       "data": [
        {
         "hovertemplate": "x=%{x}<br>y=%{y}<br>color=%{marker.color}<extra></extra>",
         "legendgroup": "",
         "marker": {
          "color": [
           0,
           3,
           0,
           3,
           0,
           3,
           0,
           3,
           0,
           3,
           0,
           3,
           0,
           3,
           0,
           3,
           0,
           3,
           0,
           3,
           0,
           3,
           0,
           3,
           0,
           3,
           0,
           3,
           0,
           3,
           0,
           3,
           0,
           3,
           0,
           3,
           0,
           3,
           0,
           3,
           0,
           3,
           0,
           3,
           0,
           3,
           3,
           3,
           3,
           3,
           3,
           3,
           3,
           3,
           3,
           3,
           3,
           3,
           3,
           3,
           3,
           3,
           3,
           3,
           3,
           3,
           3,
           3,
           3,
           3,
           3,
           3,
           3,
           3,
           3,
           3,
           3,
           3,
           3,
           3,
           3,
           3,
           3,
           3,
           3,
           3,
           3,
           3,
           3,
           3,
           3,
           3,
           3,
           3,
           3,
           3,
           3,
           3,
           3,
           3,
           3,
           3,
           3,
           3,
           3,
           3,
           3,
           3,
           3,
           3,
           3,
           3,
           3,
           3,
           3,
           3,
           3,
           3,
           3,
           3,
           3,
           3,
           3,
           1,
           2,
           1,
           2,
           1,
           2,
           1,
           2,
           1,
           2,
           1,
           2,
           1,
           2,
           1,
           2,
           1,
           2,
           1,
           2,
           1,
           2,
           1,
           2,
           1,
           2,
           1,
           2,
           1,
           2,
           1,
           2,
           1,
           2,
           1,
           2,
           1,
           2,
           1,
           2,
           1,
           2,
           1,
           2,
           1,
           2,
           1,
           2,
           1,
           2,
           1,
           2,
           1,
           2,
           1,
           2,
           1,
           2,
           1,
           2,
           1,
           2,
           1,
           2,
           1,
           2,
           1,
           2,
           1,
           2,
           1,
           2,
           1,
           2,
           1,
           2,
           1
          ],
          "coloraxis": "coloraxis",
          "symbol": "circle"
         },
         "mode": "markers",
         "name": "",
         "orientation": "v",
         "showlegend": false,
         "type": "scatter",
         "x": [
          15,
          15,
          16,
          16,
          17,
          17,
          18,
          18,
          19,
          19,
          19,
          19,
          20,
          20,
          20,
          20,
          21,
          21,
          23,
          23,
          24,
          24,
          25,
          25,
          28,
          28,
          28,
          28,
          29,
          29,
          30,
          30,
          33,
          33,
          33,
          33,
          34,
          34,
          37,
          37,
          38,
          38,
          39,
          39,
          39,
          39,
          40,
          40,
          40,
          40,
          42,
          42,
          43,
          43,
          43,
          43,
          44,
          44,
          46,
          46,
          46,
          46,
          47,
          47,
          48,
          48,
          48,
          48,
          48,
          48,
          49,
          49,
          50,
          50,
          54,
          54,
          54,
          54,
          54,
          54,
          54,
          54,
          54,
          54,
          54,
          54,
          57,
          57,
          58,
          58,
          59,
          59,
          60,
          60,
          60,
          60,
          60,
          60,
          61,
          61,
          62,
          62,
          62,
          62,
          62,
          62,
          63,
          63,
          63,
          63,
          63,
          63,
          64,
          64,
          65,
          65,
          65,
          65,
          67,
          67,
          67,
          67,
          69,
          69,
          70,
          70,
          71,
          71,
          71,
          71,
          71,
          71,
          72,
          72,
          73,
          73,
          73,
          73,
          74,
          74,
          75,
          75,
          76,
          76,
          77,
          77,
          77,
          77,
          78,
          78,
          78,
          78,
          78,
          78,
          78,
          78,
          78,
          78,
          78,
          78,
          79,
          79,
          81,
          81,
          85,
          85,
          86,
          86,
          87,
          87,
          87,
          87,
          87,
          87,
          88,
          88,
          88,
          88,
          93,
          93,
          97,
          97,
          98,
          98,
          99,
          99,
          101,
          101,
          103,
          103,
          103,
          103,
          113,
          113,
          120,
          120,
          126,
          126,
          137,
          137
         ],
         "xaxis": "x",
         "y": [
          39,
          81,
          6,
          77,
          40,
          76,
          6,
          94,
          3,
          72,
          14,
          99,
          15,
          77,
          13,
          79,
          35,
          66,
          29,
          98,
          35,
          73,
          5,
          73,
          14,
          82,
          32,
          61,
          31,
          87,
          4,
          73,
          4,
          92,
          14,
          81,
          17,
          73,
          26,
          75,
          35,
          92,
          36,
          61,
          28,
          65,
          55,
          47,
          42,
          42,
          52,
          60,
          54,
          60,
          45,
          41,
          50,
          46,
          51,
          46,
          56,
          55,
          52,
          59,
          51,
          59,
          50,
          48,
          59,
          47,
          55,
          42,
          49,
          56,
          47,
          54,
          53,
          48,
          52,
          42,
          51,
          55,
          41,
          44,
          57,
          46,
          58,
          55,
          60,
          46,
          55,
          41,
          49,
          40,
          42,
          52,
          47,
          50,
          42,
          49,
          41,
          48,
          59,
          55,
          56,
          42,
          50,
          46,
          43,
          48,
          52,
          54,
          42,
          46,
          48,
          50,
          43,
          59,
          43,
          57,
          56,
          40,
          58,
          91,
          29,
          77,
          35,
          95,
          11,
          75,
          9,
          75,
          34,
          71,
          5,
          88,
          7,
          73,
          10,
          72,
          5,
          93,
          40,
          87,
          12,
          97,
          36,
          74,
          22,
          90,
          17,
          88,
          20,
          76,
          16,
          89,
          1,
          78,
          1,
          73,
          35,
          83,
          5,
          93,
          26,
          75,
          20,
          95,
          27,
          63,
          13,
          75,
          10,
          92,
          13,
          86,
          15,
          69,
          14,
          90,
          32,
          86,
          15,
          88,
          39,
          97,
          24,
          68,
          17,
          85,
          23,
          69,
          8,
          91,
          16,
          79,
          28,
          74,
          18,
          83
         ],
         "yaxis": "y"
        },
        {
         "hovertemplate": "x=%{x}<br>y=%{y}<br>size=%{marker.size}<extra></extra>",
         "legendgroup": "",
         "marker": {
          "color": "#636efa",
          "size": [
           15,
           15,
           15,
           15
          ],
          "sizemode": "area",
          "sizeref": 0.0375,
          "symbol": "circle"
         },
         "mode": "markers",
         "name": "",
         "orientation": "v",
         "showlegend": false,
         "type": "scatter",
         "x": [
          26.304347826086982,
          86.53846153846155,
          87.00000000000001,
          48.26000000000005
         ],
         "xaxis": "x",
         "y": [
          20.913043478260867,
          82.12820512820511,
          18.631578947368403,
          56.47999999999997
         ],
         "yaxis": "y"
        }
       ],
       "layout": {
        "height": 500,
        "template": {
         "data": {
          "bar": [
           {
            "error_x": {
             "color": "#2a3f5f"
            },
            "error_y": {
             "color": "#2a3f5f"
            },
            "marker": {
             "line": {
              "color": "#E5ECF6",
              "width": 0.5
             },
             "pattern": {
              "fillmode": "overlay",
              "size": 10,
              "solidity": 0.2
             }
            },
            "type": "bar"
           }
          ],
          "barpolar": [
           {
            "marker": {
             "line": {
              "color": "#E5ECF6",
              "width": 0.5
             },
             "pattern": {
              "fillmode": "overlay",
              "size": 10,
              "solidity": 0.2
             }
            },
            "type": "barpolar"
           }
          ],
          "carpet": [
           {
            "aaxis": {
             "endlinecolor": "#2a3f5f",
             "gridcolor": "white",
             "linecolor": "white",
             "minorgridcolor": "white",
             "startlinecolor": "#2a3f5f"
            },
            "baxis": {
             "endlinecolor": "#2a3f5f",
             "gridcolor": "white",
             "linecolor": "white",
             "minorgridcolor": "white",
             "startlinecolor": "#2a3f5f"
            },
            "type": "carpet"
           }
          ],
          "choropleth": [
           {
            "colorbar": {
             "outlinewidth": 0,
             "ticks": ""
            },
            "type": "choropleth"
           }
          ],
          "contour": [
           {
            "colorbar": {
             "outlinewidth": 0,
             "ticks": ""
            },
            "colorscale": [
             [
              0,
              "#0d0887"
             ],
             [
              0.1111111111111111,
              "#46039f"
             ],
             [
              0.2222222222222222,
              "#7201a8"
             ],
             [
              0.3333333333333333,
              "#9c179e"
             ],
             [
              0.4444444444444444,
              "#bd3786"
             ],
             [
              0.5555555555555556,
              "#d8576b"
             ],
             [
              0.6666666666666666,
              "#ed7953"
             ],
             [
              0.7777777777777778,
              "#fb9f3a"
             ],
             [
              0.8888888888888888,
              "#fdca26"
             ],
             [
              1,
              "#f0f921"
             ]
            ],
            "type": "contour"
           }
          ],
          "contourcarpet": [
           {
            "colorbar": {
             "outlinewidth": 0,
             "ticks": ""
            },
            "type": "contourcarpet"
           }
          ],
          "heatmap": [
           {
            "colorbar": {
             "outlinewidth": 0,
             "ticks": ""
            },
            "colorscale": [
             [
              0,
              "#0d0887"
             ],
             [
              0.1111111111111111,
              "#46039f"
             ],
             [
              0.2222222222222222,
              "#7201a8"
             ],
             [
              0.3333333333333333,
              "#9c179e"
             ],
             [
              0.4444444444444444,
              "#bd3786"
             ],
             [
              0.5555555555555556,
              "#d8576b"
             ],
             [
              0.6666666666666666,
              "#ed7953"
             ],
             [
              0.7777777777777778,
              "#fb9f3a"
             ],
             [
              0.8888888888888888,
              "#fdca26"
             ],
             [
              1,
              "#f0f921"
             ]
            ],
            "type": "heatmap"
           }
          ],
          "heatmapgl": [
           {
            "colorbar": {
             "outlinewidth": 0,
             "ticks": ""
            },
            "colorscale": [
             [
              0,
              "#0d0887"
             ],
             [
              0.1111111111111111,
              "#46039f"
             ],
             [
              0.2222222222222222,
              "#7201a8"
             ],
             [
              0.3333333333333333,
              "#9c179e"
             ],
             [
              0.4444444444444444,
              "#bd3786"
             ],
             [
              0.5555555555555556,
              "#d8576b"
             ],
             [
              0.6666666666666666,
              "#ed7953"
             ],
             [
              0.7777777777777778,
              "#fb9f3a"
             ],
             [
              0.8888888888888888,
              "#fdca26"
             ],
             [
              1,
              "#f0f921"
             ]
            ],
            "type": "heatmapgl"
           }
          ],
          "histogram": [
           {
            "marker": {
             "pattern": {
              "fillmode": "overlay",
              "size": 10,
              "solidity": 0.2
             }
            },
            "type": "histogram"
           }
          ],
          "histogram2d": [
           {
            "colorbar": {
             "outlinewidth": 0,
             "ticks": ""
            },
            "colorscale": [
             [
              0,
              "#0d0887"
             ],
             [
              0.1111111111111111,
              "#46039f"
             ],
             [
              0.2222222222222222,
              "#7201a8"
             ],
             [
              0.3333333333333333,
              "#9c179e"
             ],
             [
              0.4444444444444444,
              "#bd3786"
             ],
             [
              0.5555555555555556,
              "#d8576b"
             ],
             [
              0.6666666666666666,
              "#ed7953"
             ],
             [
              0.7777777777777778,
              "#fb9f3a"
             ],
             [
              0.8888888888888888,
              "#fdca26"
             ],
             [
              1,
              "#f0f921"
             ]
            ],
            "type": "histogram2d"
           }
          ],
          "histogram2dcontour": [
           {
            "colorbar": {
             "outlinewidth": 0,
             "ticks": ""
            },
            "colorscale": [
             [
              0,
              "#0d0887"
             ],
             [
              0.1111111111111111,
              "#46039f"
             ],
             [
              0.2222222222222222,
              "#7201a8"
             ],
             [
              0.3333333333333333,
              "#9c179e"
             ],
             [
              0.4444444444444444,
              "#bd3786"
             ],
             [
              0.5555555555555556,
              "#d8576b"
             ],
             [
              0.6666666666666666,
              "#ed7953"
             ],
             [
              0.7777777777777778,
              "#fb9f3a"
             ],
             [
              0.8888888888888888,
              "#fdca26"
             ],
             [
              1,
              "#f0f921"
             ]
            ],
            "type": "histogram2dcontour"
           }
          ],
          "mesh3d": [
           {
            "colorbar": {
             "outlinewidth": 0,
             "ticks": ""
            },
            "type": "mesh3d"
           }
          ],
          "parcoords": [
           {
            "line": {
             "colorbar": {
              "outlinewidth": 0,
              "ticks": ""
             }
            },
            "type": "parcoords"
           }
          ],
          "pie": [
           {
            "automargin": true,
            "type": "pie"
           }
          ],
          "scatter": [
           {
            "fillpattern": {
             "fillmode": "overlay",
             "size": 10,
             "solidity": 0.2
            },
            "type": "scatter"
           }
          ],
          "scatter3d": [
           {
            "line": {
             "colorbar": {
              "outlinewidth": 0,
              "ticks": ""
             }
            },
            "marker": {
             "colorbar": {
              "outlinewidth": 0,
              "ticks": ""
             }
            },
            "type": "scatter3d"
           }
          ],
          "scattercarpet": [
           {
            "marker": {
             "colorbar": {
              "outlinewidth": 0,
              "ticks": ""
             }
            },
            "type": "scattercarpet"
           }
          ],
          "scattergeo": [
           {
            "marker": {
             "colorbar": {
              "outlinewidth": 0,
              "ticks": ""
             }
            },
            "type": "scattergeo"
           }
          ],
          "scattergl": [
           {
            "marker": {
             "colorbar": {
              "outlinewidth": 0,
              "ticks": ""
             }
            },
            "type": "scattergl"
           }
          ],
          "scattermapbox": [
           {
            "marker": {
             "colorbar": {
              "outlinewidth": 0,
              "ticks": ""
             }
            },
            "type": "scattermapbox"
           }
          ],
          "scatterpolar": [
           {
            "marker": {
             "colorbar": {
              "outlinewidth": 0,
              "ticks": ""
             }
            },
            "type": "scatterpolar"
           }
          ],
          "scatterpolargl": [
           {
            "marker": {
             "colorbar": {
              "outlinewidth": 0,
              "ticks": ""
             }
            },
            "type": "scatterpolargl"
           }
          ],
          "scatterternary": [
           {
            "marker": {
             "colorbar": {
              "outlinewidth": 0,
              "ticks": ""
             }
            },
            "type": "scatterternary"
           }
          ],
          "surface": [
           {
            "colorbar": {
             "outlinewidth": 0,
             "ticks": ""
            },
            "colorscale": [
             [
              0,
              "#0d0887"
             ],
             [
              0.1111111111111111,
              "#46039f"
             ],
             [
              0.2222222222222222,
              "#7201a8"
             ],
             [
              0.3333333333333333,
              "#9c179e"
             ],
             [
              0.4444444444444444,
              "#bd3786"
             ],
             [
              0.5555555555555556,
              "#d8576b"
             ],
             [
              0.6666666666666666,
              "#ed7953"
             ],
             [
              0.7777777777777778,
              "#fb9f3a"
             ],
             [
              0.8888888888888888,
              "#fdca26"
             ],
             [
              1,
              "#f0f921"
             ]
            ],
            "type": "surface"
           }
          ],
          "table": [
           {
            "cells": {
             "fill": {
              "color": "#EBF0F8"
             },
             "line": {
              "color": "white"
             }
            },
            "header": {
             "fill": {
              "color": "#C8D4E3"
             },
             "line": {
              "color": "white"
             }
            },
            "type": "table"
           }
          ]
         },
         "layout": {
          "annotationdefaults": {
           "arrowcolor": "#2a3f5f",
           "arrowhead": 0,
           "arrowwidth": 1
          },
          "autotypenumbers": "strict",
          "coloraxis": {
           "colorbar": {
            "outlinewidth": 0,
            "ticks": ""
           }
          },
          "colorscale": {
           "diverging": [
            [
             0,
             "#8e0152"
            ],
            [
             0.1,
             "#c51b7d"
            ],
            [
             0.2,
             "#de77ae"
            ],
            [
             0.3,
             "#f1b6da"
            ],
            [
             0.4,
             "#fde0ef"
            ],
            [
             0.5,
             "#f7f7f7"
            ],
            [
             0.6,
             "#e6f5d0"
            ],
            [
             0.7,
             "#b8e186"
            ],
            [
             0.8,
             "#7fbc41"
            ],
            [
             0.9,
             "#4d9221"
            ],
            [
             1,
             "#276419"
            ]
           ],
           "sequential": [
            [
             0,
             "#0d0887"
            ],
            [
             0.1111111111111111,
             "#46039f"
            ],
            [
             0.2222222222222222,
             "#7201a8"
            ],
            [
             0.3333333333333333,
             "#9c179e"
            ],
            [
             0.4444444444444444,
             "#bd3786"
            ],
            [
             0.5555555555555556,
             "#d8576b"
            ],
            [
             0.6666666666666666,
             "#ed7953"
            ],
            [
             0.7777777777777778,
             "#fb9f3a"
            ],
            [
             0.8888888888888888,
             "#fdca26"
            ],
            [
             1,
             "#f0f921"
            ]
           ],
           "sequentialminus": [
            [
             0,
             "#0d0887"
            ],
            [
             0.1111111111111111,
             "#46039f"
            ],
            [
             0.2222222222222222,
             "#7201a8"
            ],
            [
             0.3333333333333333,
             "#9c179e"
            ],
            [
             0.4444444444444444,
             "#bd3786"
            ],
            [
             0.5555555555555556,
             "#d8576b"
            ],
            [
             0.6666666666666666,
             "#ed7953"
            ],
            [
             0.7777777777777778,
             "#fb9f3a"
            ],
            [
             0.8888888888888888,
             "#fdca26"
            ],
            [
             1,
             "#f0f921"
            ]
           ]
          },
          "colorway": [
           "#636efa",
           "#EF553B",
           "#00cc96",
           "#ab63fa",
           "#FFA15A",
           "#19d3f3",
           "#FF6692",
           "#B6E880",
           "#FF97FF",
           "#FECB52"
          ],
          "font": {
           "color": "#2a3f5f"
          },
          "geo": {
           "bgcolor": "white",
           "lakecolor": "white",
           "landcolor": "#E5ECF6",
           "showlakes": true,
           "showland": true,
           "subunitcolor": "white"
          },
          "hoverlabel": {
           "align": "left"
          },
          "hovermode": "closest",
          "mapbox": {
           "style": "light"
          },
          "paper_bgcolor": "white",
          "plot_bgcolor": "#E5ECF6",
          "polar": {
           "angularaxis": {
            "gridcolor": "white",
            "linecolor": "white",
            "ticks": ""
           },
           "bgcolor": "#E5ECF6",
           "radialaxis": {
            "gridcolor": "white",
            "linecolor": "white",
            "ticks": ""
           }
          },
          "scene": {
           "xaxis": {
            "backgroundcolor": "#E5ECF6",
            "gridcolor": "white",
            "gridwidth": 2,
            "linecolor": "white",
            "showbackground": true,
            "ticks": "",
            "zerolinecolor": "white"
           },
           "yaxis": {
            "backgroundcolor": "#E5ECF6",
            "gridcolor": "white",
            "gridwidth": 2,
            "linecolor": "white",
            "showbackground": true,
            "ticks": "",
            "zerolinecolor": "white"
           },
           "zaxis": {
            "backgroundcolor": "#E5ECF6",
            "gridcolor": "white",
            "gridwidth": 2,
            "linecolor": "white",
            "showbackground": true,
            "ticks": "",
            "zerolinecolor": "white"
           }
          },
          "shapedefaults": {
           "line": {
            "color": "#2a3f5f"
           }
          },
          "ternary": {
           "aaxis": {
            "gridcolor": "white",
            "linecolor": "white",
            "ticks": ""
           },
           "baxis": {
            "gridcolor": "white",
            "linecolor": "white",
            "ticks": ""
           },
           "bgcolor": "#E5ECF6",
           "caxis": {
            "gridcolor": "white",
            "linecolor": "white",
            "ticks": ""
           }
          },
          "title": {
           "x": 0.05
          },
          "xaxis": {
           "automargin": true,
           "gridcolor": "white",
           "linecolor": "white",
           "ticks": "",
           "title": {
            "standoff": 15
           },
           "zerolinecolor": "white",
           "zerolinewidth": 2
          },
          "yaxis": {
           "automargin": true,
           "gridcolor": "white",
           "linecolor": "white",
           "ticks": "",
           "title": {
            "standoff": 15
           },
           "zerolinecolor": "white",
           "zerolinewidth": 2
          }
         }
        },
        "title": {
         "text": "Agrupamento K-Means"
        },
        "width": 800,
        "xaxis": {
         "title": {
          "text": "rendimento"
         }
        },
        "yaxis": {
         "title": {
          "text": "pontuacao"
         }
        }
       }
      }
     },
     "metadata": {},
     "output_type": "display_data"
    },
    {
     "data": {
      "text/plain": [
       "None"
      ]
     },
     "metadata": {},
     "output_type": "display_data"
    }
   ],
   "source": [
    "print('Método de Elbow')\n",
    "elbow_method(df2, ['rendimento', 'pontuacao'])\n",
    "print()\n",
    "print('Resultados KMeans')\n",
    "display(kmeans(df2, ['rendimento', 'pontuacao'], 4))\n",
    "print()\n",
    "print('Gráfico da Clusterização')\n",
    "display(plota_clusters(df2, ['rendimento', 'pontuacao'], kmeans(df2, ['rendimento', 'pontuacao'], 4)))"
   ]
  },
  {
   "cell_type": "markdown",
   "metadata": {},
   "source": [
    "* KMeans com Todos Atributos "
   ]
  },
  {
   "cell_type": "code",
   "execution_count": 14,
   "metadata": {},
   "outputs": [],
   "source": [
    "# Elbow Method\n",
    "from sklearn.cluster import KMeans\n",
    "def elbow_method_esc(data, features):\n",
    "    scaler = StandardScaler()\n",
    "    padronizado = scaler.fit_transform(data[features])\n",
    "    wcss = []\n",
    "    for n_clusters in np.arange(1, 11):\n",
    "        kmeans = KMeans(n_clusters = n_clusters, init = 'k-means++', random_state = 42, max_iter = 300)\n",
    "        kmeans.fit(padronizado)\n",
    "        # Inertia: Método para gerar o WCSS\n",
    "        wcss.append(kmeans.inertia_)\n",
    "\n",
    "    plt.figure(figsize=(10, 5))\n",
    "    sns.lineplot(np.arange(1, 11), wcss, marker = 'o', color = 'orange')\n",
    "    plt.title('The Elbow Method')\n",
    "    plt.xlabel('Número de Clusters')\n",
    "    plt.ylabel('WCSS')\n",
    "    plt.box(False)\n",
    "    plt.show()\n",
    "\n",
    "# KMeans\n",
    "from sklearn.cluster import KMeans\n",
    "from sklearn.preprocessing import StandardScaler\n",
    "def kmeans_esc(data, features ,n_clusters):\n",
    "\n",
    "    scaler = StandardScaler()\n",
    "    padronizado = scaler.fit_transform(data[features])\n",
    "\n",
    "    kmeans = KMeans(n_clusters = n_clusters, init = 'k-means++', random_state = 42, max_iter = 300)\n",
    "    kmeans = kmeans.fit(padronizado)\n",
    "\n",
    "    centroides = kmeans.cluster_centers_ # Coordenadas do Centroide de Cada Clusters (4 linhas), para cada Variável (2 Variáveis)\n",
    "    centroides = scaler.inverse_transform(centroides)\n",
    "    \n",
    "    clusters = kmeans.labels_ # Clusters para cada um dos registros \n",
    "\n",
    "    return centroides, clusters"
   ]
  },
  {
   "cell_type": "code",
   "execution_count": 15,
   "metadata": {},
   "outputs": [
    {
     "name": "stdout",
     "output_type": "stream",
     "text": [
      "Método de Elbow\n"
     ]
    },
    {
     "data": {
      "image/png": "[encoded data removed]",
      "text/plain": [
       "<Figure size 1000x500 with 1 Axes>"
      ]
     },
     "metadata": {},
     "output_type": "display_data"
    },
    {
     "name": "stdout",
     "output_type": "stream",
     "text": [
      "\n",
      "Resultados KMeans\n"
     ]
    },
    {
     "data": {
      "text/html": [
       "<div>\n",
       "<style scoped>\n",
       "    .dataframe tbody tr th:only-of-type {\n",
       "        vertical-align: middle;\n",
       "    }\n",
       "\n",
       "    .dataframe tbody tr th {\n",
       "        vertical-align: top;\n",
       "    }\n",
       "\n",
       "    .dataframe thead th {\n",
       "        text-align: right;\n",
       "    }\n",
       "</style>\n",
       "<table border=\"1\" class=\"dataframe\">\n",
       "  <thead>\n",
       "    <tr style=\"text-align: right;\">\n",
       "      <th></th>\n",
       "      <th>identificacao</th>\n",
       "      <th>genero</th>\n",
       "      <th>idade</th>\n",
       "      <th>rendimento</th>\n",
       "      <th>pontuacao</th>\n",
       "      <th>cluster</th>\n",
       "    </tr>\n",
       "  </thead>\n",
       "  <tbody>\n",
       "    <tr>\n",
       "      <th>0</th>\n",
       "      <td>1</td>\n",
       "      <td>Male</td>\n",
       "      <td>19</td>\n",
       "      <td>15</td>\n",
       "      <td>39</td>\n",
       "      <td>4</td>\n",
       "    </tr>\n",
       "    <tr>\n",
       "      <th>1</th>\n",
       "      <td>2</td>\n",
       "      <td>Male</td>\n",
       "      <td>21</td>\n",
       "      <td>15</td>\n",
       "      <td>81</td>\n",
       "      <td>4</td>\n",
       "    </tr>\n",
       "    <tr>\n",
       "      <th>2</th>\n",
       "      <td>3</td>\n",
       "      <td>Female</td>\n",
       "      <td>20</td>\n",
       "      <td>16</td>\n",
       "      <td>6</td>\n",
       "      <td>1</td>\n",
       "    </tr>\n",
       "    <tr>\n",
       "      <th>3</th>\n",
       "      <td>4</td>\n",
       "      <td>Female</td>\n",
       "      <td>23</td>\n",
       "      <td>16</td>\n",
       "      <td>77</td>\n",
       "      <td>1</td>\n",
       "    </tr>\n",
       "    <tr>\n",
       "      <th>4</th>\n",
       "      <td>5</td>\n",
       "      <td>Female</td>\n",
       "      <td>31</td>\n",
       "      <td>17</td>\n",
       "      <td>40</td>\n",
       "      <td>1</td>\n",
       "    </tr>\n",
       "    <tr>\n",
       "      <th>...</th>\n",
       "      <td>...</td>\n",
       "      <td>...</td>\n",
       "      <td>...</td>\n",
       "      <td>...</td>\n",
       "      <td>...</td>\n",
       "      <td>...</td>\n",
       "    </tr>\n",
       "    <tr>\n",
       "      <th>195</th>\n",
       "      <td>196</td>\n",
       "      <td>Female</td>\n",
       "      <td>35</td>\n",
       "      <td>120</td>\n",
       "      <td>79</td>\n",
       "      <td>5</td>\n",
       "    </tr>\n",
       "    <tr>\n",
       "      <th>196</th>\n",
       "      <td>197</td>\n",
       "      <td>Female</td>\n",
       "      <td>45</td>\n",
       "      <td>126</td>\n",
       "      <td>28</td>\n",
       "      <td>0</td>\n",
       "    </tr>\n",
       "    <tr>\n",
       "      <th>197</th>\n",
       "      <td>198</td>\n",
       "      <td>Male</td>\n",
       "      <td>32</td>\n",
       "      <td>126</td>\n",
       "      <td>74</td>\n",
       "      <td>5</td>\n",
       "    </tr>\n",
       "    <tr>\n",
       "      <th>198</th>\n",
       "      <td>199</td>\n",
       "      <td>Male</td>\n",
       "      <td>32</td>\n",
       "      <td>137</td>\n",
       "      <td>18</td>\n",
       "      <td>0</td>\n",
       "    </tr>\n",
       "    <tr>\n",
       "      <th>199</th>\n",
       "      <td>200</td>\n",
       "      <td>Male</td>\n",
       "      <td>30</td>\n",
       "      <td>137</td>\n",
       "      <td>83</td>\n",
       "      <td>5</td>\n",
       "    </tr>\n",
       "  </tbody>\n",
       "</table>\n",
       "<p>200 rows × 6 columns</p>\n",
       "</div>"
      ],
      "text/plain": [
       "     identificacao  genero  idade  rendimento  pontuacao  cluster\n",
       "0                1    Male     19          15         39        4\n",
       "1                2    Male     21          15         81        4\n",
       "2                3  Female     20          16          6        1\n",
       "3                4  Female     23          16         77        1\n",
       "4                5  Female     31          17         40        1\n",
       "..             ...     ...    ...         ...        ...      ...\n",
       "195            196  Female     35         120         79        5\n",
       "196            197  Female     45         126         28        0\n",
       "197            198    Male     32         126         74        5\n",
       "198            199    Male     32         137         18        0\n",
       "199            200    Male     30         137         83        5\n",
       "\n",
       "[200 rows x 6 columns]"
      ]
     },
     "execution_count": 15,
     "metadata": {},
     "output_type": "execute_result"
    }
   ],
   "source": [
    "print('Método de Elbow')\n",
    "elbow_method_esc(df2, list(df2.columns))\n",
    "print()\n",
    "print('Resultados KMeans')\n",
    "agrupamentos_kmeans_esc = df.copy()\n",
    "agrupamentos_kmeans_esc['cluster'] = kmeans_esc(df2, list(df2.columns), 6)[1]\n",
    "agrupamentos_kmeans_esc"
   ]
  },
  {
   "cell_type": "markdown",
   "metadata": {},
   "source": [
    "* KMeans com PCA "
   ]
  },
  {
   "cell_type": "code",
   "execution_count": 16,
   "metadata": {},
   "outputs": [],
   "source": [
    "# Elbow Method\n",
    "from sklearn.cluster import KMeans\n",
    "from sklearn.preprocessing import StandardScaler\n",
    "from sklearn.decomposition import PCA \n",
    "\n",
    "def elbow_method_esc_pca(data, features):\n",
    "    scaler = StandardScaler()\n",
    "    padronizado = scaler.fit_transform(data[features])\n",
    "    pca = PCA(n_components=2)\n",
    "    padronizado_pca = pca.fit_transform(padronizado)\n",
    "    wcss = []\n",
    "    for n_clusters in np.arange(1, 11):\n",
    "        kmeans = KMeans(n_clusters = n_clusters, init = 'k-means++', random_state = 42, max_iter = 300)\n",
    "        kmeans.fit(padronizado_pca)\n",
    "        # Inertia: Método para gerar o WCSS\n",
    "        wcss.append(kmeans.inertia_)\n",
    "\n",
    "    plt.figure(figsize=(10, 5))\n",
    "    sns.lineplot(np.arange(1, 11), wcss, marker = 'o', color = 'orange')\n",
    "    plt.title('The Elbow Method')\n",
    "    plt.xlabel('Número de Clusters')\n",
    "    plt.ylabel('WCSS')\n",
    "    plt.box(False)\n",
    "    plt.show()\n",
    "\n",
    "# KMeans\n",
    "from sklearn.cluster import KMeans\n",
    "from sklearn.preprocessing import StandardScaler\n",
    "from sklearn.decomposition import PCA \n",
    "def kmeans_esc_pca(data, features ,n_clusters):\n",
    "\n",
    "    scaler = StandardScaler()\n",
    "    padronizado = scaler.fit_transform(data[features])\n",
    "\n",
    "    pca = PCA(n_components=2)\n",
    "    padronizado_pca = pca.fit_transform(padronizado)\n",
    "    pca_variance_ratio = pca.explained_variance_ratio_\n",
    "\n",
    "    kmeans = KMeans(n_clusters = n_clusters, init = 'k-means++', random_state = 42, max_iter = 300)\n",
    "    kmeans = kmeans.fit(padronizado_pca)\n",
    "\n",
    "    centroides = kmeans.cluster_centers_ # Coordenadas do Centroide de Cada Clusters (4 linhas), para cada Variável (2 Variáveis)\n",
    "    clusters = kmeans.labels_ # Clusters para cada um dos registros \n",
    "\n",
    "    return centroides, clusters, pca_variance_ratio"
   ]
  },
  {
   "cell_type": "code",
   "execution_count": 17,
   "metadata": {},
   "outputs": [
    {
     "data": {
      "text/plain": [
       "array([[-1.15915328, -0.51472072],\n",
       "       [ 1.12773395,  0.75231371],\n",
       "       [ 0.80089898, -0.95285608],\n",
       "       [-0.89924813,  1.20707643]])"
      ]
     },
     "execution_count": 17,
     "metadata": {},
     "output_type": "execute_result"
    }
   ],
   "source": [
    "kmeans_esc_pca(df2, list(df2.columns), 4)[0]"
   ]
  },
  {
   "cell_type": "code",
   "execution_count": 18,
   "metadata": {},
   "outputs": [
    {
     "name": "stdout",
     "output_type": "stream",
     "text": [
      "Método de Elbow\n"
     ]
    },
    {
     "data": {
      "image/png": "[encoded data removed]",
      "text/plain": [
       "<Figure size 1000x500 with 1 Axes>"
      ]
     },
     "metadata": {},
     "output_type": "display_data"
    },
    {
     "name": "stdout",
     "output_type": "stream",
     "text": [
      "\n",
      "Razão das Variáveis Explicativas Pós PCA\n",
      "[0.33690046 0.26230645]\n",
      "\n",
      "Resultados KMeans\n"
     ]
    },
    {
     "data": {
      "text/html": [
       "<div>\n",
       "<style scoped>\n",
       "    .dataframe tbody tr th:only-of-type {\n",
       "        vertical-align: middle;\n",
       "    }\n",
       "\n",
       "    .dataframe tbody tr th {\n",
       "        vertical-align: top;\n",
       "    }\n",
       "\n",
       "    .dataframe thead th {\n",
       "        text-align: right;\n",
       "    }\n",
       "</style>\n",
       "<table border=\"1\" class=\"dataframe\">\n",
       "  <thead>\n",
       "    <tr style=\"text-align: right;\">\n",
       "      <th></th>\n",
       "      <th>identificacao</th>\n",
       "      <th>genero</th>\n",
       "      <th>idade</th>\n",
       "      <th>rendimento</th>\n",
       "      <th>pontuacao</th>\n",
       "      <th>cluster</th>\n",
       "    </tr>\n",
       "  </thead>\n",
       "  <tbody>\n",
       "    <tr>\n",
       "      <th>0</th>\n",
       "      <td>1</td>\n",
       "      <td>Male</td>\n",
       "      <td>19</td>\n",
       "      <td>15</td>\n",
       "      <td>39</td>\n",
       "      <td>0</td>\n",
       "    </tr>\n",
       "    <tr>\n",
       "      <th>1</th>\n",
       "      <td>2</td>\n",
       "      <td>Male</td>\n",
       "      <td>21</td>\n",
       "      <td>15</td>\n",
       "      <td>81</td>\n",
       "      <td>0</td>\n",
       "    </tr>\n",
       "    <tr>\n",
       "      <th>2</th>\n",
       "      <td>3</td>\n",
       "      <td>Female</td>\n",
       "      <td>20</td>\n",
       "      <td>16</td>\n",
       "      <td>6</td>\n",
       "      <td>2</td>\n",
       "    </tr>\n",
       "    <tr>\n",
       "      <th>3</th>\n",
       "      <td>4</td>\n",
       "      <td>Female</td>\n",
       "      <td>23</td>\n",
       "      <td>16</td>\n",
       "      <td>77</td>\n",
       "      <td>0</td>\n",
       "    </tr>\n",
       "    <tr>\n",
       "      <th>4</th>\n",
       "      <td>5</td>\n",
       "      <td>Female</td>\n",
       "      <td>31</td>\n",
       "      <td>17</td>\n",
       "      <td>40</td>\n",
       "      <td>2</td>\n",
       "    </tr>\n",
       "    <tr>\n",
       "      <th>...</th>\n",
       "      <td>...</td>\n",
       "      <td>...</td>\n",
       "      <td>...</td>\n",
       "      <td>...</td>\n",
       "      <td>...</td>\n",
       "      <td>...</td>\n",
       "    </tr>\n",
       "    <tr>\n",
       "      <th>195</th>\n",
       "      <td>196</td>\n",
       "      <td>Female</td>\n",
       "      <td>35</td>\n",
       "      <td>120</td>\n",
       "      <td>79</td>\n",
       "      <td>3</td>\n",
       "    </tr>\n",
       "    <tr>\n",
       "      <th>196</th>\n",
       "      <td>197</td>\n",
       "      <td>Female</td>\n",
       "      <td>45</td>\n",
       "      <td>126</td>\n",
       "      <td>28</td>\n",
       "      <td>1</td>\n",
       "    </tr>\n",
       "    <tr>\n",
       "      <th>197</th>\n",
       "      <td>198</td>\n",
       "      <td>Male</td>\n",
       "      <td>32</td>\n",
       "      <td>126</td>\n",
       "      <td>74</td>\n",
       "      <td>3</td>\n",
       "    </tr>\n",
       "    <tr>\n",
       "      <th>198</th>\n",
       "      <td>199</td>\n",
       "      <td>Male</td>\n",
       "      <td>32</td>\n",
       "      <td>137</td>\n",
       "      <td>18</td>\n",
       "      <td>1</td>\n",
       "    </tr>\n",
       "    <tr>\n",
       "      <th>199</th>\n",
       "      <td>200</td>\n",
       "      <td>Male</td>\n",
       "      <td>30</td>\n",
       "      <td>137</td>\n",
       "      <td>83</td>\n",
       "      <td>3</td>\n",
       "    </tr>\n",
       "  </tbody>\n",
       "</table>\n",
       "<p>200 rows × 6 columns</p>\n",
       "</div>"
      ],
      "text/plain": [
       "     identificacao  genero  idade  rendimento  pontuacao  cluster\n",
       "0                1    Male     19          15         39        0\n",
       "1                2    Male     21          15         81        0\n",
       "2                3  Female     20          16          6        2\n",
       "3                4  Female     23          16         77        0\n",
       "4                5  Female     31          17         40        2\n",
       "..             ...     ...    ...         ...        ...      ...\n",
       "195            196  Female     35         120         79        3\n",
       "196            197  Female     45         126         28        1\n",
       "197            198    Male     32         126         74        3\n",
       "198            199    Male     32         137         18        1\n",
       "199            200    Male     30         137         83        3\n",
       "\n",
       "[200 rows x 6 columns]"
      ]
     },
     "execution_count": 18,
     "metadata": {},
     "output_type": "execute_result"
    }
   ],
   "source": [
    "print('Método de Elbow')\n",
    "elbow_method_esc_pca(df2, list(df2.columns))\n",
    "print()\n",
    "print('Razão das Variáveis Explicativas Pós PCA')\n",
    "print(kmeans_esc_pca(df2, list(df2.columns), 4)[2])\n",
    "print()\n",
    "print('Resultados KMeans')\n",
    "agrupamento_kmeans_esc_pca = df.copy()\n",
    "agrupamento_kmeans_esc_pca['cluster'] = kmeans_esc_pca(df2, list(df2.columns), 4)[1]\n",
    "agrupamento_kmeans_esc_pca"
   ]
  },
  {
   "cell_type": "markdown",
   "metadata": {},
   "source": [
    "## 5.2) Agrupamento Hierarquico\n",
    "\n",
    "> CONSULTAR: \n",
    "\n",
    "https://medium.com/@will.lucena/agrupamento-hier%C3%A1rquico-329e30a9f32d\n",
    "\n",
    "https://medium.com/@isnardgurgel/an%C3%A1lises-com-algoritmos-de-clustering-40d52f36f67c\n",
    "\n",
    "https://www.youtube.com/watch?v=k6SPTavNPcg&list=PL0e9c9qL853Gz5ckps_71HNLXbiqAI81-&ab_channel=PauloFilgueiras\n",
    "\n",
    "https://www.youtube.com/watch?v=fPHJIkyYi7M&ab_channel=UniversoDiscreto\n",
    "\n",
    "https://www.youtube.com/watch?v=I-NSH_-Vm4g&list=PL-t7zzWJWPtzhZtI-bWWHFtCfxtjmBdIW&index=25&ab_channel=UniversoDiscreto\n",
    "\n",
    "### 1) Conceitos Fundamentais \n",
    "\n",
    "<img src = './img127.png' width = '70%'>\n",
    "<img src = './img412.png' width = '70%'>\n",
    "<img src = './img413.png' width = '70%'>\n",
    "<img src = './img414.png' width = '70%'>\n",
    "<img src = './img415.png' width = '70%'>\n",
    "<img src = './img416.png' width = '70%'>\n",
    "<img src = './img417.png' width = '70%'>\n",
    "<img src = './img418.png' width = '70%'>\n",
    "<img src = './img419.png' width = '70%'>\n",
    "<img src = './img420.png' width = '70%'>\n",
    "<img src = './img421.png' width = '70%'>\n",
    "<img src = './img431.png' width = '70%'>\n",
    "\n",
    "### 2) Fundamentos \n",
    "\n",
    "<img src = './img422.png' width = '70%'>\n",
    "<img src = './img423.png' width = '70%'>\n",
    "<img src = './img424.png' width = '70%'>\n",
    "<img src = './img425.png' width = '70%'>\n",
    "<img src = './img426.png' width = '70%'>\n",
    "<img src = './img427.png' width = '70%'>\n",
    "<img src = './img428.png' width = '70%'>\n",
    "<img src = './img429.png' width = '70%'>\n",
    "<img src = './img430.png' width = '70%'>\n"
   ]
  },
  {
   "cell_type": "markdown",
   "metadata": {},
   "source": [
    "### 3) Implementação do Algoritmo Agrupamento Hierárquico no Python "
   ]
  },
  {
   "cell_type": "code",
   "execution_count": 19,
   "metadata": {},
   "outputs": [
    {
     "data": {
      "text/html": [
       "<div>\n",
       "<style scoped>\n",
       "    .dataframe tbody tr th:only-of-type {\n",
       "        vertical-align: middle;\n",
       "    }\n",
       "\n",
       "    .dataframe tbody tr th {\n",
       "        vertical-align: top;\n",
       "    }\n",
       "\n",
       "    .dataframe thead th {\n",
       "        text-align: right;\n",
       "    }\n",
       "</style>\n",
       "<table border=\"1\" class=\"dataframe\">\n",
       "  <thead>\n",
       "    <tr style=\"text-align: right;\">\n",
       "      <th></th>\n",
       "      <th>genero</th>\n",
       "      <th>idade</th>\n",
       "      <th>rendimento</th>\n",
       "      <th>pontuacao</th>\n",
       "    </tr>\n",
       "  </thead>\n",
       "  <tbody>\n",
       "    <tr>\n",
       "      <th>0</th>\n",
       "      <td>1</td>\n",
       "      <td>19</td>\n",
       "      <td>15</td>\n",
       "      <td>39</td>\n",
       "    </tr>\n",
       "    <tr>\n",
       "      <th>1</th>\n",
       "      <td>1</td>\n",
       "      <td>21</td>\n",
       "      <td>15</td>\n",
       "      <td>81</td>\n",
       "    </tr>\n",
       "    <tr>\n",
       "      <th>2</th>\n",
       "      <td>0</td>\n",
       "      <td>20</td>\n",
       "      <td>16</td>\n",
       "      <td>6</td>\n",
       "    </tr>\n",
       "    <tr>\n",
       "      <th>3</th>\n",
       "      <td>0</td>\n",
       "      <td>23</td>\n",
       "      <td>16</td>\n",
       "      <td>77</td>\n",
       "    </tr>\n",
       "    <tr>\n",
       "      <th>4</th>\n",
       "      <td>0</td>\n",
       "      <td>31</td>\n",
       "      <td>17</td>\n",
       "      <td>40</td>\n",
       "    </tr>\n",
       "  </tbody>\n",
       "</table>\n",
       "</div>"
      ],
      "text/plain": [
       "   genero  idade  rendimento  pontuacao\n",
       "0       1     19          15         39\n",
       "1       1     21          15         81\n",
       "2       0     20          16          6\n",
       "3       0     23          16         77\n",
       "4       0     31          17         40"
      ]
     },
     "execution_count": 19,
     "metadata": {},
     "output_type": "execute_result"
    }
   ],
   "source": [
    "df2.head()"
   ]
  },
  {
   "cell_type": "code",
   "execution_count": 20,
   "metadata": {},
   "outputs": [],
   "source": [
    "from sklearn.decomposition import PCA \n",
    "from scipy.cluster.hierarchy import dendrogram, linkage \n",
    "\n",
    "def dendrograma(data, features):\n",
    "    scaler = StandardScaler()\n",
    "    padronizado = scaler.fit_transform(data[features])\n",
    "\n",
    "    pca = PCA(n_components=2)\n",
    "    padronizado_pca = pca.fit_transform(padronizado)\n",
    "\n",
    "    dendrograma = dendrogram(linkage(padronizado_pca, method = 'complete'))\n",
    "    plt.show()\n",
    "\n",
    "from sklearn.cluster import AgglomerativeClustering\n",
    "from sklearn.preprocessing import StandardScaler\n",
    "from sklearn.decomposition import PCA \n",
    "\n",
    "def agrup_hierarq_esc_pca(data, features ,n_clusters):\n",
    "\n",
    "    scaler = StandardScaler()\n",
    "    padronizado = scaler.fit_transform(data[features])\n",
    "\n",
    "    pca = PCA(n_components=2)\n",
    "    padronizado_pca = pca.fit_transform(padronizado)\n",
    "    pca_variance_ratio = pca.explained_variance_ratio_\n",
    "\n",
    "    hier = AgglomerativeClustering(n_clusters = n_clusters, affinity = 'euclidean', linkage = 'complete')\n",
    "    clusters = hier.fit_predict(padronizado_pca)\n",
    "\n",
    "    return clusters, pca_variance_ratio\n",
    "\n",
    "def plota_clusters_agrup_hier(data, features, model):\n",
    "\n",
    "    scaler = StandardScaler()\n",
    "    padronizado = scaler.fit_transform(data[features])\n",
    "\n",
    "    pca = PCA(n_components=2)\n",
    "    padronizado_pca = pca.fit_transform(padronizado)\n",
    "\n",
    "    graf= px.scatter(x = padronizado_pca[:, 0], y = padronizado_pca[:, 1], color = model[0])\n",
    "    graf.update_layout(width = 800, height = 500, title_text = 'Agrupamento K-Means')\n",
    "    graf.show()\n",
    "\n"
   ]
  },
  {
   "cell_type": "code",
   "execution_count": 21,
   "metadata": {},
   "outputs": [
    {
     "name": "stdout",
     "output_type": "stream",
     "text": [
      "Dendograma\n"
     ]
    },
    {
     "data": {
      "image/png": "[encoded data removed]",
      "text/plain": [
       "<Figure size 1000x500 with 1 Axes>"
      ]
     },
     "metadata": {},
     "output_type": "display_data"
    },
    {
     "name": "stdout",
     "output_type": "stream",
     "text": [
      "\n",
      "Resultados Agrupamento Hierárquico\n"
     ]
    },
    {
     "data": {
      "text/plain": [
       "(array([2, 2, 2, 2, 2, 2, 2, 2, 1, 2, 1, 2, 1, 2, 1, 2, 2, 2, 1, 2, 2, 2,\n",
       "        1, 2, 1, 2, 2, 2, 2, 2, 1, 2, 1, 0, 1, 2, 2, 2, 2, 2, 1, 0, 1, 2,\n",
       "        2, 2, 2, 2, 2, 2, 2, 2, 2, 1, 2, 1, 2, 1, 2, 1, 1, 0, 1, 2, 1, 0,\n",
       "        2, 1, 0, 2, 1, 2, 2, 2, 1, 0, 2, 2, 2, 2, 1, 2, 1, 2, 2, 1, 2, 2,\n",
       "        2, 2, 1, 0, 1, 2, 2, 0, 2, 2, 1, 0, 2, 2, 1, 0, 1, 2, 1, 1, 1, 1,\n",
       "        1, 2, 2, 0, 2, 2, 1, 2, 2, 2, 0, 2, 2, 0, 2, 2, 1, 0, 1, 0, 1, 0,\n",
       "        2, 2, 1, 0, 1, 0, 1, 2, 1, 0, 2, 0, 1, 0, 1, 2, 2, 0, 1, 0, 1, 2,\n",
       "        1, 0, 1, 0, 1, 2, 1, 0, 1, 0, 1, 0, 1, 0, 2, 0, 1, 0, 1, 0, 1, 0,\n",
       "        1, 0, 1, 0, 2, 0, 1, 0, 2, 0, 1, 0, 1, 0, 2, 0, 0, 0, 1, 0, 1, 0,\n",
       "        0, 0], dtype=int64),\n",
       " array([0.33690046, 0.26230645]))"
      ]
     },
     "metadata": {},
     "output_type": "display_data"
    },
    {
     "name": "stdout",
     "output_type": "stream",
     "text": [
      "\n",
      "Gráfico da Clusterização\n"
     ]
    },
    {
     "data": {
      "application/vnd.plotly.v1+json": {
       "config": {
        "plotlyServerURL": "https://plot.ly"
       },
       "data": [
        {
         "hovertemplate": "x=%{x}<br>y=%{y}<br>color=%{marker.color}<extra></extra>",
         "legendgroup": "",
         "marker": {
          "color": [
           2,
           2,
           2,
           2,
           2,
           2,
           2,
           2,
           1,
           2,
           1,
           2,
           1,
           2,
           1,
           2,
           2,
           2,
           1,
           2,
           2,
           2,
           1,
           2,
           1,
           2,
           2,
           2,
           2,
           2,
           1,
           2,
           1,
           0,
           1,
           2,
           2,
           2,
           2,
           2,
           1,
           0,
           1,
           2,
           2,
           2,
           2,
           2,
           2,
           2,
           2,
           2,
           2,
           1,
           2,
           1,
           2,
           1,
           2,
           1,
           1,
           0,
           1,
           2,
           1,
           0,
           2,
           1,
           0,
           2,
           1,
           2,
           2,
           2,
           1,
           0,
           2,
           2,
           2,
           2,
           1,
           2,
           1,
           2,
           2,
           1,
           2,
           2,
           2,
           2,
           1,
           0,
           1,
           2,
           2,
           0,
           2,
           2,
           1,
           0,
           2,
           2,
           1,
           0,
           1,
           2,
           1,
           1,
           1,
           1,
           1,
           2,
           2,
           0,
           2,
           2,
           1,
           2,
           2,
           2,
           0,
           2,
           2,
           0,
           2,
           2,
           1,
           0,
           1,
           0,
           1,
           0,
           2,
           2,
           1,
           0,
           1,
           0,
           1,
           2,
           1,
           0,
           2,
           0,
           1,
           0,
           1,
           2,
           2,
           0,
           1,
           0,
           1,
           2,
           1,
           0,
           1,
           0,
           1,
           2,
           1,
           0,
           1,
           0,
           1,
           0,
           1,
           0,
           2,
           0,
           1,
           0,
           1,
           0,
           1,
           0,
           1,
           0,
           1,
           0,
           2,
           0,
           1,
           0,
           2,
           0,
           1,
           0,
           1,
           0,
           2,
           0,
           0,
           0,
           1,
           0,
           1,
           0,
           0,
           0
          ],
          "coloraxis": "coloraxis",
          "symbol": "circle"
         },
         "mode": "markers",
         "name": "",
         "orientation": "v",
         "showlegend": false,
         "type": "scatter",
         "x": [
          -0.4063827151579576,
          -1.4276728699542192,
          0.05076057064984954,
          -1.6945131001694198,
          -0.31310838264528534,
          -1.717446272386951,
          0.790821124425765,
          -2.1483215883542024,
          2.774286226088666,
          -1.2162947672439113,
          2.629050844956016,
          -1.68947037764195,
          1.685822526686192,
          -1.6460733883910457,
          1.1744362769650292,
          -1.326130701573075,
          0.016772825250204734,
          -1.0784245398454704,
          1.4875878004377254,
          -1.6637316850276538,
          0.4880903105484115,
          -1.0189505128416625,
          1.3589149217937704,
          -0.7229727219419874,
          1.5131593111179218,
          -1.0624115725397174,
          0.5888329082822426,
          -0.20618822719627142,
          0.36842644009595854,
          -1.9642041381454185,
          2.5475919417038138,
          -1.6898306715897038,
          2.2013172145981366,
          -1.8732969500021581,
          1.265156925889713,
          -1.9038655693749473,
          0.8393445904066121,
          -1.2464443678738246,
          0.3024324438401296,
          -1.7941586766122872,
          1.4938759431071387,
          -1.5782477713162968,
          1.099728921816944,
          -0.8782291512115801,
          0.8904217399754475,
          -1.3304766384693385,
          0.21954068055520307,
          -0.7025923326402413,
          -0.4705191605153134,
          -0.37178251253093725,
          0.24970996494043884,
          -0.2815077131008868,
          -0.6924866296286217,
          1.0018365576425512,
          0.4855172696759459,
          0.91609546147039,
          0.40131691647412876,
          1.868629912104524,
          -0.8106544702734038,
          1.0782724221226068,
          1.6508608817087016,
          -0.840256337064783,
          1.1371790315325574,
          0.3087196858373394,
          1.4381548317970296,
          -0.9967581864763198,
          0.005441712322809547,
          1.292984421783733,
          -0.9473898624841315,
          -0.4576079371069289,
          1.676831727376451,
          0.4160212938629913,
          0.8709062189112109,
          0.6842350851144385,
          1.3459578368199967,
          -0.46986798871898383,
          0.022783527502133586,
          0.381292376140312,
          -1.036652295497895,
          0.5135971765800998,
          1.1405519695231792,
          0.09588459435916337,
          1.9009082577261638,
          0.3121575949473148,
          -1.2687254676228232,
          0.8295735777340377,
          0.3824337841231026,
          -1.166718993134775,
          -0.7078677824225224,
          0.45536766904603265,
          1.103759604398972,
          -0.5193003831583226,
          0.7481787449289854,
          0.12122395198590614,
          -0.3270572496078197,
          -0.5166629453678606,
          0.2801310861344508,
          -0.7872373081936429,
          0.9346177256723043,
          -0.6343664799057358,
          -0.7451691668163094,
          0.35173612318380965,
          1.4190395463925496,
          -0.49839251797472245,
          0.6104116290174942,
          -0.8705731196287966,
          1.1374308683413334,
          1.1236941442060848,
          1.894852594581049,
          1.6627794224561219,
          1.5067418791514924,
          -1.28954957860395,
          -0.03177591786850488,
          -0.6044293485739534,
          -1.179378379734383,
          -1.1833446653984159,
          1.1755327240546343,
          0.05769931091423529,
          0.58264853004147,
          0.15993793845573717,
          -0.47685226407791226,
          0.020862232627355207,
          -0.36087691240116165,
          -0.8182523512624237,
          -0.4270187333066135,
          -1.312102773118405,
          0.8721257089736008,
          -0.8760175526895843,
          2.302034208723259,
          -0.44140810411175324,
          1.7629489304732218,
          -0.39203978011956503,
          -0.4620829155696959,
          -1.1525632502566499,
          0.5362090958896766,
          -1.7048762333723555,
          1.1957003175874041,
          -0.6847477445155686,
          0.3532720947034832,
          -0.9822215652229147,
          1.8903588330351633,
          -1.2185581471846825,
          -0.47491038477560793,
          -1.5308004157280413,
          0.5954509698400305,
          -1.5231649685727835,
          1.09090710578571,
          -1.1843576060160603,
          0.3008467399765999,
          -1.0405160438763361,
          1.3505121245054121,
          -0.7403398142591745,
          0.8478645895547018,
          -0.9417144247726056,
          1.102638780843708,
          -1.8314409514521095,
          1.4809790578020487,
          -1.3899956263663313,
          1.332874085825484,
          -1.2566591022257798,
          1.0400427519858508,
          -1.572932627552525,
          0.48498354746986033,
          -1.741333333956159,
          1.4544595776235616,
          -1.0154088393030463,
          1.2192846616012647,
          -1.6970920608952713,
          0.2641574863393428,
          -0.4213248389828146,
          1.3069869943602073,
          -0.9388057928888912,
          1.1895156128757858,
          -0.9972033830292621,
          1.427160784754444,
          -1.6056555955257497,
          2.1420500635099193,
          -0.8284024409658707,
          2.21692492706295,
          -0.9946300156859507,
          0.17786775565644394,
          -1.509008325022455,
          1.5473086450691267,
          -1.7106800597086937,
          0.18820561172151704,
          -1.4295356877643848,
          1.2295390899347105,
          -0.7553848018404682,
          0.7739577057261308,
          -1.2862606425463132,
          0.2683756088121518,
          -1.0570570612653005,
          1.0887092711656507,
          -1.3498493540651342,
          1.0928883525986595,
          -1.1795717394785494,
          0.6727511283562378,
          -0.7237191611767158,
          0.7670962256094744,
          -1.0650152362020744
         ],
         "xaxis": "x",
         "y": [
          -0.5207136347541774,
          -0.36731019850645896,
          -1.8940677431734179,
          -1.6319080463761118,
          -1.810482722947552,
          -1.5992641803386454,
          -1.9472711231346218,
          -1.5053736875274328,
          -0.8829876717475735,
          -1.61640464130695,
          -0.8612370431432376,
          -1.5454278393385161,
          -2.0239447888163236,
          -1.5225125897317842,
          -0.6127909605390367,
          -0.23671914937156216,
          -1.7434457225503466,
          -0.24471564122900893,
          -0.572676027551779,
          -1.432597744753724,
          -0.3929211449929116,
          -0.1662475110338923,
          -1.8286693574393091,
          -0.18168701739897303,
          -1.7645119588688007,
          -0.04311506139166018,
          -1.6254161367177855,
          -0.17190696972128272,
          -1.5630064477055972,
          -1.2121199030829235,
          -0.5279135219026126,
          -1.2241232127435866,
          -0.38819564740584306,
          0.2248552703059974,
          -1.5812585396653882,
          -1.104440986026851,
          -1.4879386679529738,
          -1.1742594020487025,
          -1.3196008889709394,
          -1.0042035247144594,
          -1.4701325172117263,
          0.3262526763289247,
          -0.04751483040251073,
          -1.0837365309459666,
          -1.3499077218383493,
          -1.0156190695273388,
          -1.2199558687981913,
          -1.0808569291192693,
          -1.1157739296227112,
          -1.130656841110072,
          -1.1661164102701551,
          0.2478983173208912,
          -0.9949473431804717,
          0.08362969608220033,
          -1.1723963625393465,
          0.0967976267452591,
          -1.1305945011699443,
          -0.017671082502629037,
          -0.889574289324392,
          0.15981066559026302,
          0.07337409597985638,
          0.4488815211043456,
          -1.1540164731713936,
          -1.029229823881034,
          0.1638486533635431,
          0.5307687042548949,
          -0.9542259428324917,
          -1.1482759720309368,
          0.5233272485112145,
          -0.884390383061655,
          0.15699496246764635,
          -0.9868370801359413,
          -1.0263190520842724,
          -0.9982713274617593,
          0.35284257370741284,
          0.6264583378713825,
          -0.7818330323281919,
          0.49823705064055857,
          -0.6221278237704371,
          -0.8556738511382918,
          0.38375275640763856,
          0.5411676867504328,
          0.26927002093867186,
          -0.8253358483008179,
          -0.5872108232669951,
          0.4306917690846822,
          -0.7485858164579098,
          -0.5150382303261019,
          -0.5550923821371849,
          -0.7302511232810993,
          -0.7989267383414006,
          0.7799474928640268,
          0.6179675910763432,
          -0.6214590164695871,
          -0.5539137349137108,
          0.8085829823343237,
          -0.6455014820528375,
          -0.48465191376957906,
          0.6191290945508322,
          0.8555375799963992,
          -0.4325289948297984,
          -0.5979591195429782,
          0.5750665661725796,
          0.8641389804506153,
          0.69699231614918,
          -0.4136392655392211,
          -0.6872410034821121,
          0.6489260874956179,
          0.5327252536744425,
          0.5676422541778843,
          0.5911109811344294,
          -0.3214653123162641,
          -0.4817255569877855,
          0.9385862666214375,
          -0.2796463071978764,
          -0.2790741273351246,
          -0.6345459046795797,
          -0.46625643941659406,
          -0.48682997956140955,
          -0.4232930745727027,
          1.0067504829951615,
          -0.4021115083032116,
          -0.2864532431386773,
          1.1161100933775656,
          -0.24693698369237577,
          -0.11414137508744357,
          0.9203809296167421,
          1.1831143650407538,
          0.7051540104406663,
          1.1178609204637915,
          0.7864378437583998,
          1.1104194647201109,
          -0.1833673499696517,
          -0.07976382571273645,
          1.0297483338189128,
          0.03244421652630146,
          -0.40372986168941577,
          1.2129144755134462,
          1.086433106675676,
          -0.047104374690238024,
          -0.45006396576969027,
          1.351469287771774,
          -0.06481389799338783,
          0.09374071578305003,
          1.1374256921110317,
          1.4556808381533646,
          1.0624358372835683,
          0.07086131243824195,
          -0.12316689671935789,
          1.4121936071657706,
          1.0527228058378657,
          1.3669726928409356,
          -0.2055950897625951,
          0.06343544167959328,
          -0.24394672820650132,
          0.19738008630188902,
          1.03326245544849,
          0.13098072323546964,
          1.0555868226795315,
          0.11094663421938879,
          -0.20558106354151645,
          0.18766549609223304,
          1.27086361433861,
          0.27126921883103794,
          1.241158572540062,
          0.2787761320427528,
          1.3058585397672116,
          0.41044608343511974,
          0.14486733368238094,
          1.5817754908393138,
          1.3219029547290613,
          1.6596231274526296,
          1.3396483242941348,
          1.6682073841578606,
          -0.001082179364531512,
          0.45512754663121985,
          1.2251796150462464,
          1.6722329044740152,
          1.3597774819843604,
          1.8428905728771214,
          0.44955224792480203,
          0.7031276880168776,
          1.6065693649404333,
          0.7626749189513535,
          0.5062526057665974,
          2.0834009448000494,
          0.4078298702445126,
          2.0405045961881454,
          0.53493952648385,
          0.8446104158209519,
          0.6110706235089105,
          0.8102671539442153,
          2.113398986440798,
          1.1458606921229089,
          0.9828408518675859,
          1.324567842394371,
          1.221060945575554,
          2.7650103824577728,
          2.861930094544691,
          3.137256163241102
         ],
         "yaxis": "y"
        }
       ],
       "layout": {
        "coloraxis": {
         "colorbar": {
          "title": {
           "text": "color"
          }
         },
         "colorscale": [
          [
           0,
           "#0d0887"
          ],
          [
           0.1111111111111111,
           "#46039f"
          ],
          [
           0.2222222222222222,
           "#7201a8"
          ],
          [
           0.3333333333333333,
           "#9c179e"
          ],
          [
           0.4444444444444444,
           "#bd3786"
          ],
          [
           0.5555555555555556,
           "#d8576b"
          ],
          [
           0.6666666666666666,
           "#ed7953"
          ],
          [
           0.7777777777777778,
           "#fb9f3a"
          ],
          [
           0.8888888888888888,
           "#fdca26"
          ],
          [
           1,
           "#f0f921"
          ]
         ]
        },
        "height": 500,
        "legend": {
         "tracegroupgap": 0
        },
        "margin": {
         "t": 60
        },
        "template": {
         "data": {
          "bar": [
           {
            "error_x": {
             "color": "#2a3f5f"
            },
            "error_y": {
             "color": "#2a3f5f"
            },
            "marker": {
             "line": {
              "color": "#E5ECF6",
              "width": 0.5
             },
             "pattern": {
              "fillmode": "overlay",
              "size": 10,
              "solidity": 0.2
             }
            },
            "type": "bar"
           }
          ],
          "barpolar": [
           {
            "marker": {
             "line": {
              "color": "#E5ECF6",
              "width": 0.5
             },
             "pattern": {
              "fillmode": "overlay",
              "size": 10,
              "solidity": 0.2
             }
            },
            "type": "barpolar"
           }
          ],
          "carpet": [
           {
            "aaxis": {
             "endlinecolor": "#2a3f5f",
             "gridcolor": "white",
             "linecolor": "white",
             "minorgridcolor": "white",
             "startlinecolor": "#2a3f5f"
            },
            "baxis": {
             "endlinecolor": "#2a3f5f",
             "gridcolor": "white",
             "linecolor": "white",
             "minorgridcolor": "white",
             "startlinecolor": "#2a3f5f"
            },
            "type": "carpet"
           }
          ],
          "choropleth": [
           {
            "colorbar": {
             "outlinewidth": 0,
             "ticks": ""
            },
            "type": "choropleth"
           }
          ],
          "contour": [
           {
            "colorbar": {
             "outlinewidth": 0,
             "ticks": ""
            },
            "colorscale": [
             [
              0,
              "#0d0887"
             ],
             [
              0.1111111111111111,
              "#46039f"
             ],
             [
              0.2222222222222222,
              "#7201a8"
             ],
             [
              0.3333333333333333,
              "#9c179e"
             ],
             [
              0.4444444444444444,
              "#bd3786"
             ],
             [
              0.5555555555555556,
              "#d8576b"
             ],
             [
              0.6666666666666666,
              "#ed7953"
             ],
             [
              0.7777777777777778,
              "#fb9f3a"
             ],
             [
              0.8888888888888888,
              "#fdca26"
             ],
             [
              1,
              "#f0f921"
             ]
            ],
            "type": "contour"
           }
          ],
          "contourcarpet": [
           {
            "colorbar": {
             "outlinewidth": 0,
             "ticks": ""
            },
            "type": "contourcarpet"
           }
          ],
          "heatmap": [
           {
            "colorbar": {
             "outlinewidth": 0,
             "ticks": ""
            },
            "colorscale": [
             [
              0,
              "#0d0887"
             ],
             [
              0.1111111111111111,
              "#46039f"
             ],
             [
              0.2222222222222222,
              "#7201a8"
             ],
             [
              0.3333333333333333,
              "#9c179e"
             ],
             [
              0.4444444444444444,
              "#bd3786"
             ],
             [
              0.5555555555555556,
              "#d8576b"
             ],
             [
              0.6666666666666666,
              "#ed7953"
             ],
             [
              0.7777777777777778,
              "#fb9f3a"
             ],
             [
              0.8888888888888888,
              "#fdca26"
             ],
             [
              1,
              "#f0f921"
             ]
            ],
            "type": "heatmap"
           }
          ],
          "heatmapgl": [
           {
            "colorbar": {
             "outlinewidth": 0,
             "ticks": ""
            },
            "colorscale": [
             [
              0,
              "#0d0887"
             ],
             [
              0.1111111111111111,
              "#46039f"
             ],
             [
              0.2222222222222222,
              "#7201a8"
             ],
             [
              0.3333333333333333,
              "#9c179e"
             ],
             [
              0.4444444444444444,
              "#bd3786"
             ],
             [
              0.5555555555555556,
              "#d8576b"
             ],
             [
              0.6666666666666666,
              "#ed7953"
             ],
             [
              0.7777777777777778,
              "#fb9f3a"
             ],
             [
              0.8888888888888888,
              "#fdca26"
             ],
             [
              1,
              "#f0f921"
             ]
            ],
            "type": "heatmapgl"
           }
          ],
          "histogram": [
           {
            "marker": {
             "pattern": {
              "fillmode": "overlay",
              "size": 10,
              "solidity": 0.2
             }
            },
            "type": "histogram"
           }
          ],
          "histogram2d": [
           {
            "colorbar": {
             "outlinewidth": 0,
             "ticks": ""
            },
            "colorscale": [
             [
              0,
              "#0d0887"
             ],
             [
              0.1111111111111111,
              "#46039f"
             ],
             [
              0.2222222222222222,
              "#7201a8"
             ],
             [
              0.3333333333333333,
              "#9c179e"
             ],
             [
              0.4444444444444444,
              "#bd3786"
             ],
             [
              0.5555555555555556,
              "#d8576b"
             ],
             [
              0.6666666666666666,
              "#ed7953"
             ],
             [
              0.7777777777777778,
              "#fb9f3a"
             ],
             [
              0.8888888888888888,
              "#fdca26"
             ],
             [
              1,
              "#f0f921"
             ]
            ],
            "type": "histogram2d"
           }
          ],
          "histogram2dcontour": [
           {
            "colorbar": {
             "outlinewidth": 0,
             "ticks": ""
            },
            "colorscale": [
             [
              0,
              "#0d0887"
             ],
             [
              0.1111111111111111,
              "#46039f"
             ],
             [
              0.2222222222222222,
              "#7201a8"
             ],
             [
              0.3333333333333333,
              "#9c179e"
             ],
             [
              0.4444444444444444,
              "#bd3786"
             ],
             [
              0.5555555555555556,
              "#d8576b"
             ],
             [
              0.6666666666666666,
              "#ed7953"
             ],
             [
              0.7777777777777778,
              "#fb9f3a"
             ],
             [
              0.8888888888888888,
              "#fdca26"
             ],
             [
              1,
              "#f0f921"
             ]
            ],
            "type": "histogram2dcontour"
           }
          ],
          "mesh3d": [
           {
            "colorbar": {
             "outlinewidth": 0,
             "ticks": ""
            },
            "type": "mesh3d"
           }
          ],
          "parcoords": [
           {
            "line": {
             "colorbar": {
              "outlinewidth": 0,
              "ticks": ""
             }
            },
            "type": "parcoords"
           }
          ],
          "pie": [
           {
            "automargin": true,
            "type": "pie"
           }
          ],
          "scatter": [
           {
            "fillpattern": {
             "fillmode": "overlay",
             "size": 10,
             "solidity": 0.2
            },
            "type": "scatter"
           }
          ],
          "scatter3d": [
           {
            "line": {
             "colorbar": {
              "outlinewidth": 0,
              "ticks": ""
             }
            },
            "marker": {
             "colorbar": {
              "outlinewidth": 0,
              "ticks": ""
             }
            },
            "type": "scatter3d"
           }
          ],
          "scattercarpet": [
           {
            "marker": {
             "colorbar": {
              "outlinewidth": 0,
              "ticks": ""
             }
            },
            "type": "scattercarpet"
           }
          ],
          "scattergeo": [
           {
            "marker": {
             "colorbar": {
              "outlinewidth": 0,
              "ticks": ""
             }
            },
            "type": "scattergeo"
           }
          ],
          "scattergl": [
           {
            "marker": {
             "colorbar": {
              "outlinewidth": 0,
              "ticks": ""
             }
            },
            "type": "scattergl"
           }
          ],
          "scattermapbox": [
           {
            "marker": {
             "colorbar": {
              "outlinewidth": 0,
              "ticks": ""
             }
            },
            "type": "scattermapbox"
           }
          ],
          "scatterpolar": [
           {
            "marker": {
             "colorbar": {
              "outlinewidth": 0,
              "ticks": ""
             }
            },
            "type": "scatterpolar"
           }
          ],
          "scatterpolargl": [
           {
            "marker": {
             "colorbar": {
              "outlinewidth": 0,
              "ticks": ""
             }
            },
            "type": "scatterpolargl"
           }
          ],
          "scatterternary": [
           {
            "marker": {
             "colorbar": {
              "outlinewidth": 0,
              "ticks": ""
             }
            },
            "type": "scatterternary"
           }
          ],
          "surface": [
           {
            "colorbar": {
             "outlinewidth": 0,
             "ticks": ""
            },
            "colorscale": [
             [
              0,
              "#0d0887"
             ],
             [
              0.1111111111111111,
              "#46039f"
             ],
             [
              0.2222222222222222,
              "#7201a8"
             ],
             [
              0.3333333333333333,
              "#9c179e"
             ],
             [
              0.4444444444444444,
              "#bd3786"
             ],
             [
              0.5555555555555556,
              "#d8576b"
             ],
             [
              0.6666666666666666,
              "#ed7953"
             ],
             [
              0.7777777777777778,
              "#fb9f3a"
             ],
             [
              0.8888888888888888,
              "#fdca26"
             ],
             [
              1,
              "#f0f921"
             ]
            ],
            "type": "surface"
           }
          ],
          "table": [
           {
            "cells": {
             "fill": {
              "color": "#EBF0F8"
             },
             "line": {
              "color": "white"
             }
            },
            "header": {
             "fill": {
              "color": "#C8D4E3"
             },
             "line": {
              "color": "white"
             }
            },
            "type": "table"
           }
          ]
         },
         "layout": {
          "annotationdefaults": {
           "arrowcolor": "#2a3f5f",
           "arrowhead": 0,
           "arrowwidth": 1
          },
          "autotypenumbers": "strict",
          "coloraxis": {
           "colorbar": {
            "outlinewidth": 0,
            "ticks": ""
           }
          },
          "colorscale": {
           "diverging": [
            [
             0,
             "#8e0152"
            ],
            [
             0.1,
             "#c51b7d"
            ],
            [
             0.2,
             "#de77ae"
            ],
            [
             0.3,
             "#f1b6da"
            ],
            [
             0.4,
             "#fde0ef"
            ],
            [
             0.5,
             "#f7f7f7"
            ],
            [
             0.6,
             "#e6f5d0"
            ],
            [
             0.7,
             "#b8e186"
            ],
            [
             0.8,
             "#7fbc41"
            ],
            [
             0.9,
             "#4d9221"
            ],
            [
             1,
             "#276419"
            ]
           ],
           "sequential": [
            [
             0,
             "#0d0887"
            ],
            [
             0.1111111111111111,
             "#46039f"
            ],
            [
             0.2222222222222222,
             "#7201a8"
            ],
            [
             0.3333333333333333,
             "#9c179e"
            ],
            [
             0.4444444444444444,
             "#bd3786"
            ],
            [
             0.5555555555555556,
             "#d8576b"
            ],
            [
             0.6666666666666666,
             "#ed7953"
            ],
            [
             0.7777777777777778,
             "#fb9f3a"
            ],
            [
             0.8888888888888888,
             "#fdca26"
            ],
            [
             1,
             "#f0f921"
            ]
           ],
           "sequentialminus": [
            [
             0,
             "#0d0887"
            ],
            [
             0.1111111111111111,
             "#46039f"
            ],
            [
             0.2222222222222222,
             "#7201a8"
            ],
            [
             0.3333333333333333,
             "#9c179e"
            ],
            [
             0.4444444444444444,
             "#bd3786"
            ],
            [
             0.5555555555555556,
             "#d8576b"
            ],
            [
             0.6666666666666666,
             "#ed7953"
            ],
            [
             0.7777777777777778,
             "#fb9f3a"
            ],
            [
             0.8888888888888888,
             "#fdca26"
            ],
            [
             1,
             "#f0f921"
            ]
           ]
          },
          "colorway": [
           "#636efa",
           "#EF553B",
           "#00cc96",
           "#ab63fa",
           "#FFA15A",
           "#19d3f3",
           "#FF6692",
           "#B6E880",
           "#FF97FF",
           "#FECB52"
          ],
          "font": {
           "color": "#2a3f5f"
          },
          "geo": {
           "bgcolor": "white",
           "lakecolor": "white",
           "landcolor": "#E5ECF6",
           "showlakes": true,
           "showland": true,
           "subunitcolor": "white"
          },
          "hoverlabel": {
           "align": "left"
          },
          "hovermode": "closest",
          "mapbox": {
           "style": "light"
          },
          "paper_bgcolor": "white",
          "plot_bgcolor": "#E5ECF6",
          "polar": {
           "angularaxis": {
            "gridcolor": "white",
            "linecolor": "white",
            "ticks": ""
           },
           "bgcolor": "#E5ECF6",
           "radialaxis": {
            "gridcolor": "white",
            "linecolor": "white",
            "ticks": ""
           }
          },
          "scene": {
           "xaxis": {
            "backgroundcolor": "#E5ECF6",
            "gridcolor": "white",
            "gridwidth": 2,
            "linecolor": "white",
            "showbackground": true,
            "ticks": "",
            "zerolinecolor": "white"
           },
           "yaxis": {
            "backgroundcolor": "#E5ECF6",
            "gridcolor": "white",
            "gridwidth": 2,
            "linecolor": "white",
            "showbackground": true,
            "ticks": "",
            "zerolinecolor": "white"
           },
           "zaxis": {
            "backgroundcolor": "#E5ECF6",
            "gridcolor": "white",
            "gridwidth": 2,
            "linecolor": "white",
            "showbackground": true,
            "ticks": "",
            "zerolinecolor": "white"
           }
          },
          "shapedefaults": {
           "line": {
            "color": "#2a3f5f"
           }
          },
          "ternary": {
           "aaxis": {
            "gridcolor": "white",
            "linecolor": "white",
            "ticks": ""
           },
           "baxis": {
            "gridcolor": "white",
            "linecolor": "white",
            "ticks": ""
           },
           "bgcolor": "#E5ECF6",
           "caxis": {
            "gridcolor": "white",
            "linecolor": "white",
            "ticks": ""
           }
          },
          "title": {
           "x": 0.05
          },
          "xaxis": {
           "automargin": true,
           "gridcolor": "white",
           "linecolor": "white",
           "ticks": "",
           "title": {
            "standoff": 15
           },
           "zerolinecolor": "white",
           "zerolinewidth": 2
          },
          "yaxis": {
           "automargin": true,
           "gridcolor": "white",
           "linecolor": "white",
           "ticks": "",
           "title": {
            "standoff": 15
           },
           "zerolinecolor": "white",
           "zerolinewidth": 2
          }
         }
        },
        "title": {
         "text": "Agrupamento K-Means"
        },
        "width": 800,
        "xaxis": {
         "anchor": "y",
         "domain": [
          0,
          1
         ],
         "title": {
          "text": "x"
         }
        },
        "yaxis": {
         "anchor": "x",
         "domain": [
          0,
          1
         ],
         "title": {
          "text": "y"
         }
        }
       }
      }
     },
     "metadata": {},
     "output_type": "display_data"
    },
    {
     "data": {
      "text/plain": [
       "None"
      ]
     },
     "metadata": {},
     "output_type": "display_data"
    },
    {
     "data": {
      "text/html": [
       "<div>\n",
       "<style scoped>\n",
       "    .dataframe tbody tr th:only-of-type {\n",
       "        vertical-align: middle;\n",
       "    }\n",
       "\n",
       "    .dataframe tbody tr th {\n",
       "        vertical-align: top;\n",
       "    }\n",
       "\n",
       "    .dataframe thead th {\n",
       "        text-align: right;\n",
       "    }\n",
       "</style>\n",
       "<table border=\"1\" class=\"dataframe\">\n",
       "  <thead>\n",
       "    <tr style=\"text-align: right;\">\n",
       "      <th></th>\n",
       "      <th>identificacao</th>\n",
       "      <th>genero</th>\n",
       "      <th>idade</th>\n",
       "      <th>rendimento</th>\n",
       "      <th>pontuacao</th>\n",
       "      <th>cluster</th>\n",
       "    </tr>\n",
       "  </thead>\n",
       "  <tbody>\n",
       "    <tr>\n",
       "      <th>0</th>\n",
       "      <td>1</td>\n",
       "      <td>Male</td>\n",
       "      <td>19</td>\n",
       "      <td>15</td>\n",
       "      <td>39</td>\n",
       "      <td>2</td>\n",
       "    </tr>\n",
       "    <tr>\n",
       "      <th>1</th>\n",
       "      <td>2</td>\n",
       "      <td>Male</td>\n",
       "      <td>21</td>\n",
       "      <td>15</td>\n",
       "      <td>81</td>\n",
       "      <td>2</td>\n",
       "    </tr>\n",
       "    <tr>\n",
       "      <th>2</th>\n",
       "      <td>3</td>\n",
       "      <td>Female</td>\n",
       "      <td>20</td>\n",
       "      <td>16</td>\n",
       "      <td>6</td>\n",
       "      <td>2</td>\n",
       "    </tr>\n",
       "    <tr>\n",
       "      <th>3</th>\n",
       "      <td>4</td>\n",
       "      <td>Female</td>\n",
       "      <td>23</td>\n",
       "      <td>16</td>\n",
       "      <td>77</td>\n",
       "      <td>2</td>\n",
       "    </tr>\n",
       "    <tr>\n",
       "      <th>4</th>\n",
       "      <td>5</td>\n",
       "      <td>Female</td>\n",
       "      <td>31</td>\n",
       "      <td>17</td>\n",
       "      <td>40</td>\n",
       "      <td>2</td>\n",
       "    </tr>\n",
       "    <tr>\n",
       "      <th>...</th>\n",
       "      <td>...</td>\n",
       "      <td>...</td>\n",
       "      <td>...</td>\n",
       "      <td>...</td>\n",
       "      <td>...</td>\n",
       "      <td>...</td>\n",
       "    </tr>\n",
       "    <tr>\n",
       "      <th>195</th>\n",
       "      <td>196</td>\n",
       "      <td>Female</td>\n",
       "      <td>35</td>\n",
       "      <td>120</td>\n",
       "      <td>79</td>\n",
       "      <td>0</td>\n",
       "    </tr>\n",
       "    <tr>\n",
       "      <th>196</th>\n",
       "      <td>197</td>\n",
       "      <td>Female</td>\n",
       "      <td>45</td>\n",
       "      <td>126</td>\n",
       "      <td>28</td>\n",
       "      <td>1</td>\n",
       "    </tr>\n",
       "    <tr>\n",
       "      <th>197</th>\n",
       "      <td>198</td>\n",
       "      <td>Male</td>\n",
       "      <td>32</td>\n",
       "      <td>126</td>\n",
       "      <td>74</td>\n",
       "      <td>0</td>\n",
       "    </tr>\n",
       "    <tr>\n",
       "      <th>198</th>\n",
       "      <td>199</td>\n",
       "      <td>Male</td>\n",
       "      <td>32</td>\n",
       "      <td>137</td>\n",
       "      <td>18</td>\n",
       "      <td>0</td>\n",
       "    </tr>\n",
       "    <tr>\n",
       "      <th>199</th>\n",
       "      <td>200</td>\n",
       "      <td>Male</td>\n",
       "      <td>30</td>\n",
       "      <td>137</td>\n",
       "      <td>83</td>\n",
       "      <td>0</td>\n",
       "    </tr>\n",
       "  </tbody>\n",
       "</table>\n",
       "<p>200 rows × 6 columns</p>\n",
       "</div>"
      ],
      "text/plain": [
       "     identificacao  genero  idade  rendimento  pontuacao  cluster\n",
       "0                1    Male     19          15         39        2\n",
       "1                2    Male     21          15         81        2\n",
       "2                3  Female     20          16          6        2\n",
       "3                4  Female     23          16         77        2\n",
       "4                5  Female     31          17         40        2\n",
       "..             ...     ...    ...         ...        ...      ...\n",
       "195            196  Female     35         120         79        0\n",
       "196            197  Female     45         126         28        1\n",
       "197            198    Male     32         126         74        0\n",
       "198            199    Male     32         137         18        0\n",
       "199            200    Male     30         137         83        0\n",
       "\n",
       "[200 rows x 6 columns]"
      ]
     },
     "execution_count": 21,
     "metadata": {},
     "output_type": "execute_result"
    }
   ],
   "source": [
    "print('Dendograma')\n",
    "dendrograma(df2, list(df2.columns))\n",
    "print()\n",
    "print('Resultados Agrupamento Hierárquico')\n",
    "display(agrup_hierarq_esc_pca(df2, list(df2.columns), 3))\n",
    "print()\n",
    "print('Gráfico da Clusterização')\n",
    "display(plota_clusters_agrup_hier(df2, list(df2.columns), agrup_hierarq_esc_pca(df2, list(df2.columns), 3)))\n",
    "agrupamento_hier_esc_pca = df.copy()\n",
    "agrupamento_hier_esc_pca['cluster'] = agrup_hierarq_esc_pca(df2, list(df2.columns), 3)[0]\n",
    "agrupamento_hier_esc_pca"
   ]
  },
  {
   "cell_type": "markdown",
   "metadata": {},
   "source": [
    "## 5.3) DBSCAN\n",
    "\n",
    "> CONSULTAR: \n",
    "\n",
    "https://gabriellm.medium.com/entendendo-dbscan-770f680d9160\n",
    "\n",
    "https://medium.com/@isnardgurgel/an%C3%A1lises-com-algoritmos-de-clustering-40d52f36f67c\n",
    "\n",
    "https://www.youtube.com/watch?v=o6txmOn2IUk&list=PLFE-LjWAAP9R4G0WOXWuha4P5cCvw7hGB&index=2&ab_channel=DataICMC\n",
    "\n",
    "https://www.youtube.com/watch?v=XEMVQrZaDY0&ab_channel=AbelSiqueira\n",
    "\n",
    "## 1) Conceitos Fundamentais \n",
    "\n",
    "> 1. Baseado em densidade e agrupando os pontos similares no mesmo espaço, ele tenta encontrar os pontos que são separados por uma distância não maior do que um limiar.\n",
    "\n",
    "> 2. Não é necessário especificar o número de clusters.\n",
    "\n",
    "> 3. Seu objetivo é que cada grupo tenha pelo menos um número mínimo de registros, considerando como condição de vizinhança uma distância menor ou igual a EPS. Lembrando que a métrica distância (Manhatan ou Euclidiana) importa bastante.\n",
    "\n",
    "> 4. Em geral, apresenta melhores resultados e mais velocidade que o K-Means. Isso ocorre pois ele não é tão refém da inicialização dos \"centroides\".\n",
    "\n",
    "> 5. Sua deficiência está na aleatoriedade de pontos iniciais. Caso ele inicie as buscas de Raio por um registro que é Cluster A, mas está próximo do Cluster B, ele pode considerar esse registro já como um Cluster B; por isso precisamos realizar muitos testes antes de validá-lo.\n",
    "\n",
    "> 6. Vantagens\n",
    "- Robusto a OUTLIERS\n",
    "\n",
    "- Pode detectar qualquer tipo de forma de Cluster, seja formas esféricas ou irregulares\n",
    "\n",
    "- Custo Computacional não é tão alto\n",
    "\n",
    "- Segundo Algoritmo de Clusterização mais utilizado\n",
    "\n",
    "> 7. Desvantagens\n",
    "- Não funciona bem com dados de alta dimensionalidade, pois as métricas de distância acabam não fazendo mais tanto sentido\n",
    "\n",
    "- Não consegue identificar clusters de várias densidades (distância entre os dados, ou seja, em Clusters os quais o Cluster A tem dados muito juntos e próximos, e o Cluster B tem dados muito separados e distantes), uma vez que os parâmetros EPS e min_samples são fixos\n",
    "\n",
    "- A parametrização de EPS e min_samples nem sempre é uma tarefa fácil, pois temos de analisar precisamente a Distribuição dos nossos dados\n",
    "\n",
    "<img src = './img436.png' width = '70%'>\n",
    "<img src = './img437.png' width = '70%'>\n",
    "<img src = './img438.png' width = '70%'>\n",
    "<img src = './img439.png' width = '70%'>\n",
    "\n",
    "## 2) Fundamentos \n",
    "\n",
    "<img src = './img440.png' width = '70%'>\n",
    "<img src = './img441.png' width = '70%'>\n",
    "<img src = './img442.png' width = '70%'>\n",
    "<img src = './img443.png' width = '70%'>\n",
    "<img src = './img444.png' width = '70%'>\n",
    "<img src = './img445.png' width = '70%'>\n",
    "<img src = './img446.png' width = '70%'>\n",
    "<img src = './img447.png' width = '70%'>\n",
    "<img src = './img448.png' width = '70%'>\n",
    "<img src = './img449.png' width = '70%'>"
   ]
  },
  {
   "cell_type": "markdown",
   "metadata": {},
   "source": [
    "### 3) Implementação do Algoritmo DBSCAN no Python "
   ]
  },
  {
   "cell_type": "code",
   "execution_count": 22,
   "metadata": {},
   "outputs": [],
   "source": [
    "from sklearn.cluster import DBSCAN\n",
    "from sklearn.preprocessing import StandardScaler\n",
    "from sklearn.decomposition import PCA \n",
    "\n",
    "def dbscan(data, features ,n_clusters):\n",
    "\n",
    "    scaler = StandardScaler()\n",
    "    padronizado = scaler.fit_transform(data[features])\n",
    "\n",
    "    pca = PCA(n_components=2)\n",
    "    padronizado_pca = pca.fit_transform(padronizado)\n",
    "    pca_variance_ratio = pca.explained_variance_ratio_\n",
    "\n",
    "    dbscan = DBSCAN(eps = 0.33, min_samples = 3)\n",
    "    dbscan.fit(padronizado_pca)\n",
    "    clusters = dbscan.labels_\n",
    "\n",
    "    return clusters, pca_variance_ratio\n",
    "\n",
    "def plota_clusters_dbscan(data, features, model):\n",
    "\n",
    "    scaler = StandardScaler()\n",
    "    padronizado = scaler.fit_transform(data[features])\n",
    "\n",
    "    pca = PCA(n_components=2)\n",
    "    padronizado_pca = pca.fit_transform(padronizado)\n",
    "\n",
    "    graf= px.scatter(x = padronizado_pca[:, 0], y = padronizado_pca[:, 1], color = model[0])\n",
    "    graf.update_layout(width = 800, height = 500, title_text = 'Agrupamento DBSCAN')\n",
    "    graf.show()\n",
    "\n"
   ]
  },
  {
   "cell_type": "code",
   "execution_count": 23,
   "metadata": {},
   "outputs": [
    {
     "name": "stdout",
     "output_type": "stream",
     "text": [
      "Resultados Agrupamento Hierárquico - Pontos Negativos são os Ruídos/Outliers\n"
     ]
    },
    {
     "data": {
      "text/plain": [
       "(array([ 0,  0, -1,  1, -1,  1, -1, -1, -1, -1, -1,  1,  2,  1,  0,  0, -1,\n",
       "         0,  0,  1,  0,  0,  2,  0,  2,  0,  0,  0,  0,  1, -1,  1, -1,  0,\n",
       "         2,  1,  0, -1,  0,  1,  2,  0,  0,  3,  0, -1,  0,  3,  3,  3,  0,\n",
       "        -1,  3,  0,  0,  0,  0,  0,  3,  0,  0,  0,  0,  0,  0,  0,  0,  0,\n",
       "         0,  3,  0,  0,  0,  0,  0,  0,  0,  0,  0,  0,  0,  0,  0,  0,  0,\n",
       "         0,  0,  0,  0,  0,  0,  0,  0,  0,  0,  0,  0,  0,  0,  0,  0,  0,\n",
       "         0,  0,  0,  0,  0,  0,  0,  0,  0,  0,  0,  0,  0,  0,  0,  0,  0,\n",
       "         0,  0,  0,  0,  0,  0,  0,  0,  0, -1,  0,  0,  0,  0,  0,  4,  0,\n",
       "         0,  0,  4,  0, -1,  0,  0,  0,  4,  0,  0,  0,  0,  0,  0,  0,  0,\n",
       "         0,  0,  0,  0,  0,  0,  0,  0,  0,  4,  0,  0,  0,  0,  0,  0, -1,\n",
       "         0,  0,  0,  0,  0,  0, -1,  0, -1,  0,  0,  0, -1,  0,  0, -1,  0,\n",
       "         0,  0,  0,  0,  0, -1,  0,  0,  0,  4, -1, -1, -1], dtype=int64),\n",
       " array([0.33690046, 0.26230645]))"
      ]
     },
     "metadata": {},
     "output_type": "display_data"
    },
    {
     "name": "stdout",
     "output_type": "stream",
     "text": [
      "\n",
      "Gráfico da Clusterização\n"
     ]
    },
    {
     "data": {
      "application/vnd.plotly.v1+json": {
       "config": {
        "plotlyServerURL": "https://plot.ly"
       },
       "data": [
        {
         "hovertemplate": "x=%{x}<br>y=%{y}<br>color=%{marker.color}<extra></extra>",
         "legendgroup": "",
         "marker": {
          "color": [
           0,
           0,
           -1,
           1,
           -1,
           1,
           -1,
           -1,
           -1,
           -1,
           -1,
           1,
           2,
           1,
           0,
           0,
           -1,
           0,
           0,
           1,
           0,
           0,
           2,
           0,
           2,
           0,
           0,
           0,
           0,
           1,
           -1,
           1,
           -1,
           0,
           2,
           1,
           0,
           -1,
           0,
           1,
           2,
           0,
           0,
           3,
           0,
           -1,
           0,
           3,
           3,
           3,
           0,
           -1,
           3,
           0,
           0,
           0,
           0,
           0,
           3,
           0,
           0,
           0,
           0,
           0,
           0,
           0,
           0,
           0,
           0,
           3,
           0,
           0,
           0,
           0,
           0,
           0,
           0,
           0,
           0,
           0,
           0,
           0,
           0,
           0,
           0,
           0,
           0,
           0,
           0,
           0,
           0,
           0,
           0,
           0,
           0,
           0,
           0,
           0,
           0,
           0,
           0,
           0,
           0,
           0,
           0,
           0,
           0,
           0,
           0,
           0,
           0,
           0,
           0,
           0,
           0,
           0,
           0,
           0,
           0,
           0,
           0,
           0,
           0,
           0,
           0,
           0,
           0,
           0,
           -1,
           0,
           0,
           0,
           0,
           0,
           4,
           0,
           0,
           0,
           4,
           0,
           -1,
           0,
           0,
           0,
           4,
           0,
           0,
           0,
           0,
           0,
           0,
           0,
           0,
           0,
           0,
           0,
           0,
           0,
           0,
           0,
           0,
           0,
           4,
           0,
           0,
           0,
           0,
           0,
           0,
           -1,
           0,
           0,
           0,
           0,
           0,
           0,
           -1,
           0,
           -1,
           0,
           0,
           0,
           -1,
           0,
           0,
           -1,
           0,
           0,
           0,
           0,
           0,
           0,
           -1,
           0,
           0,
           0,
           4,
           -1,
           -1,
           -1
          ],
          "coloraxis": "coloraxis",
          "symbol": "circle"
         },
         "mode": "markers",
         "name": "",
         "orientation": "v",
         "showlegend": false,
         "type": "scatter",
         "x": [
          -0.4063827151579576,
          -1.4276728699542192,
          0.05076057064984954,
          -1.6945131001694198,
          -0.31310838264528534,
          -1.717446272386951,
          0.790821124425765,
          -2.1483215883542024,
          2.774286226088666,
          -1.2162947672439113,
          2.629050844956016,
          -1.68947037764195,
          1.685822526686192,
          -1.6460733883910457,
          1.1744362769650292,
          -1.326130701573075,
          0.016772825250204734,
          -1.0784245398454704,
          1.4875878004377254,
          -1.6637316850276538,
          0.4880903105484115,
          -1.0189505128416625,
          1.3589149217937704,
          -0.7229727219419874,
          1.5131593111179218,
          -1.0624115725397174,
          0.5888329082822426,
          -0.20618822719627142,
          0.36842644009595854,
          -1.9642041381454185,
          2.5475919417038138,
          -1.6898306715897038,
          2.2013172145981366,
          -1.8732969500021581,
          1.265156925889713,
          -1.9038655693749473,
          0.8393445904066121,
          -1.2464443678738246,
          0.3024324438401296,
          -1.7941586766122872,
          1.4938759431071387,
          -1.5782477713162968,
          1.099728921816944,
          -0.8782291512115801,
          0.8904217399754475,
          -1.3304766384693385,
          0.21954068055520307,
          -0.7025923326402413,
          -0.4705191605153134,
          -0.37178251253093725,
          0.24970996494043884,
          -0.2815077131008868,
          -0.6924866296286217,
          1.0018365576425512,
          0.4855172696759459,
          0.91609546147039,
          0.40131691647412876,
          1.868629912104524,
          -0.8106544702734038,
          1.0782724221226068,
          1.6508608817087016,
          -0.840256337064783,
          1.1371790315325574,
          0.3087196858373394,
          1.4381548317970296,
          -0.9967581864763198,
          0.005441712322809547,
          1.292984421783733,
          -0.9473898624841315,
          -0.4576079371069289,
          1.676831727376451,
          0.4160212938629913,
          0.8709062189112109,
          0.6842350851144385,
          1.3459578368199967,
          -0.46986798871898383,
          0.022783527502133586,
          0.381292376140312,
          -1.036652295497895,
          0.5135971765800998,
          1.1405519695231792,
          0.09588459435916337,
          1.9009082577261638,
          0.3121575949473148,
          -1.2687254676228232,
          0.8295735777340377,
          0.3824337841231026,
          -1.166718993134775,
          -0.7078677824225224,
          0.45536766904603265,
          1.103759604398972,
          -0.5193003831583226,
          0.7481787449289854,
          0.12122395198590614,
          -0.3270572496078197,
          -0.5166629453678606,
          0.2801310861344508,
          -0.7872373081936429,
          0.9346177256723043,
          -0.6343664799057358,
          -0.7451691668163094,
          0.35173612318380965,
          1.4190395463925496,
          -0.49839251797472245,
          0.6104116290174942,
          -0.8705731196287966,
          1.1374308683413334,
          1.1236941442060848,
          1.894852594581049,
          1.6627794224561219,
          1.5067418791514924,
          -1.28954957860395,
          -0.03177591786850488,
          -0.6044293485739534,
          -1.179378379734383,
          -1.1833446653984159,
          1.1755327240546343,
          0.05769931091423529,
          0.58264853004147,
          0.15993793845573717,
          -0.47685226407791226,
          0.020862232627355207,
          -0.36087691240116165,
          -0.8182523512624237,
          -0.4270187333066135,
          -1.312102773118405,
          0.8721257089736008,
          -0.8760175526895843,
          2.302034208723259,
          -0.44140810411175324,
          1.7629489304732218,
          -0.39203978011956503,
          -0.4620829155696959,
          -1.1525632502566499,
          0.5362090958896766,
          -1.7048762333723555,
          1.1957003175874041,
          -0.6847477445155686,
          0.3532720947034832,
          -0.9822215652229147,
          1.8903588330351633,
          -1.2185581471846825,
          -0.47491038477560793,
          -1.5308004157280413,
          0.5954509698400305,
          -1.5231649685727835,
          1.09090710578571,
          -1.1843576060160603,
          0.3008467399765999,
          -1.0405160438763361,
          1.3505121245054121,
          -0.7403398142591745,
          0.8478645895547018,
          -0.9417144247726056,
          1.102638780843708,
          -1.8314409514521095,
          1.4809790578020487,
          -1.3899956263663313,
          1.332874085825484,
          -1.2566591022257798,
          1.0400427519858508,
          -1.572932627552525,
          0.48498354746986033,
          -1.741333333956159,
          1.4544595776235616,
          -1.0154088393030463,
          1.2192846616012647,
          -1.6970920608952713,
          0.2641574863393428,
          -0.4213248389828146,
          1.3069869943602073,
          -0.9388057928888912,
          1.1895156128757858,
          -0.9972033830292621,
          1.427160784754444,
          -1.6056555955257497,
          2.1420500635099193,
          -0.8284024409658707,
          2.21692492706295,
          -0.9946300156859507,
          0.17786775565644394,
          -1.509008325022455,
          1.5473086450691267,
          -1.7106800597086937,
          0.18820561172151704,
          -1.4295356877643848,
          1.2295390899347105,
          -0.7553848018404682,
          0.7739577057261308,
          -1.2862606425463132,
          0.2683756088121518,
          -1.0570570612653005,
          1.0887092711656507,
          -1.3498493540651342,
          1.0928883525986595,
          -1.1795717394785494,
          0.6727511283562378,
          -0.7237191611767158,
          0.7670962256094744,
          -1.0650152362020744
         ],
         "xaxis": "x",
         "y": [
          -0.5207136347541774,
          -0.36731019850645896,
          -1.8940677431734179,
          -1.6319080463761118,
          -1.810482722947552,
          -1.5992641803386454,
          -1.9472711231346218,
          -1.5053736875274328,
          -0.8829876717475735,
          -1.61640464130695,
          -0.8612370431432376,
          -1.5454278393385161,
          -2.0239447888163236,
          -1.5225125897317842,
          -0.6127909605390367,
          -0.23671914937156216,
          -1.7434457225503466,
          -0.24471564122900893,
          -0.572676027551779,
          -1.432597744753724,
          -0.3929211449929116,
          -0.1662475110338923,
          -1.8286693574393091,
          -0.18168701739897303,
          -1.7645119588688007,
          -0.04311506139166018,
          -1.6254161367177855,
          -0.17190696972128272,
          -1.5630064477055972,
          -1.2121199030829235,
          -0.5279135219026126,
          -1.2241232127435866,
          -0.38819564740584306,
          0.2248552703059974,
          -1.5812585396653882,
          -1.104440986026851,
          -1.4879386679529738,
          -1.1742594020487025,
          -1.3196008889709394,
          -1.0042035247144594,
          -1.4701325172117263,
          0.3262526763289247,
          -0.04751483040251073,
          -1.0837365309459666,
          -1.3499077218383493,
          -1.0156190695273388,
          -1.2199558687981913,
          -1.0808569291192693,
          -1.1157739296227112,
          -1.130656841110072,
          -1.1661164102701551,
          0.2478983173208912,
          -0.9949473431804717,
          0.08362969608220033,
          -1.1723963625393465,
          0.0967976267452591,
          -1.1305945011699443,
          -0.017671082502629037,
          -0.889574289324392,
          0.15981066559026302,
          0.07337409597985638,
          0.4488815211043456,
          -1.1540164731713936,
          -1.029229823881034,
          0.1638486533635431,
          0.5307687042548949,
          -0.9542259428324917,
          -1.1482759720309368,
          0.5233272485112145,
          -0.884390383061655,
          0.15699496246764635,
          -0.9868370801359413,
          -1.0263190520842724,
          -0.9982713274617593,
          0.35284257370741284,
          0.6264583378713825,
          -0.7818330323281919,
          0.49823705064055857,
          -0.6221278237704371,
          -0.8556738511382918,
          0.38375275640763856,
          0.5411676867504328,
          0.26927002093867186,
          -0.8253358483008179,
          -0.5872108232669951,
          0.4306917690846822,
          -0.7485858164579098,
          -0.5150382303261019,
          -0.5550923821371849,
          -0.7302511232810993,
          -0.7989267383414006,
          0.7799474928640268,
          0.6179675910763432,
          -0.6214590164695871,
          -0.5539137349137108,
          0.8085829823343237,
          -0.6455014820528375,
          -0.48465191376957906,
          0.6191290945508322,
          0.8555375799963992,
          -0.4325289948297984,
          -0.5979591195429782,
          0.5750665661725796,
          0.8641389804506153,
          0.69699231614918,
          -0.4136392655392211,
          -0.6872410034821121,
          0.6489260874956179,
          0.5327252536744425,
          0.5676422541778843,
          0.5911109811344294,
          -0.3214653123162641,
          -0.4817255569877855,
          0.9385862666214375,
          -0.2796463071978764,
          -0.2790741273351246,
          -0.6345459046795797,
          -0.46625643941659406,
          -0.48682997956140955,
          -0.4232930745727027,
          1.0067504829951615,
          -0.4021115083032116,
          -0.2864532431386773,
          1.1161100933775656,
          -0.24693698369237577,
          -0.11414137508744357,
          0.9203809296167421,
          1.1831143650407538,
          0.7051540104406663,
          1.1178609204637915,
          0.7864378437583998,
          1.1104194647201109,
          -0.1833673499696517,
          -0.07976382571273645,
          1.0297483338189128,
          0.03244421652630146,
          -0.40372986168941577,
          1.2129144755134462,
          1.086433106675676,
          -0.047104374690238024,
          -0.45006396576969027,
          1.351469287771774,
          -0.06481389799338783,
          0.09374071578305003,
          1.1374256921110317,
          1.4556808381533646,
          1.0624358372835683,
          0.07086131243824195,
          -0.12316689671935789,
          1.4121936071657706,
          1.0527228058378657,
          1.3669726928409356,
          -0.2055950897625951,
          0.06343544167959328,
          -0.24394672820650132,
          0.19738008630188902,
          1.03326245544849,
          0.13098072323546964,
          1.0555868226795315,
          0.11094663421938879,
          -0.20558106354151645,
          0.18766549609223304,
          1.27086361433861,
          0.27126921883103794,
          1.241158572540062,
          0.2787761320427528,
          1.3058585397672116,
          0.41044608343511974,
          0.14486733368238094,
          1.5817754908393138,
          1.3219029547290613,
          1.6596231274526296,
          1.3396483242941348,
          1.6682073841578606,
          -0.001082179364531512,
          0.45512754663121985,
          1.2251796150462464,
          1.6722329044740152,
          1.3597774819843604,
          1.8428905728771214,
          0.44955224792480203,
          0.7031276880168776,
          1.6065693649404333,
          0.7626749189513535,
          0.5062526057665974,
          2.0834009448000494,
          0.4078298702445126,
          2.0405045961881454,
          0.53493952648385,
          0.8446104158209519,
          0.6110706235089105,
          0.8102671539442153,
          2.113398986440798,
          1.1458606921229089,
          0.9828408518675859,
          1.324567842394371,
          1.221060945575554,
          2.7650103824577728,
          2.861930094544691,
          3.137256163241102
         ],
         "yaxis": "y"
        }
       ],
       "layout": {
        "coloraxis": {
         "colorbar": {
          "title": {
           "text": "color"
          }
         },
         "colorscale": [
          [
           0,
           "#0d0887"
          ],
          [
           0.1111111111111111,
           "#46039f"
          ],
          [
           0.2222222222222222,
           "#7201a8"
          ],
          [
           0.3333333333333333,
           "#9c179e"
          ],
          [
           0.4444444444444444,
           "#bd3786"
          ],
          [
           0.5555555555555556,
           "#d8576b"
          ],
          [
           0.6666666666666666,
           "#ed7953"
          ],
          [
           0.7777777777777778,
           "#fb9f3a"
          ],
          [
           0.8888888888888888,
           "#fdca26"
          ],
          [
           1,
           "#f0f921"
          ]
         ]
        },
        "height": 500,
        "legend": {
         "tracegroupgap": 0
        },
        "margin": {
         "t": 60
        },
        "template": {
         "data": {
          "bar": [
           {
            "error_x": {
             "color": "#2a3f5f"
            },
            "error_y": {
             "color": "#2a3f5f"
            },
            "marker": {
             "line": {
              "color": "#E5ECF6",
              "width": 0.5
             },
             "pattern": {
              "fillmode": "overlay",
              "size": 10,
              "solidity": 0.2
             }
            },
            "type": "bar"
           }
          ],
          "barpolar": [
           {
            "marker": {
             "line": {
              "color": "#E5ECF6",
              "width": 0.5
             },
             "pattern": {
              "fillmode": "overlay",
              "size": 10,
              "solidity": 0.2
             }
            },
            "type": "barpolar"
           }
          ],
          "carpet": [
           {
            "aaxis": {
             "endlinecolor": "#2a3f5f",
             "gridcolor": "white",
             "linecolor": "white",
             "minorgridcolor": "white",
             "startlinecolor": "#2a3f5f"
            },
            "baxis": {
             "endlinecolor": "#2a3f5f",
             "gridcolor": "white",
             "linecolor": "white",
             "minorgridcolor": "white",
             "startlinecolor": "#2a3f5f"
            },
            "type": "carpet"
           }
          ],
          "choropleth": [
           {
            "colorbar": {
             "outlinewidth": 0,
             "ticks": ""
            },
            "type": "choropleth"
           }
          ],
          "contour": [
           {
            "colorbar": {
             "outlinewidth": 0,
             "ticks": ""
            },
            "colorscale": [
             [
              0,
              "#0d0887"
             ],
             [
              0.1111111111111111,
              "#46039f"
             ],
             [
              0.2222222222222222,
              "#7201a8"
             ],
             [
              0.3333333333333333,
              "#9c179e"
             ],
             [
              0.4444444444444444,
              "#bd3786"
             ],
             [
              0.5555555555555556,
              "#d8576b"
             ],
             [
              0.6666666666666666,
              "#ed7953"
             ],
             [
              0.7777777777777778,
              "#fb9f3a"
             ],
             [
              0.8888888888888888,
              "#fdca26"
             ],
             [
              1,
              "#f0f921"
             ]
            ],
            "type": "contour"
           }
          ],
          "contourcarpet": [
           {
            "colorbar": {
             "outlinewidth": 0,
             "ticks": ""
            },
            "type": "contourcarpet"
           }
          ],
          "heatmap": [
           {
            "colorbar": {
             "outlinewidth": 0,
             "ticks": ""
            },
            "colorscale": [
             [
              0,
              "#0d0887"
             ],
             [
              0.1111111111111111,
              "#46039f"
             ],
             [
              0.2222222222222222,
              "#7201a8"
             ],
             [
              0.3333333333333333,
              "#9c179e"
             ],
             [
              0.4444444444444444,
              "#bd3786"
             ],
             [
              0.5555555555555556,
              "#d8576b"
             ],
             [
              0.6666666666666666,
              "#ed7953"
             ],
             [
              0.7777777777777778,
              "#fb9f3a"
             ],
             [
              0.8888888888888888,
              "#fdca26"
             ],
             [
              1,
              "#f0f921"
             ]
            ],
            "type": "heatmap"
           }
          ],
          "heatmapgl": [
           {
            "colorbar": {
             "outlinewidth": 0,
             "ticks": ""
            },
            "colorscale": [
             [
              0,
              "#0d0887"
             ],
             [
              0.1111111111111111,
              "#46039f"
             ],
             [
              0.2222222222222222,
              "#7201a8"
             ],
             [
              0.3333333333333333,
              "#9c179e"
             ],
             [
              0.4444444444444444,
              "#bd3786"
             ],
             [
              0.5555555555555556,
              "#d8576b"
             ],
             [
              0.6666666666666666,
              "#ed7953"
             ],
             [
              0.7777777777777778,
              "#fb9f3a"
             ],
             [
              0.8888888888888888,
              "#fdca26"
             ],
             [
              1,
              "#f0f921"
             ]
            ],
            "type": "heatmapgl"
           }
          ],
          "histogram": [
           {
            "marker": {
             "pattern": {
              "fillmode": "overlay",
              "size": 10,
              "solidity": 0.2
             }
            },
            "type": "histogram"
           }
          ],
          "histogram2d": [
           {
            "colorbar": {
             "outlinewidth": 0,
             "ticks": ""
            },
            "colorscale": [
             [
              0,
              "#0d0887"
             ],
             [
              0.1111111111111111,
              "#46039f"
             ],
             [
              0.2222222222222222,
              "#7201a8"
             ],
             [
              0.3333333333333333,
              "#9c179e"
             ],
             [
              0.4444444444444444,
              "#bd3786"
             ],
             [
              0.5555555555555556,
              "#d8576b"
             ],
             [
              0.6666666666666666,
              "#ed7953"
             ],
             [
              0.7777777777777778,
              "#fb9f3a"
             ],
             [
              0.8888888888888888,
              "#fdca26"
             ],
             [
              1,
              "#f0f921"
             ]
            ],
            "type": "histogram2d"
           }
          ],
          "histogram2dcontour": [
           {
            "colorbar": {
             "outlinewidth": 0,
             "ticks": ""
            },
            "colorscale": [
             [
              0,
              "#0d0887"
             ],
             [
              0.1111111111111111,
              "#46039f"
             ],
             [
              0.2222222222222222,
              "#7201a8"
             ],
             [
              0.3333333333333333,
              "#9c179e"
             ],
             [
              0.4444444444444444,
              "#bd3786"
             ],
             [
              0.5555555555555556,
              "#d8576b"
             ],
             [
              0.6666666666666666,
              "#ed7953"
             ],
             [
              0.7777777777777778,
              "#fb9f3a"
             ],
             [
              0.8888888888888888,
              "#fdca26"
             ],
             [
              1,
              "#f0f921"
             ]
            ],
            "type": "histogram2dcontour"
           }
          ],
          "mesh3d": [
           {
            "colorbar": {
             "outlinewidth": 0,
             "ticks": ""
            },
            "type": "mesh3d"
           }
          ],
          "parcoords": [
           {
            "line": {
             "colorbar": {
              "outlinewidth": 0,
              "ticks": ""
             }
            },
            "type": "parcoords"
           }
          ],
          "pie": [
           {
            "automargin": true,
            "type": "pie"
           }
          ],
          "scatter": [
           {
            "fillpattern": {
             "fillmode": "overlay",
             "size": 10,
             "solidity": 0.2
            },
            "type": "scatter"
           }
          ],
          "scatter3d": [
           {
            "line": {
             "colorbar": {
              "outlinewidth": 0,
              "ticks": ""
             }
            },
            "marker": {
             "colorbar": {
              "outlinewidth": 0,
              "ticks": ""
             }
            },
            "type": "scatter3d"
           }
          ],
          "scattercarpet": [
           {
            "marker": {
             "colorbar": {
              "outlinewidth": 0,
              "ticks": ""
             }
            },
            "type": "scattercarpet"
           }
          ],
          "scattergeo": [
           {
            "marker": {
             "colorbar": {
              "outlinewidth": 0,
              "ticks": ""
             }
            },
            "type": "scattergeo"
           }
          ],
          "scattergl": [
           {
            "marker": {
             "colorbar": {
              "outlinewidth": 0,
              "ticks": ""
             }
            },
            "type": "scattergl"
           }
          ],
          "scattermapbox": [
           {
            "marker": {
             "colorbar": {
              "outlinewidth": 0,
              "ticks": ""
             }
            },
            "type": "scattermapbox"
           }
          ],
          "scatterpolar": [
           {
            "marker": {
             "colorbar": {
              "outlinewidth": 0,
              "ticks": ""
             }
            },
            "type": "scatterpolar"
           }
          ],
          "scatterpolargl": [
           {
            "marker": {
             "colorbar": {
              "outlinewidth": 0,
              "ticks": ""
             }
            },
            "type": "scatterpolargl"
           }
          ],
          "scatterternary": [
           {
            "marker": {
             "colorbar": {
              "outlinewidth": 0,
              "ticks": ""
             }
            },
            "type": "scatterternary"
           }
          ],
          "surface": [
           {
            "colorbar": {
             "outlinewidth": 0,
             "ticks": ""
            },
            "colorscale": [
             [
              0,
              "#0d0887"
             ],
             [
              0.1111111111111111,
              "#46039f"
             ],
             [
              0.2222222222222222,
              "#7201a8"
             ],
             [
              0.3333333333333333,
              "#9c179e"
             ],
             [
              0.4444444444444444,
              "#bd3786"
             ],
             [
              0.5555555555555556,
              "#d8576b"
             ],
             [
              0.6666666666666666,
              "#ed7953"
             ],
             [
              0.7777777777777778,
              "#fb9f3a"
             ],
             [
              0.8888888888888888,
              "#fdca26"
             ],
             [
              1,
              "#f0f921"
             ]
            ],
            "type": "surface"
           }
          ],
          "table": [
           {
            "cells": {
             "fill": {
              "color": "#EBF0F8"
             },
             "line": {
              "color": "white"
             }
            },
            "header": {
             "fill": {
              "color": "#C8D4E3"
             },
             "line": {
              "color": "white"
             }
            },
            "type": "table"
           }
          ]
         },
         "layout": {
          "annotationdefaults": {
           "arrowcolor": "#2a3f5f",
           "arrowhead": 0,
           "arrowwidth": 1
          },
          "autotypenumbers": "strict",
          "coloraxis": {
           "colorbar": {
            "outlinewidth": 0,
            "ticks": ""
           }
          },
          "colorscale": {
           "diverging": [
            [
             0,
             "#8e0152"
            ],
            [
             0.1,
             "#c51b7d"
            ],
            [
             0.2,
             "#de77ae"
            ],
            [
             0.3,
             "#f1b6da"
            ],
            [
             0.4,
             "#fde0ef"
            ],
            [
             0.5,
             "#f7f7f7"
            ],
            [
             0.6,
             "#e6f5d0"
            ],
            [
             0.7,
             "#b8e186"
            ],
            [
             0.8,
             "#7fbc41"
            ],
            [
             0.9,
             "#4d9221"
            ],
            [
             1,
             "#276419"
            ]
           ],
           "sequential": [
            [
             0,
             "#0d0887"
            ],
            [
             0.1111111111111111,
             "#46039f"
            ],
            [
             0.2222222222222222,
             "#7201a8"
            ],
            [
             0.3333333333333333,
             "#9c179e"
            ],
            [
             0.4444444444444444,
             "#bd3786"
            ],
            [
             0.5555555555555556,
             "#d8576b"
            ],
            [
             0.6666666666666666,
             "#ed7953"
            ],
            [
             0.7777777777777778,
             "#fb9f3a"
            ],
            [
             0.8888888888888888,
             "#fdca26"
            ],
            [
             1,
             "#f0f921"
            ]
           ],
           "sequentialminus": [
            [
             0,
             "#0d0887"
            ],
            [
             0.1111111111111111,
             "#46039f"
            ],
            [
             0.2222222222222222,
             "#7201a8"
            ],
            [
             0.3333333333333333,
             "#9c179e"
            ],
            [
             0.4444444444444444,
             "#bd3786"
            ],
            [
             0.5555555555555556,
             "#d8576b"
            ],
            [
             0.6666666666666666,
             "#ed7953"
            ],
            [
             0.7777777777777778,
             "#fb9f3a"
            ],
            [
             0.8888888888888888,
             "#fdca26"
            ],
            [
             1,
             "#f0f921"
            ]
           ]
          },
          "colorway": [
           "#636efa",
           "#EF553B",
           "#00cc96",
           "#ab63fa",
           "#FFA15A",
           "#19d3f3",
           "#FF6692",
           "#B6E880",
           "#FF97FF",
           "#FECB52"
          ],
          "font": {
           "color": "#2a3f5f"
          },
          "geo": {
           "bgcolor": "white",
           "lakecolor": "white",
           "landcolor": "#E5ECF6",
           "showlakes": true,
           "showland": true,
           "subunitcolor": "white"
          },
          "hoverlabel": {
           "align": "left"
          },
          "hovermode": "closest",
          "mapbox": {
           "style": "light"
          },
          "paper_bgcolor": "white",
          "plot_bgcolor": "#E5ECF6",
          "polar": {
           "angularaxis": {
            "gridcolor": "white",
            "linecolor": "white",
            "ticks": ""
           },
           "bgcolor": "#E5ECF6",
           "radialaxis": {
            "gridcolor": "white",
            "linecolor": "white",
            "ticks": ""
           }
          },
          "scene": {
           "xaxis": {
            "backgroundcolor": "#E5ECF6",
            "gridcolor": "white",
            "gridwidth": 2,
            "linecolor": "white",
            "showbackground": true,
            "ticks": "",
            "zerolinecolor": "white"
           },
           "yaxis": {
            "backgroundcolor": "#E5ECF6",
            "gridcolor": "white",
            "gridwidth": 2,
            "linecolor": "white",
            "showbackground": true,
            "ticks": "",
            "zerolinecolor": "white"
           },
           "zaxis": {
            "backgroundcolor": "#E5ECF6",
            "gridcolor": "white",
            "gridwidth": 2,
            "linecolor": "white",
            "showbackground": true,
            "ticks": "",
            "zerolinecolor": "white"
           }
          },
          "shapedefaults": {
           "line": {
            "color": "#2a3f5f"
           }
          },
          "ternary": {
           "aaxis": {
            "gridcolor": "white",
            "linecolor": "white",
            "ticks": ""
           },
           "baxis": {
            "gridcolor": "white",
            "linecolor": "white",
            "ticks": ""
           },
           "bgcolor": "#E5ECF6",
           "caxis": {
            "gridcolor": "white",
            "linecolor": "white",
            "ticks": ""
           }
          },
          "title": {
           "x": 0.05
          },
          "xaxis": {
           "automargin": true,
           "gridcolor": "white",
           "linecolor": "white",
           "ticks": "",
           "title": {
            "standoff": 15
           },
           "zerolinecolor": "white",
           "zerolinewidth": 2
          },
          "yaxis": {
           "automargin": true,
           "gridcolor": "white",
           "linecolor": "white",
           "ticks": "",
           "title": {
            "standoff": 15
           },
           "zerolinecolor": "white",
           "zerolinewidth": 2
          }
         }
        },
        "title": {
         "text": "Agrupamento DBSCAN"
        },
        "width": 800,
        "xaxis": {
         "anchor": "y",
         "domain": [
          0,
          1
         ],
         "title": {
          "text": "x"
         }
        },
        "yaxis": {
         "anchor": "x",
         "domain": [
          0,
          1
         ],
         "title": {
          "text": "y"
         }
        }
       }
      }
     },
     "metadata": {},
     "output_type": "display_data"
    },
    {
     "data": {
      "text/plain": [
       "None"
      ]
     },
     "metadata": {},
     "output_type": "display_data"
    },
    {
     "data": {
      "text/html": [
       "<div>\n",
       "<style scoped>\n",
       "    .dataframe tbody tr th:only-of-type {\n",
       "        vertical-align: middle;\n",
       "    }\n",
       "\n",
       "    .dataframe tbody tr th {\n",
       "        vertical-align: top;\n",
       "    }\n",
       "\n",
       "    .dataframe thead th {\n",
       "        text-align: right;\n",
       "    }\n",
       "</style>\n",
       "<table border=\"1\" class=\"dataframe\">\n",
       "  <thead>\n",
       "    <tr style=\"text-align: right;\">\n",
       "      <th></th>\n",
       "      <th>identificacao</th>\n",
       "      <th>genero</th>\n",
       "      <th>idade</th>\n",
       "      <th>rendimento</th>\n",
       "      <th>pontuacao</th>\n",
       "      <th>cluster</th>\n",
       "    </tr>\n",
       "  </thead>\n",
       "  <tbody>\n",
       "    <tr>\n",
       "      <th>0</th>\n",
       "      <td>1</td>\n",
       "      <td>Male</td>\n",
       "      <td>19</td>\n",
       "      <td>15</td>\n",
       "      <td>39</td>\n",
       "      <td>0</td>\n",
       "    </tr>\n",
       "    <tr>\n",
       "      <th>1</th>\n",
       "      <td>2</td>\n",
       "      <td>Male</td>\n",
       "      <td>21</td>\n",
       "      <td>15</td>\n",
       "      <td>81</td>\n",
       "      <td>0</td>\n",
       "    </tr>\n",
       "    <tr>\n",
       "      <th>2</th>\n",
       "      <td>3</td>\n",
       "      <td>Female</td>\n",
       "      <td>20</td>\n",
       "      <td>16</td>\n",
       "      <td>6</td>\n",
       "      <td>-1</td>\n",
       "    </tr>\n",
       "    <tr>\n",
       "      <th>3</th>\n",
       "      <td>4</td>\n",
       "      <td>Female</td>\n",
       "      <td>23</td>\n",
       "      <td>16</td>\n",
       "      <td>77</td>\n",
       "      <td>1</td>\n",
       "    </tr>\n",
       "    <tr>\n",
       "      <th>4</th>\n",
       "      <td>5</td>\n",
       "      <td>Female</td>\n",
       "      <td>31</td>\n",
       "      <td>17</td>\n",
       "      <td>40</td>\n",
       "      <td>-1</td>\n",
       "    </tr>\n",
       "    <tr>\n",
       "      <th>...</th>\n",
       "      <td>...</td>\n",
       "      <td>...</td>\n",
       "      <td>...</td>\n",
       "      <td>...</td>\n",
       "      <td>...</td>\n",
       "      <td>...</td>\n",
       "    </tr>\n",
       "    <tr>\n",
       "      <th>195</th>\n",
       "      <td>196</td>\n",
       "      <td>Female</td>\n",
       "      <td>35</td>\n",
       "      <td>120</td>\n",
       "      <td>79</td>\n",
       "      <td>0</td>\n",
       "    </tr>\n",
       "    <tr>\n",
       "      <th>196</th>\n",
       "      <td>197</td>\n",
       "      <td>Female</td>\n",
       "      <td>45</td>\n",
       "      <td>126</td>\n",
       "      <td>28</td>\n",
       "      <td>4</td>\n",
       "    </tr>\n",
       "    <tr>\n",
       "      <th>197</th>\n",
       "      <td>198</td>\n",
       "      <td>Male</td>\n",
       "      <td>32</td>\n",
       "      <td>126</td>\n",
       "      <td>74</td>\n",
       "      <td>-1</td>\n",
       "    </tr>\n",
       "    <tr>\n",
       "      <th>198</th>\n",
       "      <td>199</td>\n",
       "      <td>Male</td>\n",
       "      <td>32</td>\n",
       "      <td>137</td>\n",
       "      <td>18</td>\n",
       "      <td>-1</td>\n",
       "    </tr>\n",
       "    <tr>\n",
       "      <th>199</th>\n",
       "      <td>200</td>\n",
       "      <td>Male</td>\n",
       "      <td>30</td>\n",
       "      <td>137</td>\n",
       "      <td>83</td>\n",
       "      <td>-1</td>\n",
       "    </tr>\n",
       "  </tbody>\n",
       "</table>\n",
       "<p>200 rows × 6 columns</p>\n",
       "</div>"
      ],
      "text/plain": [
       "     identificacao  genero  idade  rendimento  pontuacao  cluster\n",
       "0                1    Male     19          15         39        0\n",
       "1                2    Male     21          15         81        0\n",
       "2                3  Female     20          16          6       -1\n",
       "3                4  Female     23          16         77        1\n",
       "4                5  Female     31          17         40       -1\n",
       "..             ...     ...    ...         ...        ...      ...\n",
       "195            196  Female     35         120         79        0\n",
       "196            197  Female     45         126         28        4\n",
       "197            198    Male     32         126         74       -1\n",
       "198            199    Male     32         137         18       -1\n",
       "199            200    Male     30         137         83       -1\n",
       "\n",
       "[200 rows x 6 columns]"
      ]
     },
     "execution_count": 23,
     "metadata": {},
     "output_type": "execute_result"
    }
   ],
   "source": [
    "print('Resultados DBSCAN - Pontos Negativos são os Ruídos/Outliers')\n",
    "display(dbscan(df2, list(df2.columns), 3))\n",
    "print()\n",
    "print('Gráfico da Clusterização')\n",
    "display(plota_clusters_dbscan(df2, list(df2.columns), dbscan(df2, list(df2.columns), 3)))\n",
    "agrupamento_dbscan_esc_pca = df.copy()\n",
    "agrupamento_dbscan_esc_pca['cluster'] = dbscan(df2, list(df2.columns), 3)[0]\n",
    "agrupamento_dbscan_esc_pca"
   ]
  },
  {
   "cell_type": "markdown",
   "metadata": {},
   "source": [
    "> 1. Os dados tem diferenças de densidade, portanto, a Distribuição dos Clusters não ficaram muito interessantes "
   ]
  },
  {
   "cell_type": "markdown",
   "metadata": {},
   "source": [
    "## 5.4) MeanShift\n",
    "\n",
    "> CONSULTAR: \n",
    "\n",
    "https://medium.com/@isnardgurgel/an%C3%A1lises-com-algoritmos-de-clustering-40d52f36f67c\n",
    "\n",
    "### 1) Conceitos Fundamentais \n",
    "\n",
    "> 1. Diferentemente do K-Means, o Mean-Shift não requer a especificação do número de clusters\n",
    "\n",
    "> 2. Assim como o DBSCAN, o Mean-Shift procura regiões de alta densidade e afirma que ali existe clusters.\n",
    "\n",
    "> 3. Funcionamento\n",
    "\n",
    "- Ele começa como fazendo cada ponto um Cluster. \n",
    "- Posteriormente, ele calcula a média de um grupo de pontos dentro de uma Área Circular que ele cria para cada ponto\n",
    "- Por fim, ele analisa o ponto com maior Densidade em volta e faz a Clusterização\n",
    "    \n",
    "> 4. Vantagens\n",
    "\n",
    "- Robusto a OUTLIERS\n",
    "- Serve para vários tipos de aplicações\n",
    "- Pode detectar qualquer tipo de forma dependendo apenas do Número de Banda\n",
    "- Apenas um parâmetro para ser ajustado\n",
    "- Muito aplicado em Visão Computacional\n",
    "\n",
    "> 5. Desvantagens\n",
    "\n",
    "- Não funciona bem com dados de alta dimensionalidade\n",
    "- A parametrização da largura de banda não é tão simples\n",
    "- Computacionalmente caro\n",
    "\n",
    "### 2) Fundamentação \n",
    "\n",
    "<img src = './img450.png' width = '70%'>\n",
    "<img src = './img451.png' width = '70%'>\n",
    "<img src = './img452.png' width = '70%'>\n",
    "<img src = './img453.png' width = '70%'>"
   ]
  },
  {
   "cell_type": "markdown",
   "metadata": {},
   "source": [
    "### 3) Implementação do Algoritmo MeanShift em Python "
   ]
  },
  {
   "cell_type": "code",
   "execution_count": 26,
   "metadata": {},
   "outputs": [],
   "source": [
    "from sklearn.cluster import MeanShift\n",
    "from sklearn.preprocessing import StandardScaler\n",
    "from sklearn.decomposition import PCA \n",
    "\n",
    "def meanshift(data, features ,n_clusters):\n",
    "\n",
    "    scaler = StandardScaler()\n",
    "    padronizado = scaler.fit_transform(data[features])\n",
    "\n",
    "    pca = PCA(n_components=2)\n",
    "    padronizado_pca = pca.fit_transform(padronizado)\n",
    "    pca_variance_ratio = pca.explained_variance_ratio_\n",
    "\n",
    "    meanshift = MeanShift(bandwidth=1, cluster_all = True)\n",
    "    meanshift.fit(padronizado_pca)\n",
    "    clusters = meanshift.labels_\n",
    "\n",
    "    return clusters, pca_variance_ratio\n",
    "\n",
    "def plota_clusters_meanshift(data, features, model):\n",
    "\n",
    "    scaler = StandardScaler()\n",
    "    padronizado = scaler.fit_transform(data[features])\n",
    "\n",
    "    pca = PCA(n_components=2)\n",
    "    padronizado_pca = pca.fit_transform(padronizado)\n",
    "\n",
    "    graf= px.scatter(x = padronizado_pca[:, 0], y = padronizado_pca[:, 1], color = model[0])\n",
    "    graf.update_layout(width = 800, height = 500, title_text = 'Agrupamento Meanshift')\n",
    "    graf.show()\n",
    "\n"
   ]
  },
  {
   "cell_type": "code",
   "execution_count": 27,
   "metadata": {},
   "outputs": [
    {
     "name": "stdout",
     "output_type": "stream",
     "text": [
      "Resultados Meanshift - Pontos Negativos são os Ruídos/Outliers\n"
     ]
    },
    {
     "data": {
      "text/plain": [
       "(array([1, 1, 0, 1, 1, 1, 0, 1, 0, 1, 0, 1, 0, 1, 0, 1, 0, 1, 0, 1, 0, 1,\n",
       "        0, 1, 0, 1, 0, 1, 0, 1, 0, 1, 0, 1, 0, 1, 0, 1, 0, 1, 0, 1, 0, 1,\n",
       "        0, 1, 0, 1, 1, 1, 0, 1, 1, 0, 0, 0, 0, 0, 1, 0, 0, 2, 0, 0, 0, 2,\n",
       "        0, 0, 2, 1, 0, 0, 0, 0, 0, 2, 0, 0, 1, 0, 0, 0, 0, 0, 1, 0, 0, 1,\n",
       "        1, 0, 0, 2, 0, 0, 1, 2, 0, 1, 0, 2, 1, 0, 0, 2, 0, 1, 0, 0, 0, 0,\n",
       "        0, 1, 0, 2, 1, 1, 0, 0, 0, 0, 2, 0, 1, 2, 1, 1, 0, 2, 0, 2, 0, 2,\n",
       "        1, 1, 0, 1, 0, 2, 2, 1, 0, 2, 1, 1, 3, 2, 0, 1, 0, 2, 3, 2, 0, 1,\n",
       "        0, 1, 3, 1, 3, 1, 0, 1, 3, 1, 3, 1, 3, 2, 0, 2, 3, 2, 3, 2, 0, 2,\n",
       "        3, 2, 3, 2, 0, 2, 3, 2, 0, 2, 0, 2, 0, 2, 0, 2, 3, 2, 0, 2, 3, 3,\n",
       "        3, 2], dtype=int64),\n",
       " array([0.33690046, 0.26230645]))"
      ]
     },
     "metadata": {},
     "output_type": "display_data"
    },
    {
     "name": "stdout",
     "output_type": "stream",
     "text": [
      "\n",
      "Gráfico da Clusterização\n"
     ]
    },
    {
     "data": {
      "application/vnd.plotly.v1+json": {
       "config": {
        "plotlyServerURL": "https://plot.ly"
       },
       "data": [
        {
         "hovertemplate": "x=%{x}<br>y=%{y}<br>color=%{marker.color}<extra></extra>",
         "legendgroup": "",
         "marker": {
          "color": [
           1,
           1,
           0,
           1,
           1,
           1,
           0,
           1,
           0,
           1,
           0,
           1,
           0,
           1,
           0,
           1,
           0,
           1,
           0,
           1,
           0,
           1,
           0,
           1,
           0,
           1,
           0,
           1,
           0,
           1,
           0,
           1,
           0,
           1,
           0,
           1,
           0,
           1,
           0,
           1,
           0,
           1,
           0,
           1,
           0,
           1,
           0,
           1,
           1,
           1,
           0,
           1,
           1,
           0,
           0,
           0,
           0,
           0,
           1,
           0,
           0,
           2,
           0,
           0,
           0,
           2,
           0,
           0,
           2,
           1,
           0,
           0,
           0,
           0,
           0,
           2,
           0,
           0,
           1,
           0,
           0,
           0,
           0,
           0,
           1,
           0,
           0,
           1,
           1,
           0,
           0,
           2,
           0,
           0,
           1,
           2,
           0,
           1,
           0,
           2,
           1,
           0,
           0,
           2,
           0,
           1,
           0,
           0,
           0,
           0,
           0,
           1,
           0,
           2,
           1,
           1,
           0,
           0,
           0,
           0,
           2,
           0,
           1,
           2,
           1,
           1,
           0,
           2,
           0,
           2,
           0,
           2,
           1,
           1,
           0,
           1,
           0,
           2,
           2,
           1,
           0,
           2,
           1,
           1,
           3,
           2,
           0,
           1,
           0,
           2,
           3,
           2,
           0,
           1,
           0,
           1,
           3,
           1,
           3,
           1,
           0,
           1,
           3,
           1,
           3,
           1,
           3,
           2,
           0,
           2,
           3,
           2,
           3,
           2,
           0,
           2,
           3,
           2,
           3,
           2,
           0,
           2,
           3,
           2,
           0,
           2,
           0,
           2,
           0,
           2,
           0,
           2,
           3,
           2,
           0,
           2,
           3,
           3,
           3,
           2
          ],
          "coloraxis": "coloraxis",
          "symbol": "circle"
         },
         "mode": "markers",
         "name": "",
         "orientation": "v",
         "showlegend": false,
         "type": "scatter",
         "x": [
          -0.4063827151579576,
          -1.4276728699542192,
          0.05076057064984954,
          -1.6945131001694198,
          -0.31310838264528534,
          -1.717446272386951,
          0.790821124425765,
          -2.1483215883542024,
          2.774286226088666,
          -1.2162947672439113,
          2.629050844956016,
          -1.68947037764195,
          1.685822526686192,
          -1.6460733883910457,
          1.1744362769650292,
          -1.326130701573075,
          0.016772825250204734,
          -1.0784245398454704,
          1.4875878004377254,
          -1.6637316850276538,
          0.4880903105484115,
          -1.0189505128416625,
          1.3589149217937704,
          -0.7229727219419874,
          1.5131593111179218,
          -1.0624115725397174,
          0.5888329082822426,
          -0.20618822719627142,
          0.36842644009595854,
          -1.9642041381454185,
          2.5475919417038138,
          -1.6898306715897038,
          2.2013172145981366,
          -1.8732969500021581,
          1.265156925889713,
          -1.9038655693749473,
          0.8393445904066121,
          -1.2464443678738246,
          0.3024324438401296,
          -1.7941586766122872,
          1.4938759431071387,
          -1.5782477713162968,
          1.099728921816944,
          -0.8782291512115801,
          0.8904217399754475,
          -1.3304766384693385,
          0.21954068055520307,
          -0.7025923326402413,
          -0.4705191605153134,
          -0.37178251253093725,
          0.24970996494043884,
          -0.2815077131008868,
          -0.6924866296286217,
          1.0018365576425512,
          0.4855172696759459,
          0.91609546147039,
          0.40131691647412876,
          1.868629912104524,
          -0.8106544702734038,
          1.0782724221226068,
          1.6508608817087016,
          -0.840256337064783,
          1.1371790315325574,
          0.3087196858373394,
          1.4381548317970296,
          -0.9967581864763198,
          0.005441712322809547,
          1.292984421783733,
          -0.9473898624841315,
          -0.4576079371069289,
          1.676831727376451,
          0.4160212938629913,
          0.8709062189112109,
          0.6842350851144385,
          1.3459578368199967,
          -0.46986798871898383,
          0.022783527502133586,
          0.381292376140312,
          -1.036652295497895,
          0.5135971765800998,
          1.1405519695231792,
          0.09588459435916337,
          1.9009082577261638,
          0.3121575949473148,
          -1.2687254676228232,
          0.8295735777340377,
          0.3824337841231026,
          -1.166718993134775,
          -0.7078677824225224,
          0.45536766904603265,
          1.103759604398972,
          -0.5193003831583226,
          0.7481787449289854,
          0.12122395198590614,
          -0.3270572496078197,
          -0.5166629453678606,
          0.2801310861344508,
          -0.7872373081936429,
          0.9346177256723043,
          -0.6343664799057358,
          -0.7451691668163094,
          0.35173612318380965,
          1.4190395463925496,
          -0.49839251797472245,
          0.6104116290174942,
          -0.8705731196287966,
          1.1374308683413334,
          1.1236941442060848,
          1.894852594581049,
          1.6627794224561219,
          1.5067418791514924,
          -1.28954957860395,
          -0.03177591786850488,
          -0.6044293485739534,
          -1.179378379734383,
          -1.1833446653984159,
          1.1755327240546343,
          0.05769931091423529,
          0.58264853004147,
          0.15993793845573717,
          -0.47685226407791226,
          0.020862232627355207,
          -0.36087691240116165,
          -0.8182523512624237,
          -0.4270187333066135,
          -1.312102773118405,
          0.8721257089736008,
          -0.8760175526895843,
          2.302034208723259,
          -0.44140810411175324,
          1.7629489304732218,
          -0.39203978011956503,
          -0.4620829155696959,
          -1.1525632502566499,
          0.5362090958896766,
          -1.7048762333723555,
          1.1957003175874041,
          -0.6847477445155686,
          0.3532720947034832,
          -0.9822215652229147,
          1.8903588330351633,
          -1.2185581471846825,
          -0.47491038477560793,
          -1.5308004157280413,
          0.5954509698400305,
          -1.5231649685727835,
          1.09090710578571,
          -1.1843576060160603,
          0.3008467399765999,
          -1.0405160438763361,
          1.3505121245054121,
          -0.7403398142591745,
          0.8478645895547018,
          -0.9417144247726056,
          1.102638780843708,
          -1.8314409514521095,
          1.4809790578020487,
          -1.3899956263663313,
          1.332874085825484,
          -1.2566591022257798,
          1.0400427519858508,
          -1.572932627552525,
          0.48498354746986033,
          -1.741333333956159,
          1.4544595776235616,
          -1.0154088393030463,
          1.2192846616012647,
          -1.6970920608952713,
          0.2641574863393428,
          -0.4213248389828146,
          1.3069869943602073,
          -0.9388057928888912,
          1.1895156128757858,
          -0.9972033830292621,
          1.427160784754444,
          -1.6056555955257497,
          2.1420500635099193,
          -0.8284024409658707,
          2.21692492706295,
          -0.9946300156859507,
          0.17786775565644394,
          -1.509008325022455,
          1.5473086450691267,
          -1.7106800597086937,
          0.18820561172151704,
          -1.4295356877643848,
          1.2295390899347105,
          -0.7553848018404682,
          0.7739577057261308,
          -1.2862606425463132,
          0.2683756088121518,
          -1.0570570612653005,
          1.0887092711656507,
          -1.3498493540651342,
          1.0928883525986595,
          -1.1795717394785494,
          0.6727511283562378,
          -0.7237191611767158,
          0.7670962256094744,
          -1.0650152362020744
         ],
         "xaxis": "x",
         "y": [
          -0.5207136347541774,
          -0.36731019850645896,
          -1.8940677431734179,
          -1.6319080463761118,
          -1.810482722947552,
          -1.5992641803386454,
          -1.9472711231346218,
          -1.5053736875274328,
          -0.8829876717475735,
          -1.61640464130695,
          -0.8612370431432376,
          -1.5454278393385161,
          -2.0239447888163236,
          -1.5225125897317842,
          -0.6127909605390367,
          -0.23671914937156216,
          -1.7434457225503466,
          -0.24471564122900893,
          -0.572676027551779,
          -1.432597744753724,
          -0.3929211449929116,
          -0.1662475110338923,
          -1.8286693574393091,
          -0.18168701739897303,
          -1.7645119588688007,
          -0.04311506139166018,
          -1.6254161367177855,
          -0.17190696972128272,
          -1.5630064477055972,
          -1.2121199030829235,
          -0.5279135219026126,
          -1.2241232127435866,
          -0.38819564740584306,
          0.2248552703059974,
          -1.5812585396653882,
          -1.104440986026851,
          -1.4879386679529738,
          -1.1742594020487025,
          -1.3196008889709394,
          -1.0042035247144594,
          -1.4701325172117263,
          0.3262526763289247,
          -0.04751483040251073,
          -1.0837365309459666,
          -1.3499077218383493,
          -1.0156190695273388,
          -1.2199558687981913,
          -1.0808569291192693,
          -1.1157739296227112,
          -1.130656841110072,
          -1.1661164102701551,
          0.2478983173208912,
          -0.9949473431804717,
          0.08362969608220033,
          -1.1723963625393465,
          0.0967976267452591,
          -1.1305945011699443,
          -0.017671082502629037,
          -0.889574289324392,
          0.15981066559026302,
          0.07337409597985638,
          0.4488815211043456,
          -1.1540164731713936,
          -1.029229823881034,
          0.1638486533635431,
          0.5307687042548949,
          -0.9542259428324917,
          -1.1482759720309368,
          0.5233272485112145,
          -0.884390383061655,
          0.15699496246764635,
          -0.9868370801359413,
          -1.0263190520842724,
          -0.9982713274617593,
          0.35284257370741284,
          0.6264583378713825,
          -0.7818330323281919,
          0.49823705064055857,
          -0.6221278237704371,
          -0.8556738511382918,
          0.38375275640763856,
          0.5411676867504328,
          0.26927002093867186,
          -0.8253358483008179,
          -0.5872108232669951,
          0.4306917690846822,
          -0.7485858164579098,
          -0.5150382303261019,
          -0.5550923821371849,
          -0.7302511232810993,
          -0.7989267383414006,
          0.7799474928640268,
          0.6179675910763432,
          -0.6214590164695871,
          -0.5539137349137108,
          0.8085829823343237,
          -0.6455014820528375,
          -0.48465191376957906,
          0.6191290945508322,
          0.8555375799963992,
          -0.4325289948297984,
          -0.5979591195429782,
          0.5750665661725796,
          0.8641389804506153,
          0.69699231614918,
          -0.4136392655392211,
          -0.6872410034821121,
          0.6489260874956179,
          0.5327252536744425,
          0.5676422541778843,
          0.5911109811344294,
          -0.3214653123162641,
          -0.4817255569877855,
          0.9385862666214375,
          -0.2796463071978764,
          -0.2790741273351246,
          -0.6345459046795797,
          -0.46625643941659406,
          -0.48682997956140955,
          -0.4232930745727027,
          1.0067504829951615,
          -0.4021115083032116,
          -0.2864532431386773,
          1.1161100933775656,
          -0.24693698369237577,
          -0.11414137508744357,
          0.9203809296167421,
          1.1831143650407538,
          0.7051540104406663,
          1.1178609204637915,
          0.7864378437583998,
          1.1104194647201109,
          -0.1833673499696517,
          -0.07976382571273645,
          1.0297483338189128,
          0.03244421652630146,
          -0.40372986168941577,
          1.2129144755134462,
          1.086433106675676,
          -0.047104374690238024,
          -0.45006396576969027,
          1.351469287771774,
          -0.06481389799338783,
          0.09374071578305003,
          1.1374256921110317,
          1.4556808381533646,
          1.0624358372835683,
          0.07086131243824195,
          -0.12316689671935789,
          1.4121936071657706,
          1.0527228058378657,
          1.3669726928409356,
          -0.2055950897625951,
          0.06343544167959328,
          -0.24394672820650132,
          0.19738008630188902,
          1.03326245544849,
          0.13098072323546964,
          1.0555868226795315,
          0.11094663421938879,
          -0.20558106354151645,
          0.18766549609223304,
          1.27086361433861,
          0.27126921883103794,
          1.241158572540062,
          0.2787761320427528,
          1.3058585397672116,
          0.41044608343511974,
          0.14486733368238094,
          1.5817754908393138,
          1.3219029547290613,
          1.6596231274526296,
          1.3396483242941348,
          1.6682073841578606,
          -0.001082179364531512,
          0.45512754663121985,
          1.2251796150462464,
          1.6722329044740152,
          1.3597774819843604,
          1.8428905728771214,
          0.44955224792480203,
          0.7031276880168776,
          1.6065693649404333,
          0.7626749189513535,
          0.5062526057665974,
          2.0834009448000494,
          0.4078298702445126,
          2.0405045961881454,
          0.53493952648385,
          0.8446104158209519,
          0.6110706235089105,
          0.8102671539442153,
          2.113398986440798,
          1.1458606921229089,
          0.9828408518675859,
          1.324567842394371,
          1.221060945575554,
          2.7650103824577728,
          2.861930094544691,
          3.137256163241102
         ],
         "yaxis": "y"
        }
       ],
       "layout": {
        "coloraxis": {
         "colorbar": {
          "title": {
           "text": "color"
          }
         },
         "colorscale": [
          [
           0,
           "#0d0887"
          ],
          [
           0.1111111111111111,
           "#46039f"
          ],
          [
           0.2222222222222222,
           "#7201a8"
          ],
          [
           0.3333333333333333,
           "#9c179e"
          ],
          [
           0.4444444444444444,
           "#bd3786"
          ],
          [
           0.5555555555555556,
           "#d8576b"
          ],
          [
           0.6666666666666666,
           "#ed7953"
          ],
          [
           0.7777777777777778,
           "#fb9f3a"
          ],
          [
           0.8888888888888888,
           "#fdca26"
          ],
          [
           1,
           "#f0f921"
          ]
         ]
        },
        "height": 500,
        "legend": {
         "tracegroupgap": 0
        },
        "margin": {
         "t": 60
        },
        "template": {
         "data": {
          "bar": [
           {
            "error_x": {
             "color": "#2a3f5f"
            },
            "error_y": {
             "color": "#2a3f5f"
            },
            "marker": {
             "line": {
              "color": "#E5ECF6",
              "width": 0.5
             },
             "pattern": {
              "fillmode": "overlay",
              "size": 10,
              "solidity": 0.2
             }
            },
            "type": "bar"
           }
          ],
          "barpolar": [
           {
            "marker": {
             "line": {
              "color": "#E5ECF6",
              "width": 0.5
             },
             "pattern": {
              "fillmode": "overlay",
              "size": 10,
              "solidity": 0.2
             }
            },
            "type": "barpolar"
           }
          ],
          "carpet": [
           {
            "aaxis": {
             "endlinecolor": "#2a3f5f",
             "gridcolor": "white",
             "linecolor": "white",
             "minorgridcolor": "white",
             "startlinecolor": "#2a3f5f"
            },
            "baxis": {
             "endlinecolor": "#2a3f5f",
             "gridcolor": "white",
             "linecolor": "white",
             "minorgridcolor": "white",
             "startlinecolor": "#2a3f5f"
            },
            "type": "carpet"
           }
          ],
          "choropleth": [
           {
            "colorbar": {
             "outlinewidth": 0,
             "ticks": ""
            },
            "type": "choropleth"
           }
          ],
          "contour": [
           {
            "colorbar": {
             "outlinewidth": 0,
             "ticks": ""
            },
            "colorscale": [
             [
              0,
              "#0d0887"
             ],
             [
              0.1111111111111111,
              "#46039f"
             ],
             [
              0.2222222222222222,
              "#7201a8"
             ],
             [
              0.3333333333333333,
              "#9c179e"
             ],
             [
              0.4444444444444444,
              "#bd3786"
             ],
             [
              0.5555555555555556,
              "#d8576b"
             ],
             [
              0.6666666666666666,
              "#ed7953"
             ],
             [
              0.7777777777777778,
              "#fb9f3a"
             ],
             [
              0.8888888888888888,
              "#fdca26"
             ],
             [
              1,
              "#f0f921"
             ]
            ],
            "type": "contour"
           }
          ],
          "contourcarpet": [
           {
            "colorbar": {
             "outlinewidth": 0,
             "ticks": ""
            },
            "type": "contourcarpet"
           }
          ],
          "heatmap": [
           {
            "colorbar": {
             "outlinewidth": 0,
             "ticks": ""
            },
            "colorscale": [
             [
              0,
              "#0d0887"
             ],
             [
              0.1111111111111111,
              "#46039f"
             ],
             [
              0.2222222222222222,
              "#7201a8"
             ],
             [
              0.3333333333333333,
              "#9c179e"
             ],
             [
              0.4444444444444444,
              "#bd3786"
             ],
             [
              0.5555555555555556,
              "#d8576b"
             ],
             [
              0.6666666666666666,
              "#ed7953"
             ],
             [
              0.7777777777777778,
              "#fb9f3a"
             ],
             [
              0.8888888888888888,
              "#fdca26"
             ],
             [
              1,
              "#f0f921"
             ]
            ],
            "type": "heatmap"
           }
          ],
          "heatmapgl": [
           {
            "colorbar": {
             "outlinewidth": 0,
             "ticks": ""
            },
            "colorscale": [
             [
              0,
              "#0d0887"
             ],
             [
              0.1111111111111111,
              "#46039f"
             ],
             [
              0.2222222222222222,
              "#7201a8"
             ],
             [
              0.3333333333333333,
              "#9c179e"
             ],
             [
              0.4444444444444444,
              "#bd3786"
             ],
             [
              0.5555555555555556,
              "#d8576b"
             ],
             [
              0.6666666666666666,
              "#ed7953"
             ],
             [
              0.7777777777777778,
              "#fb9f3a"
             ],
             [
              0.8888888888888888,
              "#fdca26"
             ],
             [
              1,
              "#f0f921"
             ]
            ],
            "type": "heatmapgl"
           }
          ],
          "histogram": [
           {
            "marker": {
             "pattern": {
              "fillmode": "overlay",
              "size": 10,
              "solidity": 0.2
             }
            },
            "type": "histogram"
           }
          ],
          "histogram2d": [
           {
            "colorbar": {
             "outlinewidth": 0,
             "ticks": ""
            },
            "colorscale": [
             [
              0,
              "#0d0887"
             ],
             [
              0.1111111111111111,
              "#46039f"
             ],
             [
              0.2222222222222222,
              "#7201a8"
             ],
             [
              0.3333333333333333,
              "#9c179e"
             ],
             [
              0.4444444444444444,
              "#bd3786"
             ],
             [
              0.5555555555555556,
              "#d8576b"
             ],
             [
              0.6666666666666666,
              "#ed7953"
             ],
             [
              0.7777777777777778,
              "#fb9f3a"
             ],
             [
              0.8888888888888888,
              "#fdca26"
             ],
             [
              1,
              "#f0f921"
             ]
            ],
            "type": "histogram2d"
           }
          ],
          "histogram2dcontour": [
           {
            "colorbar": {
             "outlinewidth": 0,
             "ticks": ""
            },
            "colorscale": [
             [
              0,
              "#0d0887"
             ],
             [
              0.1111111111111111,
              "#46039f"
             ],
             [
              0.2222222222222222,
              "#7201a8"
             ],
             [
              0.3333333333333333,
              "#9c179e"
             ],
             [
              0.4444444444444444,
              "#bd3786"
             ],
             [
              0.5555555555555556,
              "#d8576b"
             ],
             [
              0.6666666666666666,
              "#ed7953"
             ],
             [
              0.7777777777777778,
              "#fb9f3a"
             ],
             [
              0.8888888888888888,
              "#fdca26"
             ],
             [
              1,
              "#f0f921"
             ]
            ],
            "type": "histogram2dcontour"
           }
          ],
          "mesh3d": [
           {
            "colorbar": {
             "outlinewidth": 0,
             "ticks": ""
            },
            "type": "mesh3d"
           }
          ],
          "parcoords": [
           {
            "line": {
             "colorbar": {
              "outlinewidth": 0,
              "ticks": ""
             }
            },
            "type": "parcoords"
           }
          ],
          "pie": [
           {
            "automargin": true,
            "type": "pie"
           }
          ],
          "scatter": [
           {
            "fillpattern": {
             "fillmode": "overlay",
             "size": 10,
             "solidity": 0.2
            },
            "type": "scatter"
           }
          ],
          "scatter3d": [
           {
            "line": {
             "colorbar": {
              "outlinewidth": 0,
              "ticks": ""
             }
            },
            "marker": {
             "colorbar": {
              "outlinewidth": 0,
              "ticks": ""
             }
            },
            "type": "scatter3d"
           }
          ],
          "scattercarpet": [
           {
            "marker": {
             "colorbar": {
              "outlinewidth": 0,
              "ticks": ""
             }
            },
            "type": "scattercarpet"
           }
          ],
          "scattergeo": [
           {
            "marker": {
             "colorbar": {
              "outlinewidth": 0,
              "ticks": ""
             }
            },
            "type": "scattergeo"
           }
          ],
          "scattergl": [
           {
            "marker": {
             "colorbar": {
              "outlinewidth": 0,
              "ticks": ""
             }
            },
            "type": "scattergl"
           }
          ],
          "scattermapbox": [
           {
            "marker": {
             "colorbar": {
              "outlinewidth": 0,
              "ticks": ""
             }
            },
            "type": "scattermapbox"
           }
          ],
          "scatterpolar": [
           {
            "marker": {
             "colorbar": {
              "outlinewidth": 0,
              "ticks": ""
             }
            },
            "type": "scatterpolar"
           }
          ],
          "scatterpolargl": [
           {
            "marker": {
             "colorbar": {
              "outlinewidth": 0,
              "ticks": ""
             }
            },
            "type": "scatterpolargl"
           }
          ],
          "scatterternary": [
           {
            "marker": {
             "colorbar": {
              "outlinewidth": 0,
              "ticks": ""
             }
            },
            "type": "scatterternary"
           }
          ],
          "surface": [
           {
            "colorbar": {
             "outlinewidth": 0,
             "ticks": ""
            },
            "colorscale": [
             [
              0,
              "#0d0887"
             ],
             [
              0.1111111111111111,
              "#46039f"
             ],
             [
              0.2222222222222222,
              "#7201a8"
             ],
             [
              0.3333333333333333,
              "#9c179e"
             ],
             [
              0.4444444444444444,
              "#bd3786"
             ],
             [
              0.5555555555555556,
              "#d8576b"
             ],
             [
              0.6666666666666666,
              "#ed7953"
             ],
             [
              0.7777777777777778,
              "#fb9f3a"
             ],
             [
              0.8888888888888888,
              "#fdca26"
             ],
             [
              1,
              "#f0f921"
             ]
            ],
            "type": "surface"
           }
          ],
          "table": [
           {
            "cells": {
             "fill": {
              "color": "#EBF0F8"
             },
             "line": {
              "color": "white"
             }
            },
            "header": {
             "fill": {
              "color": "#C8D4E3"
             },
             "line": {
              "color": "white"
             }
            },
            "type": "table"
           }
          ]
         },
         "layout": {
          "annotationdefaults": {
           "arrowcolor": "#2a3f5f",
           "arrowhead": 0,
           "arrowwidth": 1
          },
          "autotypenumbers": "strict",
          "coloraxis": {
           "colorbar": {
            "outlinewidth": 0,
            "ticks": ""
           }
          },
          "colorscale": {
           "diverging": [
            [
             0,
             "#8e0152"
            ],
            [
             0.1,
             "#c51b7d"
            ],
            [
             0.2,
             "#de77ae"
            ],
            [
             0.3,
             "#f1b6da"
            ],
            [
             0.4,
             "#fde0ef"
            ],
            [
             0.5,
             "#f7f7f7"
            ],
            [
             0.6,
             "#e6f5d0"
            ],
            [
             0.7,
             "#b8e186"
            ],
            [
             0.8,
             "#7fbc41"
            ],
            [
             0.9,
             "#4d9221"
            ],
            [
             1,
             "#276419"
            ]
           ],
           "sequential": [
            [
             0,
             "#0d0887"
            ],
            [
             0.1111111111111111,
             "#46039f"
            ],
            [
             0.2222222222222222,
             "#7201a8"
            ],
            [
             0.3333333333333333,
             "#9c179e"
            ],
            [
             0.4444444444444444,
             "#bd3786"
            ],
            [
             0.5555555555555556,
             "#d8576b"
            ],
            [
             0.6666666666666666,
             "#ed7953"
            ],
            [
             0.7777777777777778,
             "#fb9f3a"
            ],
            [
             0.8888888888888888,
             "#fdca26"
            ],
            [
             1,
             "#f0f921"
            ]
           ],
           "sequentialminus": [
            [
             0,
             "#0d0887"
            ],
            [
             0.1111111111111111,
             "#46039f"
            ],
            [
             0.2222222222222222,
             "#7201a8"
            ],
            [
             0.3333333333333333,
             "#9c179e"
            ],
            [
             0.4444444444444444,
             "#bd3786"
            ],
            [
             0.5555555555555556,
             "#d8576b"
            ],
            [
             0.6666666666666666,
             "#ed7953"
            ],
            [
             0.7777777777777778,
             "#fb9f3a"
            ],
            [
             0.8888888888888888,
             "#fdca26"
            ],
            [
             1,
             "#f0f921"
            ]
           ]
          },
          "colorway": [
           "#636efa",
           "#EF553B",
           "#00cc96",
           "#ab63fa",
           "#FFA15A",
           "#19d3f3",
           "#FF6692",
           "#B6E880",
           "#FF97FF",
           "#FECB52"
          ],
          "font": {
           "color": "#2a3f5f"
          },
          "geo": {
           "bgcolor": "white",
           "lakecolor": "white",
           "landcolor": "#E5ECF6",
           "showlakes": true,
           "showland": true,
           "subunitcolor": "white"
          },
          "hoverlabel": {
           "align": "left"
          },
          "hovermode": "closest",
          "mapbox": {
           "style": "light"
          },
          "paper_bgcolor": "white",
          "plot_bgcolor": "#E5ECF6",
          "polar": {
           "angularaxis": {
            "gridcolor": "white",
            "linecolor": "white",
            "ticks": ""
           },
           "bgcolor": "#E5ECF6",
           "radialaxis": {
            "gridcolor": "white",
            "linecolor": "white",
            "ticks": ""
           }
          },
          "scene": {
           "xaxis": {
            "backgroundcolor": "#E5ECF6",
            "gridcolor": "white",
            "gridwidth": 2,
            "linecolor": "white",
            "showbackground": true,
            "ticks": "",
            "zerolinecolor": "white"
           },
           "yaxis": {
            "backgroundcolor": "#E5ECF6",
            "gridcolor": "white",
            "gridwidth": 2,
            "linecolor": "white",
            "showbackground": true,
            "ticks": "",
            "zerolinecolor": "white"
           },
           "zaxis": {
            "backgroundcolor": "#E5ECF6",
            "gridcolor": "white",
            "gridwidth": 2,
            "linecolor": "white",
            "showbackground": true,
            "ticks": "",
            "zerolinecolor": "white"
           }
          },
          "shapedefaults": {
           "line": {
            "color": "#2a3f5f"
           }
          },
          "ternary": {
           "aaxis": {
            "gridcolor": "white",
            "linecolor": "white",
            "ticks": ""
           },
           "baxis": {
            "gridcolor": "white",
            "linecolor": "white",
            "ticks": ""
           },
           "bgcolor": "#E5ECF6",
           "caxis": {
            "gridcolor": "white",
            "linecolor": "white",
            "ticks": ""
           }
          },
          "title": {
           "x": 0.05
          },
          "xaxis": {
           "automargin": true,
           "gridcolor": "white",
           "linecolor": "white",
           "ticks": "",
           "title": {
            "standoff": 15
           },
           "zerolinecolor": "white",
           "zerolinewidth": 2
          },
          "yaxis": {
           "automargin": true,
           "gridcolor": "white",
           "linecolor": "white",
           "ticks": "",
           "title": {
            "standoff": 15
           },
           "zerolinecolor": "white",
           "zerolinewidth": 2
          }
         }
        },
        "title": {
         "text": "Agrupamento Meanshift"
        },
        "width": 800,
        "xaxis": {
         "anchor": "y",
         "domain": [
          0,
          1
         ],
         "title": {
          "text": "x"
         }
        },
        "yaxis": {
         "anchor": "x",
         "domain": [
          0,
          1
         ],
         "title": {
          "text": "y"
         }
        }
       }
      }
     },
     "metadata": {},
     "output_type": "display_data"
    },
    {
     "data": {
      "text/plain": [
       "None"
      ]
     },
     "metadata": {},
     "output_type": "display_data"
    },
    {
     "data": {
      "text/html": [
       "<div>\n",
       "<style scoped>\n",
       "    .dataframe tbody tr th:only-of-type {\n",
       "        vertical-align: middle;\n",
       "    }\n",
       "\n",
       "    .dataframe tbody tr th {\n",
       "        vertical-align: top;\n",
       "    }\n",
       "\n",
       "    .dataframe thead th {\n",
       "        text-align: right;\n",
       "    }\n",
       "</style>\n",
       "<table border=\"1\" class=\"dataframe\">\n",
       "  <thead>\n",
       "    <tr style=\"text-align: right;\">\n",
       "      <th></th>\n",
       "      <th>identificacao</th>\n",
       "      <th>genero</th>\n",
       "      <th>idade</th>\n",
       "      <th>rendimento</th>\n",
       "      <th>pontuacao</th>\n",
       "      <th>cluster</th>\n",
       "    </tr>\n",
       "  </thead>\n",
       "  <tbody>\n",
       "    <tr>\n",
       "      <th>0</th>\n",
       "      <td>1</td>\n",
       "      <td>Male</td>\n",
       "      <td>19</td>\n",
       "      <td>15</td>\n",
       "      <td>39</td>\n",
       "      <td>1</td>\n",
       "    </tr>\n",
       "    <tr>\n",
       "      <th>1</th>\n",
       "      <td>2</td>\n",
       "      <td>Male</td>\n",
       "      <td>21</td>\n",
       "      <td>15</td>\n",
       "      <td>81</td>\n",
       "      <td>1</td>\n",
       "    </tr>\n",
       "    <tr>\n",
       "      <th>2</th>\n",
       "      <td>3</td>\n",
       "      <td>Female</td>\n",
       "      <td>20</td>\n",
       "      <td>16</td>\n",
       "      <td>6</td>\n",
       "      <td>0</td>\n",
       "    </tr>\n",
       "    <tr>\n",
       "      <th>3</th>\n",
       "      <td>4</td>\n",
       "      <td>Female</td>\n",
       "      <td>23</td>\n",
       "      <td>16</td>\n",
       "      <td>77</td>\n",
       "      <td>1</td>\n",
       "    </tr>\n",
       "    <tr>\n",
       "      <th>4</th>\n",
       "      <td>5</td>\n",
       "      <td>Female</td>\n",
       "      <td>31</td>\n",
       "      <td>17</td>\n",
       "      <td>40</td>\n",
       "      <td>1</td>\n",
       "    </tr>\n",
       "    <tr>\n",
       "      <th>...</th>\n",
       "      <td>...</td>\n",
       "      <td>...</td>\n",
       "      <td>...</td>\n",
       "      <td>...</td>\n",
       "      <td>...</td>\n",
       "      <td>...</td>\n",
       "    </tr>\n",
       "    <tr>\n",
       "      <th>195</th>\n",
       "      <td>196</td>\n",
       "      <td>Female</td>\n",
       "      <td>35</td>\n",
       "      <td>120</td>\n",
       "      <td>79</td>\n",
       "      <td>2</td>\n",
       "    </tr>\n",
       "    <tr>\n",
       "      <th>196</th>\n",
       "      <td>197</td>\n",
       "      <td>Female</td>\n",
       "      <td>45</td>\n",
       "      <td>126</td>\n",
       "      <td>28</td>\n",
       "      <td>3</td>\n",
       "    </tr>\n",
       "    <tr>\n",
       "      <th>197</th>\n",
       "      <td>198</td>\n",
       "      <td>Male</td>\n",
       "      <td>32</td>\n",
       "      <td>126</td>\n",
       "      <td>74</td>\n",
       "      <td>3</td>\n",
       "    </tr>\n",
       "    <tr>\n",
       "      <th>198</th>\n",
       "      <td>199</td>\n",
       "      <td>Male</td>\n",
       "      <td>32</td>\n",
       "      <td>137</td>\n",
       "      <td>18</td>\n",
       "      <td>3</td>\n",
       "    </tr>\n",
       "    <tr>\n",
       "      <th>199</th>\n",
       "      <td>200</td>\n",
       "      <td>Male</td>\n",
       "      <td>30</td>\n",
       "      <td>137</td>\n",
       "      <td>83</td>\n",
       "      <td>2</td>\n",
       "    </tr>\n",
       "  </tbody>\n",
       "</table>\n",
       "<p>200 rows × 6 columns</p>\n",
       "</div>"
      ],
      "text/plain": [
       "     identificacao  genero  idade  rendimento  pontuacao  cluster\n",
       "0                1    Male     19          15         39        1\n",
       "1                2    Male     21          15         81        1\n",
       "2                3  Female     20          16          6        0\n",
       "3                4  Female     23          16         77        1\n",
       "4                5  Female     31          17         40        1\n",
       "..             ...     ...    ...         ...        ...      ...\n",
       "195            196  Female     35         120         79        2\n",
       "196            197  Female     45         126         28        3\n",
       "197            198    Male     32         126         74        3\n",
       "198            199    Male     32         137         18        3\n",
       "199            200    Male     30         137         83        2\n",
       "\n",
       "[200 rows x 6 columns]"
      ]
     },
     "execution_count": 27,
     "metadata": {},
     "output_type": "execute_result"
    }
   ],
   "source": [
    "print('Resultados Meanshift - Pontos Negativos são os Ruídos/Outliers')\n",
    "display(meanshift(df2, list(df2.columns), 3))\n",
    "print()\n",
    "print('Gráfico da Clusterização')\n",
    "display(plota_clusters_meanshift(df2, list(df2.columns), meanshift(df2, list(df2.columns), 3)))\n",
    "agrupamento_meanshift_esc_pca = df.copy()\n",
    "agrupamento_meanshift_esc_pca['cluster'] = meanshift(df2, list(df2.columns), 3)[0]\n",
    "agrupamento_meanshift_esc_pca"
   ]
  },
  {
   "cell_type": "markdown",
   "metadata": {},
   "source": [
    "## 5.5) K-Protypes \n",
    "\n",
    "> CONSULTAR:\n",
    "\n",
    "https://medium.com/@keswani-rohitkumar/k-prototypes-clustering-algorithm-f5d8e09a0104\n",
    "\n",
    "https://medium.com/analytics-vidhya/customer-segmentation-using-k-prototypes-algorithm-in-python-aad4acbaaede\n",
    "\n",
    "https://www.youtube.com/watch?v=Iit7y3H_yqY&ab_channel=AIDecoder\n",
    "\n",
    "### 1) Conceitos Fundamentais\n",
    "\n",
    "> 1. Algoritmo para Agrupamento de Dados Mistos (Categóricos e Numéricos)"
   ]
  },
  {
   "cell_type": "markdown",
   "metadata": {},
   "source": [
    "## 5.6) K-Modes \n",
    "\n",
    "> CONSULTAR: \n",
    "\n",
    "### 1) Conceitos Fundamentais\n",
    "\n",
    "> 1. Algoritmo para Agrupamento de Dados Categóricos"
   ]
  },
  {
   "cell_type": "markdown",
   "metadata": {},
   "source": [
    "# <font color='red' style='font-size: 40px;'>6.0 Segmentação de Vinhos </font>\n",
    "\n",
    "> CONSULTAR:\n",
    "\n",
    "https://www.kaggle.com/datasets/harrywang/wine-dataset-for-clustering\n"
   ]
  }
 ],
 "metadata": {
  "kernelspec": {
   "display_name": "Python 3.9.12 ('base')",
   "language": "python",
   "name": "python3"
  },
  "language_info": {
   "codemirror_mode": {
    "name": "ipython",
    "version": 3
   },
   "file_extension": ".py",
   "mimetype": "text/x-python",
   "name": "python",
   "nbconvert_exporter": "python",
   "pygments_lexer": "ipython3",
   "version": "3.9.12 (main, Apr  4 2022, 05:22:27) [MSC v.1916 64 bit (AMD64)]"
  },
  "orig_nbformat": 4,
  "vscode": {
   "interpreter": {
    "hash": "5a9a036f549c34521959f2e35c11282d59c2fa6997060d671aa6f29f1c44b680"
   }
  }
 },
 "nbformat": 4,
 "nbformat_minor": 2
}
